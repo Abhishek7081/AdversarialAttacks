{
  "nbformat": 4,
  "nbformat_minor": 0,
  "metadata": {
    "colab": {
      "name": "Genetic on NN.ipynb",
      "provenance": [],
      "authorship_tag": "ABX9TyMmked62LVrQrEt8vz2CoYP",
      "include_colab_link": true
    },
    "kernelspec": {
      "name": "python3",
      "display_name": "Python 3"
    },
    "language_info": {
      "name": "python"
    }
  },
  "cells": [
    {
      "cell_type": "markdown",
      "metadata": {
        "id": "view-in-github",
        "colab_type": "text"
      },
      "source": [
        "<a href=\"https://colab.research.google.com/github/Abhishek7081/AdversarialAttacks/blob/master/Genetic_on_NN.ipynb\" target=\"_parent\"><img src=\"https://colab.research.google.com/assets/colab-badge.svg\" alt=\"Open In Colab\"/></a>"
      ]
    },
    {
      "cell_type": "code",
      "metadata": {
        "id": "2Q6bGRsf9ss_"
      },
      "source": [
        "#support python 2&3\n",
        "from __future__ import division, print_function, unicode_literals\n",
        "\n",
        "#common imports\n",
        "import os\n",
        "import numpy as np\n",
        "import pandas as pd\n",
        "import matplotlib\n",
        "import matplotlib.pyplot as plt\n",
        "import seaborn as sns\n",
        "from functools import reduce\n",
        "from operator import add\n",
        "import random\n",
        "import logging\n",
        "from tqdm import tqdm\n",
        "\n",
        "\n",
        "# For pipeline\n",
        "from sklearn.impute import SimpleImputer\n",
        "from sklearn.preprocessing import LabelEncoder, StandardScaler, MinMaxScaler, OneHotEncoder\n",
        "from sklearn.pipeline import Pipeline\n",
        "from sklearn.compose import ColumnTransformer\n",
        "\n",
        "from sklearn.model_selection import StratifiedShuffleSplit\n",
        "from sklearn.metrics import mean_squared_error\n",
        "\n",
        "#make notebook's output stable across runs\n",
        "np.random.seed(42)\n",
        "\n",
        "\n",
        "#Ignore useless warnings\n",
        "import warnings\n",
        "warnings.filterwarnings(action='ignore',message='^internal gelsd')\n",
        "pd.options.mode.chained_assignment = None\n",
        "\n",
        "from keras.models import Sequential\n",
        "from keras.layers import Dense, Dropout\n",
        "from keras.utils.np_utils import to_categorical\n",
        "from keras.callbacks import EarlyStopping\n",
        "\n",
        "\n",
        "# Helper: Early stopping.\n",
        "early_stopper = EarlyStopping(patience=5)\n"
      ],
      "execution_count": 1,
      "outputs": []
    },
    {
      "cell_type": "code",
      "metadata": {
        "id": "fduF8jp-9cUQ"
      },
      "source": [
        "class Network():\n",
        "    \"\"\"Represent a network and let us operate on it.\n",
        "\n",
        "    Currently only works for an MLP.\n",
        "    \"\"\"\n",
        "\n",
        "    def __init__(self, nn_param_choices=None):\n",
        "        \"\"\"Initialize our network.\n",
        "\n",
        "        Args:\n",
        "            nn_param_choices (dict): Parameters for the network, includes:\n",
        "                nb_neurons (list): [64, 128, 256]\n",
        "                nb_layers (list): [1, 2, 3, 4]\n",
        "                activation (list): ['relu', 'elu']\n",
        "                optimizer (list): ['rmsprop', 'adam']\n",
        "        \"\"\"\n",
        "        self.score = 0.\n",
        "        self.nn_param_choices = nn_param_choices\n",
        "        self.network = {}  # (dic): represents MLP network parameters\n",
        "\n",
        "    def create_random(self):\n",
        "        \"\"\"Create a random network.\"\"\"\n",
        "        for key in self.nn_param_choices:\n",
        "            self.network[key] = random.choice(self.nn_param_choices[key])\n",
        "\n",
        "    def create_set(self, network):\n",
        "        \"\"\"Set network properties.\n",
        "\n",
        "        Args:\n",
        "            network (dict): The network parameters\n",
        "\n",
        "        \"\"\"\n",
        "        self.network = network\n",
        "\n",
        "    def train(self, dataset):\n",
        "        \"\"\"Train the network and record the score.\n",
        "\n",
        "        Args:\n",
        "            dataset (str): Name of dataset to use.\n",
        "\n",
        "        \"\"\"\n",
        "        if self.score == 0.:\n",
        "            self.score = train_and_score(self.network, dataset)\n",
        "\n",
        "    def print_network(self):\n",
        "        \"\"\"Print out a network.\"\"\"\n",
        "        logging.info(self.network)\n",
        "        logging.info(\"Network score: %.2f\" % (self.score))"
      ],
      "execution_count": 2,
      "outputs": []
    },
    {
      "cell_type": "code",
      "metadata": {
        "id": "aWanUlxd9yqT"
      },
      "source": [
        "\n",
        "class Optimizer():\n",
        "    \"\"\"Class that implements genetic algorithm for MLP optimization.\"\"\"\n",
        "\n",
        "    def __init__(self, nn_param_choices, retain=0.4,\n",
        "                 random_select=0.1, mutate_chance=0.2):\n",
        "        \"\"\"Create an optimizer.\n",
        "\n",
        "        Args:\n",
        "            nn_param_choices (dict): Possible network paremters\n",
        "            retain (float): Percentage of population to retain after\n",
        "                each generation\n",
        "            random_select (float): Probability of a rejected network\n",
        "                remaining in the population\n",
        "            mutate_chance (float): Probability a network will be\n",
        "                randomly mutated\n",
        "\n",
        "        \"\"\"\n",
        "        self.mutate_chance = mutate_chance\n",
        "        self.random_select = random_select\n",
        "        self.retain = retain\n",
        "        self.nn_param_choices = nn_param_choices\n",
        "\n",
        "    def create_population(self, count):\n",
        "        \"\"\"Create a population of random networks.\n",
        "\n",
        "        Args:\n",
        "            count (int): Number of networks to generate, aka the\n",
        "                size of the population\n",
        "\n",
        "        Returns:\n",
        "            (list): Population of network objects\n",
        "\n",
        "        \"\"\"\n",
        "        pop = []\n",
        "        for _ in range(0, count):\n",
        "            # Create a random network.\n",
        "            network = Network(self.nn_param_choices)\n",
        "            network.create_random()\n",
        "\n",
        "            # Add the network to our population.\n",
        "            pop.append(network)\n",
        "\n",
        "        return pop\n",
        "\n",
        "    @staticmethod\n",
        "    def fitness(network):\n",
        "        \"\"\"Return the score, which is our fitness function.\"\"\"\n",
        "        return network.score\n",
        "\n",
        "    def grade(self, pop):\n",
        "        \"\"\"Find average fitness for a population.\n",
        "\n",
        "        Args:\n",
        "            pop (list): The population of networks\n",
        "\n",
        "        Returns:\n",
        "            (float): The average score of the population\n",
        "\n",
        "        \"\"\"\n",
        "        summed = reduce(add, (self.fitness(network) for network in pop))\n",
        "        return summed / float((len(pop)))\n",
        "\n",
        "    def breed(self, mother, father):\n",
        "        \"\"\"Make two children as parts of their parents.\n",
        "\n",
        "        Args:\n",
        "            mother (dict): Network parameters\n",
        "            father (dict): Network parameters\n",
        "\n",
        "        Returns:\n",
        "            (list): Two network objects\n",
        "\n",
        "        \"\"\"\n",
        "        children = []\n",
        "        for _ in range(2):\n",
        "\n",
        "            child = {}\n",
        "\n",
        "            # Loop through the parameters and pick params for the kid.\n",
        "            for param in self.nn_param_choices:\n",
        "                child[param] = random.choice(\n",
        "                    [mother.network[param], father.network[param]]\n",
        "                )\n",
        "\n",
        "            # Now create a network object.\n",
        "            network = Network(self.nn_param_choices)\n",
        "            network.create_set(child)\n",
        "\n",
        "            # Randomly mutate some of the children.\n",
        "            if self.mutate_chance > random.random():\n",
        "                network = self.mutate(network)\n",
        "\n",
        "            children.append(network)\n",
        "\n",
        "        return children\n",
        "\n",
        "    def mutate(self, network):\n",
        "        \"\"\"Randomly mutate one part of the network.\n",
        "\n",
        "        Args:\n",
        "            network (dict): The network parameters to mutate\n",
        "\n",
        "        Returns:\n",
        "            (Network): A randomly mutated network object\n",
        "\n",
        "        \"\"\"\n",
        "        # Choose a random key.\n",
        "        mutation = random.choice(list(self.nn_param_choices.keys()))\n",
        "\n",
        "        # Mutate one of the params.\n",
        "        network.network[mutation] = random.choice(self.nn_param_choices[mutation])\n",
        "\n",
        "        return network\n",
        "\n",
        "    def evolve(self, pop):\n",
        "        \"\"\"Evolve a population of networks.\n",
        "\n",
        "        Args:\n",
        "            pop (list): A list of network parameters\n",
        "\n",
        "        Returns:\n",
        "            (list): The evolved population of networks\n",
        "\n",
        "        \"\"\"\n",
        "        # Get scores for each network.\n",
        "        graded = [(self.fitness(network), network) for network in pop]\n",
        "\n",
        "        # Sort on the scores.\n",
        "        graded = [x[1] for x in sorted(graded, key=lambda x: x[0], reverse=False)]\n",
        "\n",
        "        # Get the number we want to keep for the next gen.\n",
        "        retain_length = int(len(graded)*self.retain)\n",
        "\n",
        "        # The parents are every network we want to keep.\n",
        "        parents = graded[:retain_length]\n",
        "\n",
        "        # For those we aren't keeping, randomly keep some anyway.\n",
        "        for individual in graded[retain_length:]:\n",
        "            if self.random_select > random.random():\n",
        "                parents.append(individual)\n",
        "\n",
        "        # Now find out how many spots we have left to fill.\n",
        "        parents_length = len(parents)\n",
        "        desired_length = len(pop) - parents_length\n",
        "        children = []\n",
        "\n",
        "        # Add children, which are bred from two remaining networks.\n",
        "        while len(children) < desired_length:\n",
        "\n",
        "            # Get a random mom and dad.\n",
        "            male = random.randint(0, parents_length-1)\n",
        "            female = random.randint(0, parents_length-1)\n",
        "\n",
        "            # Assuming they aren't the same network...\n",
        "            if male != female:\n",
        "                male = parents[male]\n",
        "                female = parents[female]\n",
        "\n",
        "                # Breed them.\n",
        "                babies = self.breed(male, female)\n",
        "\n",
        "                # Add the children one at a time.\n",
        "                for baby in babies:\n",
        "                    # Don't grow larger than desired length.\n",
        "                    if len(children) < desired_length:\n",
        "                        children.append(baby)\n",
        "\n",
        "        parents.extend(children)\n",
        "\n",
        "        return parents\n"
      ],
      "execution_count": 3,
      "outputs": []
    },
    {
      "cell_type": "code",
      "metadata": {
        "id": "p9l1hN7D97Gm"
      },
      "source": [
        "def get_fire():\n",
        "\n",
        "    # function to load data\n",
        "    fire = pd.read_csv(\"forestfires.csv\")\n",
        "    fire.head()\n",
        "\n",
        "    months_to_remove = ['nov','jan','may']\n",
        "    forest_fire = fire.drop(fire[fire.month.isin(months_to_remove)].index ,axis=0)\n",
        "\n",
        "    #Grouping the the burnt area to get a better understanding\n",
        "    forest_fire['area_cat'] = pd.cut(forest_fire['area'], bins=[0,5, 10, 50, 100, 1100], include_lowest=True, \n",
        "                                  labels=['0-5', '5-10', '10-50', '50-100', '>100'])\n",
        "\n",
        "    # I chose to remove any area greater than 100. \n",
        "    #remove outliers\n",
        "    forest_fire.drop(forest_fire[forest_fire.area>100].index,axis=0, inplace=True)\n",
        "\n",
        "    forest_fire['temp_bins'] = pd.cut(forest_fire.temp, bins=[0, 15, 20, 25, 40], include_lowest=True, \n",
        "                                  labels=['0-15', '15-20', '20-25', '>25'])\n",
        "\n",
        "    # As, I have assumed temp is a critical indicator, to have a golden test dataset I would prefer that both train and test has equally distributed temperature conditions. Stratified shuffle split will help us maintain the required strata compositions here.\n",
        "    # try StratifiedKFold(n_splits=1, test_size=0.2, random_state=42) \n",
        "    split = StratifiedShuffleSplit(n_splits=1, test_size=0.2, random_state=42) \n",
        "    for train_index, test_index in split.split(forest_fire.values, forest_fire.temp_bins.values):\n",
        "      st_train_set = forest_fire.iloc[train_index]\n",
        "      st_test_set = forest_fire.iloc[test_index]\n",
        "\n",
        "    #now lets drop the area_cat and temp_bins \n",
        "    for _ in (st_train_set, st_test_set):\n",
        "      _.drop(['area_cat','temp_bins'], axis=1, inplace=True)\n",
        "\n",
        "    #create a fresh copy of train to preprocess\n",
        "    x_train = st_train_set.drop('area', axis=1)\n",
        "    y_train = st_train_set.area.copy()\n",
        "    categorical_attributes = list(x_train.select_dtypes(include=['object']).columns)\n",
        "    numerical_attributes = list(x_train.select_dtypes(include=['float64', 'int64']).columns)\n",
        "\n",
        "    num_pipeline = Pipeline([('imputer', SimpleImputer(strategy='median')),\n",
        "                          ('std_scaler', StandardScaler()),\n",
        "                          ])\n",
        "    full_pipeline = ColumnTransformer([('num', num_pipeline, numerical_attributes),\n",
        "                                    ('cat', OneHotEncoder(), categorical_attributes),\n",
        "                                    ])\n",
        "    x_train = full_pipeline.fit_transform(x_train)\n",
        "    # #check the train data\n",
        "    x_train = pd.DataFrame(x_train, columns= numerical_attributes[0:] + list(full_pipeline.named_transformers_.cat.categories_[0]) +\n",
        "              list(full_pipeline.named_transformers_.cat.categories_[1]))\n",
        "    x_train.pop(\"X\");\n",
        "    x_train.pop(\"Y\");\n",
        "    x_train.pop(\"apr\");\n",
        "\n",
        "\n",
        "\n",
        "    #create a fresh copy of test to preprocess\n",
        "    x_test = st_test_set.drop('area', axis=1)\n",
        "    y_test = st_test_set.area.copy()\n",
        "    categorical_attributes = list(x_test.select_dtypes(include=['object']).columns)\n",
        "    numerical_attributes = list(x_test.select_dtypes(include=['float64', 'int64']).columns)\n",
        "\n",
        "    num_pipeline = Pipeline([('imputer', SimpleImputer(strategy='median')),\n",
        "                          ('std_scaler', StandardScaler()),\n",
        "                          ])\n",
        "    full_pipeline = ColumnTransformer([('num', num_pipeline, numerical_attributes),\n",
        "                                    ('cat', OneHotEncoder(), categorical_attributes),\n",
        "                                    ])\n",
        "    x_test = full_pipeline.fit_transform(x_test)\n",
        "    # #check the test data\n",
        "    x_test = pd.DataFrame(x_test, columns= numerical_attributes[0:] + list(full_pipeline.named_transformers_.cat.categories_[0]) +\n",
        "              list(full_pipeline.named_transformers_.cat.categories_[1]))\n",
        "    x_test.pop(\"X\");\n",
        "    x_test.pop(\"Y\");\n",
        "\n",
        "    return (x_train, y_train, x_test, y_test)\n",
        "\n",
        "\n",
        "\n",
        "def compile_model(network, input_shape):\n",
        "\n",
        "    nb_layers = network['nb_layers']\n",
        "    nb_neurons = network['nb_neurons']\n",
        "    activation = network['activation']\n",
        "    optimizer = network['optimizer']\n",
        "\n",
        "    model = Sequential()\n",
        "\n",
        "    # Add each layer.\n",
        "    for i in range(nb_layers):\n",
        "\n",
        "        # Need input shape for first layer.\n",
        "        if i == 0:\n",
        "            model.add(Dense(nb_neurons, activation=activation, input_shape=input_shape))\n",
        "        else:\n",
        "            model.add(Dense(nb_neurons, activation=activation))\n",
        "\n",
        "        model.add(Dropout(0.2)) \n",
        "\n",
        "    # Output layer.\n",
        "    model.add(Dense(1, activation='linear'))\n",
        "\n",
        "    model.compile(loss='mse', optimizer=optimizer, metrics=['mse'])\n",
        "\n",
        "    return model\n",
        "\n",
        "def train_and_score(network, dataset):\n",
        "    # Train the model, return test loss.\n",
        "\n",
        "    x_train, y_train, x_test, y_test = get_fire()\n",
        "\n",
        "    input_shape = (23,)\n",
        "    model = compile_model(network, input_shape)\n",
        "\n",
        "    model.fit(x_train, y_train, batch_size = 10, epochs = 10, verbose = 2, callbacks = [early_stopper], validation_data=(x_test, y_test)) # using early stoping, so no real limit\n",
        "\n",
        "    y_pred= model.predict(x_test)\n",
        "\n",
        "    model_mse = mean_squared_error(y_test, y_pred)\n",
        "    model_rmse = np.sqrt(model_mse)\n",
        "\n",
        "    return model_rmse  # 1 is accuracy. 0 is loss."
      ],
      "execution_count": 4,
      "outputs": []
    },
    {
      "cell_type": "code",
      "metadata": {
        "id": "a_SPsqMj-N9_"
      },
      "source": [
        "#  \"\"\"Entry point to evolving the neural network. Start here.\"\"\"\n",
        "# import numpy as np # linear algebra\n",
        "# import pandas as pd # data processing, CSV file I/O (e.g. pd.read_csv)\n",
        "# import logging\n",
        "# from optimizer import Optimizer\n",
        "# from tqdm import tqdm\n",
        "\n",
        "# Setup logging.\n",
        "logging.basicConfig(\n",
        "    format='%(asctime)s - %(levelname)s - %(message)s',\n",
        "    # datefmt='%m/%d/%Y %I:%M:%S %p',\n",
        "    datefmt='%I:%M:%S %p',\n",
        "    level=logging.DEBUG,\n",
        "    filename='log.txt'\n",
        ")\n",
        "\n",
        "def train_networks(networks, dataset):\n",
        "    \"\"\"Train each network.\n",
        "\n",
        "    Args:\n",
        "        networks (list): Current population of networks\n",
        "        dataset (str): Dataset to use for training/evaluating\n",
        "    \"\"\"\n",
        "    pbar = tqdm(total=len(networks)) #tqdm is a progress bar library ( terminal progress bar, is used to specify the total number of expected iterations)\n",
        "    for network in networks:\n",
        "        network.train(dataset)\n",
        "        pbar.update(1)\n",
        "    pbar.close()\n",
        "\n",
        "def get_average_score(networks):\n",
        "    \"\"\"Get the average score for a group of networks.\n",
        "\n",
        "    Args:\n",
        "        networks (list): List of networks\n",
        "\n",
        "    Returns:\n",
        "        float: The average score of a population of networks.\n",
        "\n",
        "    \"\"\"\n",
        "    total_score = 0\n",
        "    for network in networks:\n",
        "        total_score += network.score\n",
        "\n",
        "    return total_score / len(networks)\n",
        "\n",
        "def generate(generations, population, nn_param_choices, dataset):\n",
        "    \"\"\"Generate a network with the genetic algorithm.\n",
        "\n",
        "    Args:\n",
        "        generations (int): Number of times to evolve the population\n",
        "        population (int): Number of networks in each generation\n",
        "        nn_param_choices (dict): Parameter choices for networks\n",
        "        dataset (str): Dataset to use for training/evaluating\n",
        "\n",
        "    \"\"\"\n",
        "    optimizer = Optimizer(nn_param_choices)\n",
        "    networks = optimizer.create_population(population)\n",
        "\n",
        "    # Evolve the generation. // either 20 times, or till the average score reaches desired score\n",
        "    for i in range(generations):\n",
        "        logging.info(\"***Doing generation %d of %d***\" %\n",
        "                     (i + 1, generations))\n",
        "\n",
        "        # Train and get score for networks.\n",
        "        train_networks(networks, dataset)\n",
        "\n",
        "        # Get the average score for this generation.\n",
        "        average_score = get_average_score(networks)\n",
        "\n",
        "        # Print out the average score each generation.\n",
        "        logging.info(\"Generation average: %.2f\" % (average_score))\n",
        "        logging.info('-'*80)\n",
        "\n",
        "        # Evolve, except on the last iteration.\n",
        "        if i != generations - 1:\n",
        "            # Do the evolution.\n",
        "            networks = optimizer.evolve(networks)\n",
        "\n",
        "    # Sort our final population.\n",
        "    networks = sorted(networks, key=lambda x: x.score, reverse=True)\n",
        "\n",
        "    # Print out the top 5 networks.\n",
        "    print_networks(networks[:5])\n",
        "\n",
        "def print_networks(networks):\n",
        "    \"\"\"Print a list of networks.\n",
        "\n",
        "    Args:\n",
        "        networks (list): The population of networks\n",
        "\n",
        "    \"\"\"\n",
        "    logging.info('-'*80)\n",
        "    for network in networks:\n",
        "        network.print_network()\n",
        "\n",
        "def main():\n",
        "    \"\"\"Evolve a network.\"\"\"\n",
        "    generations = 10  # Number of times to evolve the population.\n",
        "    population = 20  # Number of networks in each generation.\n",
        "    dataset = 'forestfire'\n",
        "\n",
        "\n",
        "    nn_param_choices = {\n",
        "        'nb_neurons': [8, 16, 32, 64, 128, 256, 512],\n",
        "        'nb_layers': [1, 2, 3, 4, 5],\n",
        "        'activation': ['relu', 'elu', 'tanh', 'linear'],\n",
        "        'optimizer': ['rmsprop', 'adam', 'sgd', 'adagrad',\n",
        "                      'adadelta', 'adamax'],\n",
        "    }\n",
        "    \n",
        "    logging.info(\"***Evolving %d generations with population %d***\" %\n",
        "                 (generations, population))\n",
        "\n",
        "    generate(generations, population, nn_param_choices, dataset)\n",
        "\n",
        "\n"
      ],
      "execution_count": 5,
      "outputs": []
    },
    {
      "cell_type": "code",
      "metadata": {
        "colab": {
          "base_uri": "https://localhost:8080/"
        },
        "id": "jmth92c--TlT",
        "outputId": "19138b23-ec2c-477b-e06c-9fef580969bf"
      },
      "source": [
        "if __name__ == '__main__':\n",
        "    main()"
      ],
      "execution_count": 6,
      "outputs": [
        {
          "output_type": "stream",
          "text": [
            "\r  0%|          | 0/20 [00:00<?, ?it/s]"
          ],
          "name": "stderr"
        },
        {
          "output_type": "stream",
          "text": [
            "Epoch 1/10\n",
            "40/40 - 2s - loss: 229.6209 - mse: 229.6209 - val_loss: 227.5004 - val_mse: 227.5004\n",
            "Epoch 2/10\n",
            "40/40 - 0s - loss: 225.8376 - mse: 225.8376 - val_loss: 223.8950 - val_mse: 223.8950\n",
            "Epoch 3/10\n",
            "40/40 - 0s - loss: 222.8244 - mse: 222.8244 - val_loss: 218.8388 - val_mse: 218.8388\n",
            "Epoch 4/10\n",
            "40/40 - 0s - loss: 217.4977 - mse: 217.4977 - val_loss: 213.9323 - val_mse: 213.9323\n",
            "Epoch 5/10\n",
            "40/40 - 0s - loss: 214.5551 - mse: 214.5551 - val_loss: 208.9822 - val_mse: 208.9822\n",
            "Epoch 6/10\n",
            "40/40 - 0s - loss: 212.5761 - mse: 212.5761 - val_loss: 205.1170 - val_mse: 205.1170\n",
            "Epoch 7/10\n",
            "40/40 - 0s - loss: 207.9659 - mse: 207.9659 - val_loss: 201.9493 - val_mse: 201.9493\n",
            "Epoch 8/10\n",
            "40/40 - 0s - loss: 204.6868 - mse: 204.6868 - val_loss: 199.7366 - val_mse: 199.7366\n",
            "Epoch 9/10\n",
            "40/40 - 0s - loss: 203.3687 - mse: 203.3687 - val_loss: 197.4231 - val_mse: 197.4231\n",
            "Epoch 10/10\n",
            "40/40 - 0s - loss: 200.1378 - mse: 200.1378 - val_loss: 195.8310 - val_mse: 195.8310\n"
          ],
          "name": "stdout"
        },
        {
          "output_type": "stream",
          "text": [
            "\r  5%|▌         | 1/20 [00:04<01:16,  4.03s/it]"
          ],
          "name": "stderr"
        },
        {
          "output_type": "stream",
          "text": [
            "Epoch 1/10\n",
            "40/40 - 1s - loss: 228.5571 - mse: 228.5571 - val_loss: 223.7388 - val_mse: 223.7388\n",
            "Epoch 2/10\n",
            "40/40 - 0s - loss: 224.5607 - mse: 224.5607 - val_loss: 219.5867 - val_mse: 219.5867\n",
            "Epoch 3/10\n",
            "40/40 - 0s - loss: 218.7886 - mse: 218.7886 - val_loss: 215.2539 - val_mse: 215.2539\n",
            "Epoch 4/10\n",
            "40/40 - 0s - loss: 214.1494 - mse: 214.1494 - val_loss: 210.3145 - val_mse: 210.3145\n",
            "Epoch 5/10\n",
            "40/40 - 0s - loss: 213.2863 - mse: 213.2863 - val_loss: 206.3602 - val_mse: 206.3602\n",
            "Epoch 6/10\n",
            "40/40 - 0s - loss: 210.8918 - mse: 210.8918 - val_loss: 202.0601 - val_mse: 202.0601\n",
            "Epoch 7/10\n",
            "40/40 - 0s - loss: 205.5724 - mse: 205.5724 - val_loss: 198.3972 - val_mse: 198.3972\n",
            "Epoch 8/10\n",
            "40/40 - 0s - loss: 203.1225 - mse: 203.1225 - val_loss: 195.9072 - val_mse: 195.9072\n",
            "Epoch 9/10\n",
            "40/40 - 0s - loss: 197.8581 - mse: 197.8581 - val_loss: 193.8111 - val_mse: 193.8111\n",
            "Epoch 10/10\n",
            "40/40 - 0s - loss: 194.7020 - mse: 194.7020 - val_loss: 191.9440 - val_mse: 191.9440\n"
          ],
          "name": "stdout"
        },
        {
          "output_type": "stream",
          "text": [
            "\r 10%|█         | 2/20 [00:07<01:10,  3.90s/it]"
          ],
          "name": "stderr"
        },
        {
          "output_type": "stream",
          "text": [
            "Epoch 1/10\n",
            "40/40 - 1s - loss: 220.4366 - mse: 220.4366 - val_loss: 208.2066 - val_mse: 208.2066\n",
            "Epoch 2/10\n",
            "40/40 - 0s - loss: 206.5287 - mse: 206.5287 - val_loss: 193.1378 - val_mse: 193.1378\n",
            "Epoch 3/10\n",
            "40/40 - 0s - loss: 193.3710 - mse: 193.3710 - val_loss: 185.9559 - val_mse: 185.9559\n",
            "Epoch 4/10\n",
            "40/40 - 0s - loss: 190.6322 - mse: 190.6322 - val_loss: 185.4209 - val_mse: 185.4209\n",
            "Epoch 5/10\n",
            "40/40 - 0s - loss: 188.8084 - mse: 188.8084 - val_loss: 186.0992 - val_mse: 186.0992\n",
            "Epoch 6/10\n",
            "40/40 - 0s - loss: 188.8460 - mse: 188.8460 - val_loss: 186.4028 - val_mse: 186.4028\n",
            "Epoch 7/10\n",
            "40/40 - 0s - loss: 188.4528 - mse: 188.4528 - val_loss: 184.5420 - val_mse: 184.5420\n",
            "Epoch 8/10\n",
            "40/40 - 0s - loss: 188.9205 - mse: 188.9205 - val_loss: 186.8650 - val_mse: 186.8650\n",
            "Epoch 9/10\n",
            "40/40 - 0s - loss: 191.4421 - mse: 191.4421 - val_loss: 186.4123 - val_mse: 186.4123\n",
            "Epoch 10/10\n",
            "40/40 - 0s - loss: 187.0596 - mse: 187.0596 - val_loss: 187.3696 - val_mse: 187.3696\n"
          ],
          "name": "stdout"
        },
        {
          "output_type": "stream",
          "text": [
            "\r 15%|█▌        | 3/20 [00:10<01:00,  3.59s/it]"
          ],
          "name": "stderr"
        },
        {
          "output_type": "stream",
          "text": [
            "Epoch 1/10\n",
            "40/40 - 1s - loss: 209.5737 - mse: 209.5737 - val_loss: 187.9123 - val_mse: 187.9123\n",
            "Epoch 2/10\n",
            "40/40 - 0s - loss: 192.4148 - mse: 192.4148 - val_loss: 187.0983 - val_mse: 187.0983\n",
            "Epoch 3/10\n",
            "40/40 - 1s - loss: 189.1659 - mse: 189.1659 - val_loss: 191.0045 - val_mse: 191.0045\n",
            "Epoch 4/10\n",
            "40/40 - 1s - loss: 188.2885 - mse: 188.2885 - val_loss: 188.8549 - val_mse: 188.8549\n",
            "Epoch 5/10\n",
            "40/40 - 0s - loss: 185.7946 - mse: 185.7946 - val_loss: 189.2186 - val_mse: 189.2186\n",
            "Epoch 6/10\n",
            "40/40 - 1s - loss: 186.9508 - mse: 186.9508 - val_loss: 190.6847 - val_mse: 190.6847\n",
            "Epoch 7/10\n",
            "40/40 - 0s - loss: 185.0244 - mse: 185.0244 - val_loss: 189.2561 - val_mse: 189.2561\n"
          ],
          "name": "stdout"
        },
        {
          "output_type": "stream",
          "text": [
            "\r 20%|██        | 4/20 [00:15<01:02,  3.89s/it]"
          ],
          "name": "stderr"
        },
        {
          "output_type": "stream",
          "text": [
            "Epoch 1/10\n",
            "40/40 - 1s - loss: 209.5366 - mse: 209.5366 - val_loss: 189.5205 - val_mse: 189.5205\n",
            "Epoch 2/10\n",
            "40/40 - 1s - loss: 192.2067 - mse: 192.2067 - val_loss: 189.0051 - val_mse: 189.0051\n",
            "Epoch 3/10\n",
            "40/40 - 1s - loss: 191.1364 - mse: 191.1364 - val_loss: 187.2543 - val_mse: 187.2543\n",
            "Epoch 4/10\n",
            "40/40 - 1s - loss: 187.1733 - mse: 187.1733 - val_loss: 186.1531 - val_mse: 186.1531\n",
            "Epoch 5/10\n",
            "40/40 - 1s - loss: 189.9708 - mse: 189.9708 - val_loss: 185.4342 - val_mse: 185.4342\n",
            "Epoch 6/10\n",
            "40/40 - 1s - loss: 184.5826 - mse: 184.5825 - val_loss: 185.2393 - val_mse: 185.2393\n",
            "Epoch 7/10\n",
            "40/40 - 1s - loss: 184.1760 - mse: 184.1760 - val_loss: 184.7483 - val_mse: 184.7484\n",
            "Epoch 8/10\n",
            "40/40 - 1s - loss: 185.3309 - mse: 185.3309 - val_loss: 184.6701 - val_mse: 184.6701\n",
            "Epoch 9/10\n",
            "40/40 - 1s - loss: 182.9944 - mse: 182.9944 - val_loss: 184.8908 - val_mse: 184.8908\n",
            "Epoch 10/10\n",
            "40/40 - 1s - loss: 182.3867 - mse: 182.3867 - val_loss: 184.3692 - val_mse: 184.3692\n"
          ],
          "name": "stdout"
        },
        {
          "output_type": "stream",
          "text": [
            "\r 25%|██▌       | 5/20 [00:22<01:13,  4.88s/it]"
          ],
          "name": "stderr"
        },
        {
          "output_type": "stream",
          "text": [
            "Epoch 1/10\n",
            "40/40 - 1s - loss: 224.3719 - mse: 224.3719 - val_loss: 221.6678 - val_mse: 221.6678\n",
            "Epoch 2/10\n",
            "40/40 - 0s - loss: 221.4333 - mse: 221.4333 - val_loss: 219.7077 - val_mse: 219.7077\n",
            "Epoch 3/10\n",
            "40/40 - 0s - loss: 219.4812 - mse: 219.4812 - val_loss: 218.2486 - val_mse: 218.2486\n",
            "Epoch 4/10\n",
            "40/40 - 0s - loss: 218.6413 - mse: 218.6413 - val_loss: 217.0266 - val_mse: 217.0266\n",
            "Epoch 5/10\n",
            "40/40 - 0s - loss: 217.3571 - mse: 217.3571 - val_loss: 215.9859 - val_mse: 215.9859\n",
            "Epoch 6/10\n",
            "40/40 - 0s - loss: 216.0760 - mse: 216.0760 - val_loss: 215.0737 - val_mse: 215.0737\n",
            "Epoch 7/10\n",
            "40/40 - 0s - loss: 215.0743 - mse: 215.0743 - val_loss: 214.2234 - val_mse: 214.2234\n",
            "Epoch 8/10\n",
            "40/40 - 0s - loss: 214.5082 - mse: 214.5082 - val_loss: 213.4539 - val_mse: 213.4539\n",
            "Epoch 9/10\n",
            "40/40 - 0s - loss: 213.5200 - mse: 213.5200 - val_loss: 212.7370 - val_mse: 212.7370\n",
            "Epoch 10/10\n",
            "40/40 - 0s - loss: 213.2946 - mse: 213.2946 - val_loss: 212.0823 - val_mse: 212.0823\n"
          ],
          "name": "stdout"
        },
        {
          "output_type": "stream",
          "text": [
            "\r 30%|███       | 6/20 [00:24<00:58,  4.21s/it]"
          ],
          "name": "stderr"
        },
        {
          "output_type": "stream",
          "text": [
            "Epoch 1/10\n",
            "40/40 - 1s - loss: 230.5350 - mse: 230.5350 - val_loss: 230.1122 - val_mse: 230.1122\n",
            "Epoch 2/10\n",
            "40/40 - 0s - loss: 230.7348 - mse: 230.7348 - val_loss: 230.0682 - val_mse: 230.0682\n",
            "Epoch 3/10\n",
            "40/40 - 0s - loss: 230.4484 - mse: 230.4484 - val_loss: 230.0287 - val_mse: 230.0287\n",
            "Epoch 4/10\n",
            "40/40 - 0s - loss: 230.7960 - mse: 230.7960 - val_loss: 229.9936 - val_mse: 229.9936\n",
            "Epoch 5/10\n",
            "40/40 - 0s - loss: 230.4030 - mse: 230.4030 - val_loss: 229.9621 - val_mse: 229.9621\n",
            "Epoch 6/10\n",
            "40/40 - 0s - loss: 230.5738 - mse: 230.5738 - val_loss: 229.9310 - val_mse: 229.9310\n",
            "Epoch 7/10\n",
            "40/40 - 0s - loss: 230.5359 - mse: 230.5359 - val_loss: 229.9012 - val_mse: 229.9012\n",
            "Epoch 8/10\n",
            "40/40 - 0s - loss: 230.3203 - mse: 230.3203 - val_loss: 229.8723 - val_mse: 229.8723\n",
            "Epoch 9/10\n",
            "40/40 - 0s - loss: 230.5448 - mse: 230.5448 - val_loss: 229.8445 - val_mse: 229.8445\n",
            "Epoch 10/10\n",
            "40/40 - 0s - loss: 230.3484 - mse: 230.3484 - val_loss: 229.8167 - val_mse: 229.8167\n"
          ],
          "name": "stdout"
        },
        {
          "output_type": "stream",
          "text": [
            "\r 35%|███▌      | 7/20 [00:28<00:50,  3.88s/it]"
          ],
          "name": "stderr"
        },
        {
          "output_type": "stream",
          "text": [
            "Epoch 1/10\n",
            "40/40 - 1s - loss: 215.9052 - mse: 215.9052 - val_loss: 202.4284 - val_mse: 202.4284\n",
            "Epoch 2/10\n",
            "40/40 - 0s - loss: 203.1427 - mse: 203.1427 - val_loss: 191.3951 - val_mse: 191.3951\n",
            "Epoch 3/10\n",
            "40/40 - 0s - loss: 199.7471 - mse: 199.7471 - val_loss: 192.9722 - val_mse: 192.9722\n",
            "Epoch 4/10\n",
            "40/40 - 0s - loss: 197.4092 - mse: 197.4092 - val_loss: 190.8971 - val_mse: 190.8971\n",
            "Epoch 5/10\n",
            "40/40 - 0s - loss: 201.0812 - mse: 201.0812 - val_loss: 189.4941 - val_mse: 189.4941\n",
            "Epoch 6/10\n",
            "40/40 - 0s - loss: 197.0169 - mse: 197.0169 - val_loss: 187.4790 - val_mse: 187.4790\n",
            "Epoch 7/10\n",
            "40/40 - 0s - loss: 193.0547 - mse: 193.0547 - val_loss: 189.0467 - val_mse: 189.0467\n",
            "Epoch 8/10\n",
            "40/40 - 0s - loss: 194.8294 - mse: 194.8294 - val_loss: 187.9600 - val_mse: 187.9600\n",
            "Epoch 9/10\n",
            "40/40 - 0s - loss: 191.6998 - mse: 191.6998 - val_loss: 188.2739 - val_mse: 188.2739\n",
            "Epoch 10/10\n",
            "40/40 - 0s - loss: 189.4882 - mse: 189.4882 - val_loss: 189.3208 - val_mse: 189.3208\n"
          ],
          "name": "stdout"
        },
        {
          "output_type": "stream",
          "text": [
            "\r 40%|████      | 8/20 [00:31<00:44,  3.75s/it]"
          ],
          "name": "stderr"
        },
        {
          "output_type": "stream",
          "text": [
            "Epoch 1/10\n",
            "40/40 - 1s - loss: 231.5324 - mse: 231.5324 - val_loss: 230.5048 - val_mse: 230.5048\n",
            "Epoch 2/10\n",
            "40/40 - 0s - loss: 231.5123 - mse: 231.5123 - val_loss: 230.3673 - val_mse: 230.3673\n",
            "Epoch 3/10\n",
            "40/40 - 0s - loss: 231.4483 - mse: 231.4483 - val_loss: 230.2462 - val_mse: 230.2462\n",
            "Epoch 4/10\n",
            "40/40 - 0s - loss: 230.8092 - mse: 230.8092 - val_loss: 230.1336 - val_mse: 230.1336\n",
            "Epoch 5/10\n",
            "40/40 - 0s - loss: 230.4540 - mse: 230.4540 - val_loss: 230.0297 - val_mse: 230.0297\n",
            "Epoch 6/10\n",
            "40/40 - 0s - loss: 230.8303 - mse: 230.8303 - val_loss: 229.9304 - val_mse: 229.9304\n",
            "Epoch 7/10\n",
            "40/40 - 0s - loss: 230.8243 - mse: 230.8244 - val_loss: 229.8307 - val_mse: 229.8307\n",
            "Epoch 8/10\n",
            "40/40 - 0s - loss: 230.5787 - mse: 230.5787 - val_loss: 229.7387 - val_mse: 229.7387\n",
            "Epoch 9/10\n",
            "40/40 - 0s - loss: 230.9516 - mse: 230.9516 - val_loss: 229.6495 - val_mse: 229.6495\n",
            "Epoch 10/10\n",
            "40/40 - 0s - loss: 230.8305 - mse: 230.8305 - val_loss: 229.5623 - val_mse: 229.5623\n"
          ],
          "name": "stdout"
        },
        {
          "output_type": "stream",
          "text": [
            "\r 45%|████▌     | 9/20 [00:35<00:42,  3.88s/it]"
          ],
          "name": "stderr"
        },
        {
          "output_type": "stream",
          "text": [
            "Epoch 1/10\n",
            "40/40 - 1s - loss: 234.8976 - mse: 234.8976 - val_loss: 233.8907 - val_mse: 233.8907\n",
            "Epoch 2/10\n",
            "40/40 - 0s - loss: 233.8424 - mse: 233.8424 - val_loss: 231.9885 - val_mse: 231.9885\n",
            "Epoch 3/10\n",
            "40/40 - 0s - loss: 231.5314 - mse: 231.5314 - val_loss: 230.3975 - val_mse: 230.3975\n",
            "Epoch 4/10\n",
            "40/40 - 0s - loss: 229.0962 - mse: 229.0962 - val_loss: 229.0843 - val_mse: 229.0843\n",
            "Epoch 5/10\n",
            "40/40 - 0s - loss: 229.5396 - mse: 229.5396 - val_loss: 227.8116 - val_mse: 227.8116\n",
            "Epoch 6/10\n",
            "40/40 - 0s - loss: 227.1843 - mse: 227.1843 - val_loss: 226.6902 - val_mse: 226.6902\n",
            "Epoch 7/10\n",
            "40/40 - 0s - loss: 225.4817 - mse: 225.4817 - val_loss: 225.5368 - val_mse: 225.5368\n",
            "Epoch 8/10\n",
            "40/40 - 0s - loss: 223.5955 - mse: 223.5955 - val_loss: 224.4955 - val_mse: 224.4955\n",
            "Epoch 9/10\n",
            "40/40 - 0s - loss: 222.9685 - mse: 222.9685 - val_loss: 223.3704 - val_mse: 223.3704\n",
            "Epoch 10/10\n",
            "40/40 - 0s - loss: 222.2943 - mse: 222.2943 - val_loss: 222.2163 - val_mse: 222.2163\n"
          ],
          "name": "stdout"
        },
        {
          "output_type": "stream",
          "text": [
            "\r 50%|█████     | 10/20 [00:38<00:35,  3.53s/it]"
          ],
          "name": "stderr"
        },
        {
          "output_type": "stream",
          "text": [
            "Epoch 1/10\n",
            "40/40 - 1s - loss: 225.3401 - mse: 225.3401 - val_loss: 217.5375 - val_mse: 217.5375\n",
            "Epoch 2/10\n",
            "40/40 - 0s - loss: 214.1911 - mse: 214.1911 - val_loss: 207.7695 - val_mse: 207.7695\n",
            "Epoch 3/10\n",
            "40/40 - 0s - loss: 206.0919 - mse: 206.0919 - val_loss: 199.5395 - val_mse: 199.5395\n",
            "Epoch 4/10\n",
            "40/40 - 0s - loss: 199.1518 - mse: 199.1518 - val_loss: 194.2380 - val_mse: 194.2380\n",
            "Epoch 5/10\n",
            "40/40 - 0s - loss: 193.6178 - mse: 193.6178 - val_loss: 190.2368 - val_mse: 190.2368\n",
            "Epoch 6/10\n",
            "40/40 - 0s - loss: 189.4745 - mse: 189.4745 - val_loss: 188.2271 - val_mse: 188.2271\n",
            "Epoch 7/10\n",
            "40/40 - 0s - loss: 189.0811 - mse: 189.0811 - val_loss: 186.7762 - val_mse: 186.7762\n",
            "Epoch 8/10\n",
            "40/40 - 0s - loss: 186.7737 - mse: 186.7737 - val_loss: 186.5710 - val_mse: 186.5710\n",
            "Epoch 9/10\n",
            "40/40 - 0s - loss: 186.4355 - mse: 186.4355 - val_loss: 186.5457 - val_mse: 186.5457\n",
            "Epoch 10/10\n",
            "40/40 - 0s - loss: 184.6248 - mse: 184.6248 - val_loss: 185.6465 - val_mse: 185.6465\n"
          ],
          "name": "stdout"
        },
        {
          "output_type": "stream",
          "text": [
            "\r 55%|█████▌    | 11/20 [00:41<00:30,  3.42s/it]"
          ],
          "name": "stderr"
        },
        {
          "output_type": "stream",
          "text": [
            "Epoch 1/10\n",
            "40/40 - 1s - loss: 209.1496 - mse: 209.1496 - val_loss: 209.9277 - val_mse: 209.9277\n",
            "Epoch 2/10\n",
            "40/40 - 0s - loss: 204.2173 - mse: 204.2173 - val_loss: 193.1709 - val_mse: 193.1709\n",
            "Epoch 3/10\n",
            "40/40 - 0s - loss: 189.2665 - mse: 189.2665 - val_loss: 216.0199 - val_mse: 216.0199\n",
            "Epoch 4/10\n",
            "40/40 - 0s - loss: 195.6987 - mse: 195.6987 - val_loss: 190.4920 - val_mse: 190.4920\n",
            "Epoch 5/10\n",
            "40/40 - 0s - loss: 191.4953 - mse: 191.4953 - val_loss: 243.6849 - val_mse: 243.6849\n",
            "Epoch 6/10\n",
            "40/40 - 0s - loss: 201.7920 - mse: 201.7920 - val_loss: 193.9022 - val_mse: 193.9022\n",
            "Epoch 7/10\n",
            "40/40 - 0s - loss: 193.2356 - mse: 193.2356 - val_loss: 194.4888 - val_mse: 194.4888\n",
            "Epoch 8/10\n",
            "40/40 - 0s - loss: 196.3670 - mse: 196.3670 - val_loss: 185.0548 - val_mse: 185.0548\n",
            "Epoch 9/10\n",
            "40/40 - 0s - loss: 196.8144 - mse: 196.8144 - val_loss: 189.3324 - val_mse: 189.3324\n",
            "Epoch 10/10\n",
            "40/40 - 0s - loss: 194.3051 - mse: 194.3051 - val_loss: 200.1522 - val_mse: 200.1522\n"
          ],
          "name": "stdout"
        },
        {
          "output_type": "stream",
          "text": [
            "\r 60%|██████    | 12/20 [00:44<00:25,  3.19s/it]"
          ],
          "name": "stderr"
        },
        {
          "output_type": "stream",
          "text": [
            "Epoch 1/10\n",
            "40/40 - 1s - loss: 223.8043 - mse: 223.8043 - val_loss: 213.1420 - val_mse: 213.1420\n",
            "Epoch 2/10\n",
            "40/40 - 0s - loss: 212.0129 - mse: 212.0129 - val_loss: 203.3591 - val_mse: 203.3591\n",
            "Epoch 3/10\n",
            "40/40 - 0s - loss: 203.0196 - mse: 203.0196 - val_loss: 194.6465 - val_mse: 194.6465\n",
            "Epoch 4/10\n",
            "40/40 - 0s - loss: 197.0776 - mse: 197.0776 - val_loss: 189.7943 - val_mse: 189.7943\n",
            "Epoch 5/10\n",
            "40/40 - 0s - loss: 192.0866 - mse: 192.0866 - val_loss: 188.1053 - val_mse: 188.1053\n",
            "Epoch 6/10\n",
            "40/40 - 0s - loss: 189.3755 - mse: 189.3755 - val_loss: 186.7141 - val_mse: 186.7141\n",
            "Epoch 7/10\n",
            "40/40 - 0s - loss: 189.0720 - mse: 189.0720 - val_loss: 186.4899 - val_mse: 186.4899\n",
            "Epoch 8/10\n",
            "40/40 - 0s - loss: 186.6828 - mse: 186.6828 - val_loss: 187.2841 - val_mse: 187.2841\n",
            "Epoch 9/10\n",
            "40/40 - 0s - loss: 187.2675 - mse: 187.2675 - val_loss: 186.7339 - val_mse: 186.7339\n",
            "Epoch 10/10\n",
            "40/40 - 0s - loss: 186.4041 - mse: 186.4041 - val_loss: 186.9731 - val_mse: 186.9731\n"
          ],
          "name": "stdout"
        },
        {
          "output_type": "stream",
          "text": [
            "\r 65%|██████▌   | 13/20 [00:46<00:21,  3.07s/it]"
          ],
          "name": "stderr"
        },
        {
          "output_type": "stream",
          "text": [
            "Epoch 1/10\n",
            "40/40 - 1s - loss: 231.0457 - mse: 231.0457 - val_loss: 231.8383 - val_mse: 231.8383\n",
            "Epoch 2/10\n",
            "40/40 - 0s - loss: 232.4267 - mse: 232.4266 - val_loss: 231.8264 - val_mse: 231.8264\n",
            "Epoch 3/10\n",
            "40/40 - 0s - loss: 229.6147 - mse: 229.6147 - val_loss: 231.8150 - val_mse: 231.8150\n",
            "Epoch 4/10\n",
            "40/40 - 0s - loss: 231.0730 - mse: 231.0730 - val_loss: 231.8049 - val_mse: 231.8049\n",
            "Epoch 5/10\n",
            "40/40 - 0s - loss: 230.5299 - mse: 230.5299 - val_loss: 231.7950 - val_mse: 231.7950\n",
            "Epoch 6/10\n",
            "40/40 - 0s - loss: 230.5774 - mse: 230.5774 - val_loss: 231.7851 - val_mse: 231.7851\n",
            "Epoch 7/10\n",
            "40/40 - 0s - loss: 230.0590 - mse: 230.0589 - val_loss: 231.7761 - val_mse: 231.7761\n",
            "Epoch 8/10\n",
            "40/40 - 0s - loss: 231.8778 - mse: 231.8779 - val_loss: 231.7678 - val_mse: 231.7678\n",
            "Epoch 9/10\n",
            "40/40 - 0s - loss: 231.2936 - mse: 231.2936 - val_loss: 231.7596 - val_mse: 231.7596\n",
            "Epoch 10/10\n",
            "40/40 - 0s - loss: 231.6834 - mse: 231.6834 - val_loss: 231.7517 - val_mse: 231.7517\n"
          ],
          "name": "stdout"
        },
        {
          "output_type": "stream",
          "text": [
            "\r 70%|███████   | 14/20 [00:49<00:18,  3.03s/it]"
          ],
          "name": "stderr"
        },
        {
          "output_type": "stream",
          "text": [
            "Epoch 1/10\n",
            "40/40 - 1s - loss: 231.1648 - mse: 231.1648 - val_loss: 229.1915 - val_mse: 229.1915\n",
            "Epoch 2/10\n",
            "40/40 - 0s - loss: 230.4103 - mse: 230.4103 - val_loss: 228.8666 - val_mse: 228.8665\n",
            "Epoch 3/10\n",
            "40/40 - 0s - loss: 230.0550 - mse: 230.0550 - val_loss: 228.5224 - val_mse: 228.5224\n",
            "Epoch 4/10\n",
            "40/40 - 0s - loss: 229.5994 - mse: 229.5994 - val_loss: 228.2417 - val_mse: 228.2417\n",
            "Epoch 5/10\n",
            "40/40 - 0s - loss: 229.3599 - mse: 229.3599 - val_loss: 228.0244 - val_mse: 228.0244\n",
            "Epoch 6/10\n",
            "40/40 - 0s - loss: 229.1660 - mse: 229.1660 - val_loss: 227.8255 - val_mse: 227.8255\n",
            "Epoch 7/10\n",
            "40/40 - 0s - loss: 228.8228 - mse: 228.8228 - val_loss: 227.6271 - val_mse: 227.6271\n",
            "Epoch 8/10\n",
            "40/40 - 0s - loss: 228.6515 - mse: 228.6515 - val_loss: 227.4015 - val_mse: 227.4015\n",
            "Epoch 9/10\n",
            "40/40 - 0s - loss: 228.3519 - mse: 228.3519 - val_loss: 227.1529 - val_mse: 227.1529\n",
            "Epoch 10/10\n",
            "40/40 - 0s - loss: 227.8945 - mse: 227.8945 - val_loss: 226.8751 - val_mse: 226.8751\n"
          ],
          "name": "stdout"
        },
        {
          "output_type": "stream",
          "text": [
            "\r 75%|███████▌  | 15/20 [00:52<00:15,  3.04s/it]"
          ],
          "name": "stderr"
        },
        {
          "output_type": "stream",
          "text": [
            "Epoch 1/10\n",
            "40/40 - 1s - loss: 227.5966 - mse: 227.5966 - val_loss: 225.6272 - val_mse: 225.6272\n",
            "Epoch 2/10\n",
            "40/40 - 0s - loss: 226.2490 - mse: 226.2490 - val_loss: 224.3248 - val_mse: 224.3248\n",
            "Epoch 3/10\n",
            "40/40 - 0s - loss: 224.4360 - mse: 224.4360 - val_loss: 223.3728 - val_mse: 223.3728\n",
            "Epoch 4/10\n",
            "40/40 - 0s - loss: 224.2464 - mse: 224.2464 - val_loss: 222.5782 - val_mse: 222.5782\n",
            "Epoch 5/10\n",
            "40/40 - 0s - loss: 223.2973 - mse: 223.2973 - val_loss: 221.8703 - val_mse: 221.8703\n",
            "Epoch 6/10\n",
            "40/40 - 0s - loss: 223.1609 - mse: 223.1609 - val_loss: 221.2204 - val_mse: 221.2204\n",
            "Epoch 7/10\n",
            "40/40 - 0s - loss: 222.9467 - mse: 222.9467 - val_loss: 220.6435 - val_mse: 220.6435\n",
            "Epoch 8/10\n",
            "40/40 - 0s - loss: 220.6326 - mse: 220.6326 - val_loss: 220.0801 - val_mse: 220.0801\n",
            "Epoch 9/10\n",
            "40/40 - 0s - loss: 221.2072 - mse: 221.2072 - val_loss: 219.5661 - val_mse: 219.5661\n",
            "Epoch 10/10\n",
            "40/40 - 0s - loss: 221.0603 - mse: 221.0603 - val_loss: 219.1052 - val_mse: 219.1052\n"
          ],
          "name": "stdout"
        },
        {
          "output_type": "stream",
          "text": [
            "\r 80%|████████  | 16/20 [00:55<00:11,  2.94s/it]"
          ],
          "name": "stderr"
        },
        {
          "output_type": "stream",
          "text": [
            "Epoch 1/10\n",
            "40/40 - 1s - loss: 217.4643 - mse: 217.4643 - val_loss: 205.9105 - val_mse: 205.9105\n",
            "Epoch 2/10\n",
            "40/40 - 0s - loss: 202.3493 - mse: 202.3493 - val_loss: 194.7589 - val_mse: 194.7589\n",
            "Epoch 3/10\n",
            "40/40 - 0s - loss: 198.7816 - mse: 198.7816 - val_loss: 193.0381 - val_mse: 193.0381\n",
            "Epoch 4/10\n",
            "40/40 - 0s - loss: 190.7338 - mse: 190.7338 - val_loss: 191.5817 - val_mse: 191.5817\n",
            "Epoch 5/10\n",
            "40/40 - 0s - loss: 194.3440 - mse: 194.3441 - val_loss: 190.6970 - val_mse: 190.6970\n",
            "Epoch 6/10\n",
            "40/40 - 0s - loss: 190.1087 - mse: 190.1087 - val_loss: 190.5689 - val_mse: 190.5689\n",
            "Epoch 7/10\n",
            "40/40 - 0s - loss: 190.6180 - mse: 190.6180 - val_loss: 191.2612 - val_mse: 191.2612\n",
            "Epoch 8/10\n",
            "40/40 - 0s - loss: 188.9072 - mse: 188.9072 - val_loss: 190.1997 - val_mse: 190.1997\n",
            "Epoch 9/10\n",
            "40/40 - 0s - loss: 186.2276 - mse: 186.2275 - val_loss: 190.2450 - val_mse: 190.2450\n",
            "Epoch 10/10\n",
            "40/40 - 0s - loss: 190.7602 - mse: 190.7602 - val_loss: 190.9174 - val_mse: 190.9174\n"
          ],
          "name": "stdout"
        },
        {
          "output_type": "stream",
          "text": [
            "\r 85%|████████▌ | 17/20 [00:58<00:09,  3.03s/it]"
          ],
          "name": "stderr"
        },
        {
          "output_type": "stream",
          "text": [
            "Epoch 1/10\n",
            "40/40 - 1s - loss: 229.0714 - mse: 229.0714 - val_loss: 228.4084 - val_mse: 228.4084\n",
            "Epoch 2/10\n",
            "40/40 - 0s - loss: 229.0456 - mse: 229.0457 - val_loss: 228.3780 - val_mse: 228.3780\n",
            "Epoch 3/10\n",
            "40/40 - 0s - loss: 228.9964 - mse: 228.9964 - val_loss: 228.3508 - val_mse: 228.3508\n",
            "Epoch 4/10\n",
            "40/40 - 0s - loss: 229.0835 - mse: 229.0835 - val_loss: 228.3262 - val_mse: 228.3262\n",
            "Epoch 5/10\n",
            "40/40 - 0s - loss: 228.9917 - mse: 228.9917 - val_loss: 228.3039 - val_mse: 228.3039\n",
            "Epoch 6/10\n",
            "40/40 - 0s - loss: 228.8438 - mse: 228.8439 - val_loss: 228.2835 - val_mse: 228.2835\n",
            "Epoch 7/10\n",
            "40/40 - 0s - loss: 228.9088 - mse: 228.9088 - val_loss: 228.2636 - val_mse: 228.2636\n",
            "Epoch 8/10\n",
            "40/40 - 0s - loss: 228.9515 - mse: 228.9515 - val_loss: 228.2448 - val_mse: 228.2448\n",
            "Epoch 9/10\n",
            "40/40 - 0s - loss: 228.9160 - mse: 228.9160 - val_loss: 228.2263 - val_mse: 228.2263\n",
            "Epoch 10/10\n",
            "40/40 - 0s - loss: 228.9763 - mse: 228.9763 - val_loss: 228.2092 - val_mse: 228.2092\n"
          ],
          "name": "stdout"
        },
        {
          "output_type": "stream",
          "text": [
            "\r 90%|█████████ | 18/20 [01:01<00:05,  2.92s/it]"
          ],
          "name": "stderr"
        },
        {
          "output_type": "stream",
          "text": [
            "Epoch 1/10\n",
            "40/40 - 1s - loss: 215.6094 - mse: 215.6094 - val_loss: 201.8295 - val_mse: 201.8295\n",
            "Epoch 2/10\n",
            "40/40 - 0s - loss: 200.3749 - mse: 200.3749 - val_loss: 192.1865 - val_mse: 192.1865\n",
            "Epoch 3/10\n",
            "40/40 - 0s - loss: 192.8027 - mse: 192.8027 - val_loss: 189.9651 - val_mse: 189.9651\n",
            "Epoch 4/10\n",
            "40/40 - 0s - loss: 192.6428 - mse: 192.6428 - val_loss: 189.2772 - val_mse: 189.2772\n",
            "Epoch 5/10\n",
            "40/40 - 0s - loss: 189.9973 - mse: 189.9973 - val_loss: 188.6112 - val_mse: 188.6113\n",
            "Epoch 6/10\n",
            "40/40 - 0s - loss: 188.5364 - mse: 188.5364 - val_loss: 188.6226 - val_mse: 188.6226\n",
            "Epoch 7/10\n",
            "40/40 - 0s - loss: 189.9400 - mse: 189.9400 - val_loss: 188.7020 - val_mse: 188.7020\n",
            "Epoch 8/10\n",
            "40/40 - 0s - loss: 188.4258 - mse: 188.4258 - val_loss: 188.6353 - val_mse: 188.6353\n",
            "Epoch 9/10\n",
            "40/40 - 0s - loss: 187.7642 - mse: 187.7642 - val_loss: 188.7258 - val_mse: 188.7258\n",
            "Epoch 10/10\n",
            "40/40 - 0s - loss: 188.2480 - mse: 188.2480 - val_loss: 188.7988 - val_mse: 188.7988\n"
          ],
          "name": "stdout"
        },
        {
          "output_type": "stream",
          "text": [
            "\r 95%|█████████▌| 19/20 [01:05<00:03,  3.33s/it]"
          ],
          "name": "stderr"
        },
        {
          "output_type": "stream",
          "text": [
            "Epoch 1/10\n",
            "40/40 - 1s - loss: 218.5502 - mse: 218.5502 - val_loss: 198.3428 - val_mse: 198.3428\n",
            "Epoch 2/10\n",
            "40/40 - 0s - loss: 195.6398 - mse: 195.6398 - val_loss: 187.3072 - val_mse: 187.3072\n",
            "Epoch 3/10\n",
            "40/40 - 0s - loss: 192.8884 - mse: 192.8884 - val_loss: 187.8651 - val_mse: 187.8651\n",
            "Epoch 4/10\n",
            "40/40 - 0s - loss: 192.1023 - mse: 192.1023 - val_loss: 188.4868 - val_mse: 188.4868\n",
            "Epoch 5/10\n",
            "40/40 - 0s - loss: 189.0537 - mse: 189.0537 - val_loss: 188.6577 - val_mse: 188.6577\n",
            "Epoch 6/10\n",
            "40/40 - 0s - loss: 189.6186 - mse: 189.6186 - val_loss: 190.4243 - val_mse: 190.4243\n",
            "Epoch 7/10\n",
            "40/40 - 0s - loss: 189.2635 - mse: 189.2635 - val_loss: 190.3365 - val_mse: 190.3365\n"
          ],
          "name": "stdout"
        },
        {
          "output_type": "stream",
          "text": [
            "100%|██████████| 20/20 [01:08<00:00,  3.42s/it]\n",
            "  0%|          | 0/20 [00:00<?, ?it/s]"
          ],
          "name": "stderr"
        },
        {
          "output_type": "stream",
          "text": [
            "Epoch 1/10\n",
            "40/40 - 1s - loss: 212.6290 - mse: 212.6290 - val_loss: 194.0160 - val_mse: 194.0160\n",
            "Epoch 2/10\n",
            "40/40 - 0s - loss: 194.2057 - mse: 194.2057 - val_loss: 195.4480 - val_mse: 195.4480\n",
            "Epoch 3/10\n",
            "40/40 - 0s - loss: 191.9516 - mse: 191.9516 - val_loss: 194.5707 - val_mse: 194.5707\n",
            "Epoch 4/10\n",
            "40/40 - 0s - loss: 193.8569 - mse: 193.8569 - val_loss: 191.7561 - val_mse: 191.7561\n",
            "Epoch 5/10\n",
            "40/40 - 0s - loss: 189.8233 - mse: 189.8233 - val_loss: 196.1949 - val_mse: 196.1949\n",
            "Epoch 6/10\n",
            "40/40 - 0s - loss: 188.7682 - mse: 188.7682 - val_loss: 197.4765 - val_mse: 197.4765\n",
            "Epoch 7/10\n",
            "40/40 - 0s - loss: 190.6676 - mse: 190.6676 - val_loss: 193.6732 - val_mse: 193.6732\n",
            "Epoch 8/10\n",
            "40/40 - 0s - loss: 189.4612 - mse: 189.4612 - val_loss: 190.1792 - val_mse: 190.1792\n",
            "Epoch 9/10\n",
            "40/40 - 0s - loss: 188.8751 - mse: 188.8751 - val_loss: 193.6848 - val_mse: 193.6848\n",
            "Epoch 10/10\n",
            "40/40 - 0s - loss: 190.3725 - mse: 190.3725 - val_loss: 191.2415 - val_mse: 191.2415\n"
          ],
          "name": "stdout"
        },
        {
          "output_type": "stream",
          "text": [
            "\r 50%|█████     | 10/20 [00:03<00:03,  2.69it/s]"
          ],
          "name": "stderr"
        },
        {
          "output_type": "stream",
          "text": [
            "Epoch 1/10\n",
            "40/40 - 1s - loss: 219.1601 - mse: 219.1601 - val_loss: 207.8800 - val_mse: 207.8799\n",
            "Epoch 2/10\n",
            "40/40 - 0s - loss: 206.6283 - mse: 206.6284 - val_loss: 199.7520 - val_mse: 199.7520\n",
            "Epoch 3/10\n",
            "40/40 - 0s - loss: 202.2515 - mse: 202.2515 - val_loss: 194.8848 - val_mse: 194.8848\n",
            "Epoch 4/10\n",
            "40/40 - 0s - loss: 197.6811 - mse: 197.6811 - val_loss: 192.0900 - val_mse: 192.0900\n",
            "Epoch 5/10\n",
            "40/40 - 0s - loss: 195.6569 - mse: 195.6569 - val_loss: 189.7379 - val_mse: 189.7379\n",
            "Epoch 6/10\n",
            "40/40 - 0s - loss: 191.7170 - mse: 191.7170 - val_loss: 188.2544 - val_mse: 188.2544\n",
            "Epoch 7/10\n",
            "40/40 - 0s - loss: 192.2149 - mse: 192.2149 - val_loss: 187.7039 - val_mse: 187.7039\n",
            "Epoch 8/10\n",
            "40/40 - 0s - loss: 189.5535 - mse: 189.5535 - val_loss: 187.1102 - val_mse: 187.1102\n",
            "Epoch 9/10\n",
            "40/40 - 0s - loss: 189.3931 - mse: 189.3931 - val_loss: 186.7587 - val_mse: 186.7587\n",
            "Epoch 10/10\n",
            "40/40 - 0s - loss: 189.5307 - mse: 189.5307 - val_loss: 186.7079 - val_mse: 186.7079\n"
          ],
          "name": "stdout"
        },
        {
          "output_type": "stream",
          "text": [
            "\r 55%|█████▌    | 11/20 [00:06<00:10,  1.16s/it]"
          ],
          "name": "stderr"
        },
        {
          "output_type": "stream",
          "text": [
            "Epoch 1/10\n",
            "40/40 - 1s - loss: 222.0469 - mse: 222.0469 - val_loss: 211.4529 - val_mse: 211.4529\n",
            "Epoch 2/10\n",
            "40/40 - 0s - loss: 206.2063 - mse: 206.2063 - val_loss: 196.1645 - val_mse: 196.1645\n",
            "Epoch 3/10\n",
            "40/40 - 0s - loss: 199.7244 - mse: 199.7244 - val_loss: 191.6913 - val_mse: 191.6913\n",
            "Epoch 4/10\n",
            "40/40 - 0s - loss: 193.2675 - mse: 193.2675 - val_loss: 190.7223 - val_mse: 190.7223\n",
            "Epoch 5/10\n",
            "40/40 - 0s - loss: 196.5789 - mse: 196.5789 - val_loss: 188.0744 - val_mse: 188.0744\n",
            "Epoch 6/10\n",
            "40/40 - 0s - loss: 195.3640 - mse: 195.3640 - val_loss: 190.0046 - val_mse: 190.0046\n",
            "Epoch 7/10\n",
            "40/40 - 0s - loss: 193.4884 - mse: 193.4884 - val_loss: 191.1205 - val_mse: 191.1205\n",
            "Epoch 8/10\n",
            "40/40 - 0s - loss: 194.8265 - mse: 194.8265 - val_loss: 191.0344 - val_mse: 191.0344\n",
            "Epoch 9/10\n",
            "40/40 - 0s - loss: 194.3309 - mse: 194.3309 - val_loss: 190.9247 - val_mse: 190.9247\n",
            "Epoch 10/10\n",
            "40/40 - 0s - loss: 190.6980 - mse: 190.6980 - val_loss: 192.1919 - val_mse: 192.1919\n"
          ],
          "name": "stdout"
        },
        {
          "output_type": "stream",
          "text": [
            "\r 60%|██████    | 12/20 [00:10<00:14,  1.84s/it]"
          ],
          "name": "stderr"
        },
        {
          "output_type": "stream",
          "text": [
            "Epoch 1/10\n",
            "40/40 - 1s - loss: 228.2017 - mse: 228.2017 - val_loss: 225.3087 - val_mse: 225.3087\n",
            "Epoch 2/10\n",
            "40/40 - 0s - loss: 226.3574 - mse: 226.3574 - val_loss: 224.1003 - val_mse: 224.1003\n",
            "Epoch 3/10\n",
            "40/40 - 0s - loss: 225.2919 - mse: 225.2919 - val_loss: 223.1227 - val_mse: 223.1227\n",
            "Epoch 4/10\n",
            "40/40 - 0s - loss: 225.8237 - mse: 225.8237 - val_loss: 222.4302 - val_mse: 222.4302\n",
            "Epoch 5/10\n",
            "40/40 - 0s - loss: 224.7419 - mse: 224.7419 - val_loss: 221.8134 - val_mse: 221.8134\n",
            "Epoch 6/10\n",
            "40/40 - 0s - loss: 224.0524 - mse: 224.0524 - val_loss: 221.2517 - val_mse: 221.2517\n",
            "Epoch 7/10\n",
            "40/40 - 0s - loss: 223.3760 - mse: 223.3760 - val_loss: 220.7540 - val_mse: 220.7540\n",
            "Epoch 8/10\n",
            "40/40 - 0s - loss: 224.6105 - mse: 224.6105 - val_loss: 220.2500 - val_mse: 220.2500\n",
            "Epoch 9/10\n",
            "40/40 - 0s - loss: 223.7848 - mse: 223.7848 - val_loss: 219.7587 - val_mse: 219.7587\n",
            "Epoch 10/10\n",
            "40/40 - 0s - loss: 222.9639 - mse: 222.9639 - val_loss: 219.3256 - val_mse: 219.3256\n"
          ],
          "name": "stdout"
        },
        {
          "output_type": "stream",
          "text": [
            "\r 65%|██████▌   | 13/20 [00:13<00:15,  2.19s/it]"
          ],
          "name": "stderr"
        },
        {
          "output_type": "stream",
          "text": [
            "Epoch 1/10\n",
            "40/40 - 1s - loss: 221.0498 - mse: 221.0497 - val_loss: 203.1104 - val_mse: 203.1104\n",
            "Epoch 2/10\n",
            "40/40 - 0s - loss: 197.6233 - mse: 197.6233 - val_loss: 187.8957 - val_mse: 187.8957\n",
            "Epoch 3/10\n",
            "40/40 - 0s - loss: 190.9032 - mse: 190.9032 - val_loss: 188.4384 - val_mse: 188.4384\n",
            "Epoch 4/10\n",
            "40/40 - 0s - loss: 189.7947 - mse: 189.7947 - val_loss: 189.3714 - val_mse: 189.3714\n",
            "Epoch 5/10\n",
            "40/40 - 0s - loss: 188.9297 - mse: 188.9297 - val_loss: 190.6691 - val_mse: 190.6691\n",
            "Epoch 6/10\n",
            "40/40 - 0s - loss: 188.0460 - mse: 188.0460 - val_loss: 191.4832 - val_mse: 191.4832\n",
            "Epoch 7/10\n",
            "40/40 - 0s - loss: 188.5178 - mse: 188.5178 - val_loss: 192.0869 - val_mse: 192.0869\n"
          ],
          "name": "stdout"
        },
        {
          "output_type": "stream",
          "text": [
            "\r 70%|███████   | 14/20 [00:15<00:13,  2.30s/it]"
          ],
          "name": "stderr"
        },
        {
          "output_type": "stream",
          "text": [
            "Epoch 1/10\n",
            "40/40 - 1s - loss: 227.6329 - mse: 227.6329 - val_loss: 225.1719 - val_mse: 225.1719\n",
            "Epoch 2/10\n",
            "40/40 - 0s - loss: 224.8211 - mse: 224.8211 - val_loss: 222.5599 - val_mse: 222.5599\n",
            "Epoch 3/10\n",
            "40/40 - 0s - loss: 222.5939 - mse: 222.5939 - val_loss: 220.3758 - val_mse: 220.3758\n",
            "Epoch 4/10\n",
            "40/40 - 0s - loss: 220.6185 - mse: 220.6185 - val_loss: 218.2918 - val_mse: 218.2918\n",
            "Epoch 5/10\n",
            "40/40 - 0s - loss: 218.8915 - mse: 218.8914 - val_loss: 216.3107 - val_mse: 216.3107\n",
            "Epoch 6/10\n",
            "40/40 - 0s - loss: 217.5200 - mse: 217.5200 - val_loss: 214.4528 - val_mse: 214.4528\n",
            "Epoch 7/10\n",
            "40/40 - 0s - loss: 216.1314 - mse: 216.1314 - val_loss: 212.6090 - val_mse: 212.6090\n",
            "Epoch 8/10\n",
            "40/40 - 0s - loss: 214.0642 - mse: 214.0642 - val_loss: 210.8391 - val_mse: 210.8391\n",
            "Epoch 9/10\n",
            "40/40 - 0s - loss: 214.8415 - mse: 214.8415 - val_loss: 209.1803 - val_mse: 209.1803\n",
            "Epoch 10/10\n",
            "40/40 - 0s - loss: 210.9070 - mse: 210.9070 - val_loss: 207.4625 - val_mse: 207.4625\n"
          ],
          "name": "stdout"
        },
        {
          "output_type": "stream",
          "text": [
            "\r 75%|███████▌  | 15/20 [00:18<00:12,  2.53s/it]"
          ],
          "name": "stderr"
        },
        {
          "output_type": "stream",
          "text": [
            "Epoch 1/10\n",
            "40/40 - 1s - loss: 223.5940 - mse: 223.5940 - val_loss: 214.6422 - val_mse: 214.6422\n",
            "Epoch 2/10\n",
            "40/40 - 0s - loss: 212.7085 - mse: 212.7085 - val_loss: 204.9671 - val_mse: 204.9671\n",
            "Epoch 3/10\n",
            "40/40 - 0s - loss: 203.8264 - mse: 203.8264 - val_loss: 196.5590 - val_mse: 196.5590\n",
            "Epoch 4/10\n",
            "40/40 - 0s - loss: 196.1425 - mse: 196.1425 - val_loss: 191.8548 - val_mse: 191.8548\n",
            "Epoch 5/10\n",
            "40/40 - 0s - loss: 190.6290 - mse: 190.6290 - val_loss: 188.2833 - val_mse: 188.2833\n",
            "Epoch 6/10\n",
            "40/40 - 0s - loss: 189.0239 - mse: 189.0239 - val_loss: 186.8522 - val_mse: 186.8522\n",
            "Epoch 7/10\n",
            "40/40 - 0s - loss: 187.6969 - mse: 187.6969 - val_loss: 186.9837 - val_mse: 186.9837\n",
            "Epoch 8/10\n",
            "40/40 - 0s - loss: 187.9219 - mse: 187.9219 - val_loss: 186.0315 - val_mse: 186.0315\n",
            "Epoch 9/10\n",
            "40/40 - 0s - loss: 188.0074 - mse: 188.0074 - val_loss: 187.2568 - val_mse: 187.2568\n",
            "Epoch 10/10\n",
            "40/40 - 0s - loss: 186.5170 - mse: 186.5170 - val_loss: 187.4883 - val_mse: 187.4883\n"
          ],
          "name": "stdout"
        },
        {
          "output_type": "stream",
          "text": [
            "\r 80%|████████  | 16/20 [00:21<00:10,  2.72s/it]"
          ],
          "name": "stderr"
        },
        {
          "output_type": "stream",
          "text": [
            "Epoch 1/10\n",
            "40/40 - 1s - loss: 226.1553 - mse: 226.1553 - val_loss: 217.4426 - val_mse: 217.4426\n",
            "Epoch 2/10\n",
            "40/40 - 0s - loss: 213.2459 - mse: 213.2459 - val_loss: 206.1902 - val_mse: 206.1902\n",
            "Epoch 3/10\n",
            "40/40 - 0s - loss: 204.1499 - mse: 204.1499 - val_loss: 197.7010 - val_mse: 197.7010\n",
            "Epoch 4/10\n",
            "40/40 - 0s - loss: 196.5666 - mse: 196.5666 - val_loss: 192.4268 - val_mse: 192.4268\n",
            "Epoch 5/10\n",
            "40/40 - 0s - loss: 192.5794 - mse: 192.5794 - val_loss: 189.9148 - val_mse: 189.9148\n",
            "Epoch 6/10\n",
            "40/40 - 0s - loss: 189.1115 - mse: 189.1115 - val_loss: 188.2563 - val_mse: 188.2563\n",
            "Epoch 7/10\n",
            "40/40 - 0s - loss: 188.7927 - mse: 188.7927 - val_loss: 187.9512 - val_mse: 187.9512\n",
            "Epoch 8/10\n",
            "40/40 - 0s - loss: 187.6564 - mse: 187.6564 - val_loss: 187.7376 - val_mse: 187.7376\n",
            "Epoch 9/10\n",
            "40/40 - 0s - loss: 187.1309 - mse: 187.1309 - val_loss: 187.3088 - val_mse: 187.3088\n",
            "Epoch 10/10\n",
            "40/40 - 0s - loss: 186.4906 - mse: 186.4906 - val_loss: 188.3358 - val_mse: 188.3358\n"
          ],
          "name": "stdout"
        },
        {
          "output_type": "stream",
          "text": [
            "\r 85%|████████▌ | 17/20 [00:24<00:08,  2.74s/it]"
          ],
          "name": "stderr"
        },
        {
          "output_type": "stream",
          "text": [
            "Epoch 1/10\n",
            "40/40 - 1s - loss: 225.6103 - mse: 225.6103 - val_loss: 222.9157 - val_mse: 222.9157\n",
            "Epoch 2/10\n",
            "40/40 - 0s - loss: 223.9290 - mse: 223.9290 - val_loss: 221.4681 - val_mse: 221.4681\n",
            "Epoch 3/10\n",
            "40/40 - 0s - loss: 222.2635 - mse: 222.2635 - val_loss: 220.3729 - val_mse: 220.3729\n",
            "Epoch 4/10\n",
            "40/40 - 0s - loss: 221.3414 - mse: 221.3414 - val_loss: 219.4605 - val_mse: 219.4605\n",
            "Epoch 5/10\n",
            "40/40 - 0s - loss: 220.4462 - mse: 220.4462 - val_loss: 218.6824 - val_mse: 218.6824\n",
            "Epoch 6/10\n",
            "40/40 - 0s - loss: 219.7556 - mse: 219.7556 - val_loss: 217.9796 - val_mse: 217.9796\n",
            "Epoch 7/10\n",
            "40/40 - 0s - loss: 219.1778 - mse: 219.1778 - val_loss: 217.3479 - val_mse: 217.3479\n",
            "Epoch 8/10\n",
            "40/40 - 0s - loss: 217.8073 - mse: 217.8073 - val_loss: 216.7523 - val_mse: 216.7523\n",
            "Epoch 9/10\n",
            "40/40 - 0s - loss: 217.9033 - mse: 217.9033 - val_loss: 216.2061 - val_mse: 216.2061\n",
            "Epoch 10/10\n",
            "40/40 - 0s - loss: 217.8952 - mse: 217.8952 - val_loss: 215.6893 - val_mse: 215.6893\n"
          ],
          "name": "stdout"
        },
        {
          "output_type": "stream",
          "text": [
            "\r 90%|█████████ | 18/20 [00:27<00:05,  2.71s/it]"
          ],
          "name": "stderr"
        },
        {
          "output_type": "stream",
          "text": [
            "Epoch 1/10\n",
            "40/40 - 1s - loss: 226.6057 - mse: 226.6057 - val_loss: 219.8797 - val_mse: 219.8797\n",
            "Epoch 2/10\n",
            "40/40 - 0s - loss: 216.3290 - mse: 216.3290 - val_loss: 209.9006 - val_mse: 209.9006\n",
            "Epoch 3/10\n",
            "40/40 - 0s - loss: 206.6940 - mse: 206.6940 - val_loss: 200.8880 - val_mse: 200.8880\n",
            "Epoch 4/10\n",
            "40/40 - 0s - loss: 198.9121 - mse: 198.9121 - val_loss: 194.0920 - val_mse: 194.0920\n",
            "Epoch 5/10\n",
            "40/40 - 0s - loss: 192.3674 - mse: 192.3674 - val_loss: 190.5240 - val_mse: 190.5240\n",
            "Epoch 6/10\n",
            "40/40 - 0s - loss: 189.5246 - mse: 189.5246 - val_loss: 188.4386 - val_mse: 188.4386\n",
            "Epoch 7/10\n",
            "40/40 - 0s - loss: 188.3686 - mse: 188.3686 - val_loss: 187.0954 - val_mse: 187.0954\n",
            "Epoch 8/10\n",
            "40/40 - 0s - loss: 188.4789 - mse: 188.4789 - val_loss: 187.4987 - val_mse: 187.4987\n",
            "Epoch 9/10\n",
            "40/40 - 0s - loss: 187.9504 - mse: 187.9504 - val_loss: 186.9585 - val_mse: 186.9585\n",
            "Epoch 10/10\n",
            "40/40 - 0s - loss: 187.0153 - mse: 187.0153 - val_loss: 187.6519 - val_mse: 187.6519\n"
          ],
          "name": "stdout"
        },
        {
          "output_type": "stream",
          "text": [
            "\r 95%|█████████▌| 19/20 [00:30<00:02,  2.72s/it]"
          ],
          "name": "stderr"
        },
        {
          "output_type": "stream",
          "text": [
            "Epoch 1/10\n",
            "40/40 - 1s - loss: 211.3886 - mse: 211.3886 - val_loss: 190.2674 - val_mse: 190.2674\n",
            "Epoch 2/10\n",
            "40/40 - 1s - loss: 194.2028 - mse: 194.2028 - val_loss: 188.3124 - val_mse: 188.3124\n",
            "Epoch 3/10\n",
            "40/40 - 1s - loss: 190.4512 - mse: 190.4512 - val_loss: 187.7066 - val_mse: 187.7066\n",
            "Epoch 4/10\n",
            "40/40 - 1s - loss: 188.7000 - mse: 188.7000 - val_loss: 188.7655 - val_mse: 188.7655\n",
            "Epoch 5/10\n",
            "40/40 - 0s - loss: 188.9151 - mse: 188.9151 - val_loss: 188.0842 - val_mse: 188.0842\n",
            "Epoch 6/10\n",
            "40/40 - 1s - loss: 188.2887 - mse: 188.2887 - val_loss: 189.1840 - val_mse: 189.1840\n",
            "Epoch 7/10\n",
            "40/40 - 1s - loss: 188.2749 - mse: 188.2749 - val_loss: 189.0840 - val_mse: 189.0840\n",
            "Epoch 8/10\n",
            "40/40 - 1s - loss: 185.1779 - mse: 185.1779 - val_loss: 189.6508 - val_mse: 189.6508\n"
          ],
          "name": "stdout"
        },
        {
          "output_type": "stream",
          "text": [
            "100%|██████████| 20/20 [00:35<00:00,  1.77s/it]\n",
            "  0%|          | 0/20 [00:00<?, ?it/s]"
          ],
          "name": "stderr"
        },
        {
          "output_type": "stream",
          "text": [
            "Epoch 1/10\n",
            "40/40 - 1s - loss: 229.8126 - mse: 229.8126 - val_loss: 226.1644 - val_mse: 226.1644\n",
            "Epoch 2/10\n",
            "40/40 - 0s - loss: 228.6474 - mse: 228.6474 - val_loss: 224.5816 - val_mse: 224.5816\n",
            "Epoch 3/10\n",
            "40/40 - 0s - loss: 226.5016 - mse: 226.5016 - val_loss: 223.4148 - val_mse: 223.4148\n",
            "Epoch 4/10\n",
            "40/40 - 0s - loss: 225.9075 - mse: 225.9075 - val_loss: 222.4196 - val_mse: 222.4196\n",
            "Epoch 5/10\n",
            "40/40 - 0s - loss: 224.1434 - mse: 224.1434 - val_loss: 221.5692 - val_mse: 221.5692\n",
            "Epoch 6/10\n",
            "40/40 - 0s - loss: 223.2131 - mse: 223.2131 - val_loss: 220.7952 - val_mse: 220.7952\n",
            "Epoch 7/10\n",
            "40/40 - 0s - loss: 223.0697 - mse: 223.0697 - val_loss: 220.0891 - val_mse: 220.0891\n",
            "Epoch 8/10\n",
            "40/40 - 0s - loss: 222.0982 - mse: 222.0982 - val_loss: 219.4407 - val_mse: 219.4407\n",
            "Epoch 9/10\n",
            "40/40 - 0s - loss: 221.5864 - mse: 221.5864 - val_loss: 218.8372 - val_mse: 218.8372\n",
            "Epoch 10/10\n",
            "40/40 - 0s - loss: 221.3987 - mse: 221.3987 - val_loss: 218.2674 - val_mse: 218.2674\n"
          ],
          "name": "stdout"
        },
        {
          "output_type": "stream",
          "text": [
            "\r 50%|█████     | 10/20 [00:02<00:02,  3.71it/s]"
          ],
          "name": "stderr"
        },
        {
          "output_type": "stream",
          "text": [
            "Epoch 1/10\n",
            "40/40 - 1s - loss: 224.2910 - mse: 224.2910 - val_loss: 216.5637 - val_mse: 216.5637\n",
            "Epoch 2/10\n",
            "40/40 - 0s - loss: 213.0119 - mse: 213.0119 - val_loss: 205.8847 - val_mse: 205.8847\n",
            "Epoch 3/10\n",
            "40/40 - 0s - loss: 203.7486 - mse: 203.7486 - val_loss: 198.2823 - val_mse: 198.2823\n",
            "Epoch 4/10\n",
            "40/40 - 0s - loss: 196.4628 - mse: 196.4628 - val_loss: 192.8412 - val_mse: 192.8412\n",
            "Epoch 5/10\n",
            "40/40 - 0s - loss: 191.7902 - mse: 191.7902 - val_loss: 189.6648 - val_mse: 189.6648\n",
            "Epoch 6/10\n",
            "40/40 - 0s - loss: 190.0225 - mse: 190.0225 - val_loss: 189.0879 - val_mse: 189.0879\n",
            "Epoch 7/10\n",
            "40/40 - 0s - loss: 187.9430 - mse: 187.9430 - val_loss: 187.4022 - val_mse: 187.4022\n",
            "Epoch 8/10\n",
            "40/40 - 0s - loss: 186.5756 - mse: 186.5756 - val_loss: 188.4412 - val_mse: 188.4412\n",
            "Epoch 9/10\n",
            "40/40 - 0s - loss: 188.5128 - mse: 188.5128 - val_loss: 187.8352 - val_mse: 187.8352\n",
            "Epoch 10/10\n",
            "40/40 - 0s - loss: 186.0637 - mse: 186.0637 - val_loss: 187.6211 - val_mse: 187.6211\n"
          ],
          "name": "stdout"
        },
        {
          "output_type": "stream",
          "text": [
            "\r 55%|█████▌    | 11/20 [00:05<00:09,  1.01s/it]"
          ],
          "name": "stderr"
        },
        {
          "output_type": "stream",
          "text": [
            "Epoch 1/10\n",
            "40/40 - 1s - loss: 223.2417 - mse: 223.2417 - val_loss: 214.9361 - val_mse: 214.9361\n",
            "Epoch 2/10\n",
            "40/40 - 0s - loss: 215.2522 - mse: 215.2522 - val_loss: 206.7910 - val_mse: 206.7910\n",
            "Epoch 3/10\n",
            "40/40 - 0s - loss: 208.3109 - mse: 208.3109 - val_loss: 200.5120 - val_mse: 200.5120\n",
            "Epoch 4/10\n",
            "40/40 - 0s - loss: 203.0067 - mse: 203.0067 - val_loss: 195.8730 - val_mse: 195.8730\n",
            "Epoch 5/10\n",
            "40/40 - 0s - loss: 199.0626 - mse: 199.0626 - val_loss: 192.6379 - val_mse: 192.6379\n",
            "Epoch 6/10\n",
            "40/40 - 0s - loss: 195.9847 - mse: 195.9847 - val_loss: 190.2384 - val_mse: 190.2384\n",
            "Epoch 7/10\n",
            "40/40 - 0s - loss: 195.8723 - mse: 195.8723 - val_loss: 188.8534 - val_mse: 188.8534\n",
            "Epoch 8/10\n",
            "40/40 - 0s - loss: 193.5735 - mse: 193.5735 - val_loss: 187.8452 - val_mse: 187.8452\n",
            "Epoch 9/10\n",
            "40/40 - 0s - loss: 191.6692 - mse: 191.6692 - val_loss: 187.2187 - val_mse: 187.2187\n",
            "Epoch 10/10\n",
            "40/40 - 0s - loss: 190.7531 - mse: 190.7531 - val_loss: 186.8249 - val_mse: 186.8249\n"
          ],
          "name": "stdout"
        },
        {
          "output_type": "stream",
          "text": [
            "\r 60%|██████    | 12/20 [00:08<00:13,  1.64s/it]"
          ],
          "name": "stderr"
        },
        {
          "output_type": "stream",
          "text": [
            "Epoch 1/10\n",
            "40/40 - 1s - loss: 225.4991 - mse: 225.4991 - val_loss: 217.7708 - val_mse: 217.7708\n",
            "Epoch 2/10\n",
            "40/40 - 0s - loss: 214.1887 - mse: 214.1887 - val_loss: 207.2757 - val_mse: 207.2757\n",
            "Epoch 3/10\n",
            "40/40 - 0s - loss: 204.8294 - mse: 204.8294 - val_loss: 199.3422 - val_mse: 199.3422\n",
            "Epoch 4/10\n",
            "40/40 - 0s - loss: 197.5471 - mse: 197.5471 - val_loss: 192.5839 - val_mse: 192.5839\n",
            "Epoch 5/10\n",
            "40/40 - 0s - loss: 192.3663 - mse: 192.3663 - val_loss: 189.2680 - val_mse: 189.2680\n",
            "Epoch 6/10\n",
            "40/40 - 0s - loss: 188.7339 - mse: 188.7339 - val_loss: 187.5678 - val_mse: 187.5678\n",
            "Epoch 7/10\n",
            "40/40 - 0s - loss: 188.7586 - mse: 188.7586 - val_loss: 187.8045 - val_mse: 187.8045\n",
            "Epoch 8/10\n",
            "40/40 - 0s - loss: 187.2929 - mse: 187.2929 - val_loss: 187.3028 - val_mse: 187.3028\n",
            "Epoch 9/10\n",
            "40/40 - 0s - loss: 186.3143 - mse: 186.3143 - val_loss: 187.3443 - val_mse: 187.3443\n",
            "Epoch 10/10\n",
            "40/40 - 0s - loss: 185.4638 - mse: 185.4638 - val_loss: 187.8114 - val_mse: 187.8114\n"
          ],
          "name": "stdout"
        },
        {
          "output_type": "stream",
          "text": [
            "\r 65%|██████▌   | 13/20 [00:11<00:13,  1.98s/it]"
          ],
          "name": "stderr"
        },
        {
          "output_type": "stream",
          "text": [
            "Epoch 1/10\n",
            "40/40 - 1s - loss: 222.0930 - mse: 222.0930 - val_loss: 213.9784 - val_mse: 213.9784\n",
            "Epoch 2/10\n",
            "40/40 - 0s - loss: 206.4059 - mse: 206.4059 - val_loss: 197.8886 - val_mse: 197.8886\n",
            "Epoch 3/10\n",
            "40/40 - 0s - loss: 194.7648 - mse: 194.7648 - val_loss: 190.9808 - val_mse: 190.9808\n",
            "Epoch 4/10\n",
            "40/40 - 0s - loss: 191.8495 - mse: 191.8495 - val_loss: 189.9086 - val_mse: 189.9086\n",
            "Epoch 5/10\n",
            "40/40 - 0s - loss: 192.5948 - mse: 192.5948 - val_loss: 189.5831 - val_mse: 189.5831\n",
            "Epoch 6/10\n",
            "40/40 - 0s - loss: 190.0255 - mse: 190.0255 - val_loss: 188.8980 - val_mse: 188.8980\n",
            "Epoch 7/10\n",
            "40/40 - 0s - loss: 187.0941 - mse: 187.0941 - val_loss: 189.5297 - val_mse: 189.5297\n",
            "Epoch 8/10\n",
            "40/40 - 0s - loss: 187.1791 - mse: 187.1791 - val_loss: 190.3779 - val_mse: 190.3779\n",
            "Epoch 9/10\n",
            "40/40 - 0s - loss: 185.6086 - mse: 185.6086 - val_loss: 190.9976 - val_mse: 190.9976\n",
            "Epoch 10/10\n",
            "40/40 - 0s - loss: 187.6577 - mse: 187.6577 - val_loss: 190.3104 - val_mse: 190.3104\n"
          ],
          "name": "stdout"
        },
        {
          "output_type": "stream",
          "text": [
            "\r 70%|███████   | 14/20 [00:14<00:13,  2.24s/it]"
          ],
          "name": "stderr"
        },
        {
          "output_type": "stream",
          "text": [
            "Epoch 1/10\n",
            "40/40 - 1s - loss: 226.1069 - mse: 226.1069 - val_loss: 217.5263 - val_mse: 217.5263\n",
            "Epoch 2/10\n",
            "40/40 - 0s - loss: 214.8885 - mse: 214.8885 - val_loss: 206.7205 - val_mse: 206.7205\n",
            "Epoch 3/10\n",
            "40/40 - 0s - loss: 205.9920 - mse: 205.9920 - val_loss: 198.4805 - val_mse: 198.4805\n",
            "Epoch 4/10\n",
            "40/40 - 0s - loss: 198.0667 - mse: 198.0667 - val_loss: 192.3954 - val_mse: 192.3954\n",
            "Epoch 5/10\n",
            "40/40 - 0s - loss: 193.7805 - mse: 193.7805 - val_loss: 189.6230 - val_mse: 189.6230\n",
            "Epoch 6/10\n",
            "40/40 - 0s - loss: 190.0910 - mse: 190.0910 - val_loss: 187.0726 - val_mse: 187.0726\n",
            "Epoch 7/10\n",
            "40/40 - 0s - loss: 188.1615 - mse: 188.1615 - val_loss: 187.4499 - val_mse: 187.4499\n",
            "Epoch 8/10\n",
            "40/40 - 0s - loss: 189.0413 - mse: 189.0413 - val_loss: 186.8689 - val_mse: 186.8689\n",
            "Epoch 9/10\n",
            "40/40 - 0s - loss: 187.3489 - mse: 187.3489 - val_loss: 187.1905 - val_mse: 187.1905\n",
            "Epoch 10/10\n",
            "40/40 - 0s - loss: 187.3419 - mse: 187.3419 - val_loss: 187.8824 - val_mse: 187.8824\n"
          ],
          "name": "stdout"
        },
        {
          "output_type": "stream",
          "text": [
            "\r 75%|███████▌  | 15/20 [00:17<00:12,  2.53s/it]"
          ],
          "name": "stderr"
        },
        {
          "output_type": "stream",
          "text": [
            "Epoch 1/10\n",
            "40/40 - 1s - loss: 223.5151 - mse: 223.5151 - val_loss: 214.1675 - val_mse: 214.1675\n",
            "Epoch 2/10\n",
            "40/40 - 0s - loss: 212.1698 - mse: 212.1698 - val_loss: 205.1005 - val_mse: 205.1005\n",
            "Epoch 3/10\n",
            "40/40 - 0s - loss: 203.4868 - mse: 203.4868 - val_loss: 195.6676 - val_mse: 195.6676\n",
            "Epoch 4/10\n",
            "40/40 - 0s - loss: 196.7707 - mse: 196.7707 - val_loss: 191.0844 - val_mse: 191.0844\n",
            "Epoch 5/10\n",
            "40/40 - 0s - loss: 192.0677 - mse: 192.0677 - val_loss: 188.6494 - val_mse: 188.6494\n",
            "Epoch 6/10\n",
            "40/40 - 0s - loss: 189.5955 - mse: 189.5955 - val_loss: 187.3173 - val_mse: 187.3173\n",
            "Epoch 7/10\n",
            "40/40 - 0s - loss: 188.5914 - mse: 188.5914 - val_loss: 186.4882 - val_mse: 186.4882\n",
            "Epoch 8/10\n",
            "40/40 - 0s - loss: 187.1540 - mse: 187.1540 - val_loss: 186.5757 - val_mse: 186.5757\n",
            "Epoch 9/10\n",
            "40/40 - 0s - loss: 187.3013 - mse: 187.3013 - val_loss: 186.9195 - val_mse: 186.9195\n",
            "Epoch 10/10\n",
            "40/40 - 0s - loss: 187.3137 - mse: 187.3137 - val_loss: 186.1494 - val_mse: 186.1494\n"
          ],
          "name": "stdout"
        },
        {
          "output_type": "stream",
          "text": [
            "\r 80%|████████  | 16/20 [00:20<00:10,  2.60s/it]"
          ],
          "name": "stderr"
        },
        {
          "output_type": "stream",
          "text": [
            "Epoch 1/10\n",
            "40/40 - 1s - loss: 229.0225 - mse: 229.0225 - val_loss: 225.3457 - val_mse: 225.3457\n",
            "Epoch 2/10\n",
            "40/40 - 0s - loss: 227.0894 - mse: 227.0894 - val_loss: 223.6855 - val_mse: 223.6856\n",
            "Epoch 3/10\n",
            "40/40 - 0s - loss: 224.8597 - mse: 224.8597 - val_loss: 222.4328 - val_mse: 222.4328\n",
            "Epoch 4/10\n",
            "40/40 - 0s - loss: 223.5858 - mse: 223.5858 - val_loss: 221.3893 - val_mse: 221.3893\n",
            "Epoch 5/10\n",
            "40/40 - 0s - loss: 222.5741 - mse: 222.5741 - val_loss: 220.4822 - val_mse: 220.4822\n",
            "Epoch 6/10\n",
            "40/40 - 0s - loss: 221.6143 - mse: 221.6143 - val_loss: 219.6705 - val_mse: 219.6705\n",
            "Epoch 7/10\n",
            "40/40 - 0s - loss: 220.8176 - mse: 220.8176 - val_loss: 218.9299 - val_mse: 218.9299\n",
            "Epoch 8/10\n",
            "40/40 - 0s - loss: 219.8839 - mse: 219.8839 - val_loss: 218.2405 - val_mse: 218.2405\n",
            "Epoch 9/10\n",
            "40/40 - 0s - loss: 219.9952 - mse: 219.9952 - val_loss: 217.6046 - val_mse: 217.6046\n",
            "Epoch 10/10\n",
            "40/40 - 0s - loss: 218.9500 - mse: 218.9500 - val_loss: 216.9991 - val_mse: 216.9991\n"
          ],
          "name": "stdout"
        },
        {
          "output_type": "stream",
          "text": [
            "\r 85%|████████▌ | 17/20 [00:22<00:07,  2.62s/it]"
          ],
          "name": "stderr"
        },
        {
          "output_type": "stream",
          "text": [
            "Epoch 1/10\n",
            "40/40 - 1s - loss: 223.6541 - mse: 223.6541 - val_loss: 215.3849 - val_mse: 215.3849\n",
            "Epoch 2/10\n",
            "40/40 - 0s - loss: 212.3082 - mse: 212.3082 - val_loss: 204.7051 - val_mse: 204.7051\n",
            "Epoch 3/10\n",
            "40/40 - 0s - loss: 202.5739 - mse: 202.5739 - val_loss: 195.5726 - val_mse: 195.5726\n",
            "Epoch 4/10\n",
            "40/40 - 0s - loss: 195.8192 - mse: 195.8192 - val_loss: 191.2444 - val_mse: 191.2444\n",
            "Epoch 5/10\n",
            "40/40 - 0s - loss: 192.5683 - mse: 192.5683 - val_loss: 188.9088 - val_mse: 188.9088\n",
            "Epoch 6/10\n",
            "40/40 - 0s - loss: 190.0153 - mse: 190.0153 - val_loss: 188.1007 - val_mse: 188.1007\n",
            "Epoch 7/10\n",
            "40/40 - 0s - loss: 188.7500 - mse: 188.7500 - val_loss: 188.0558 - val_mse: 188.0558\n",
            "Epoch 8/10\n",
            "40/40 - 0s - loss: 186.8959 - mse: 186.8959 - val_loss: 187.6652 - val_mse: 187.6652\n",
            "Epoch 9/10\n",
            "40/40 - 0s - loss: 187.2442 - mse: 187.2442 - val_loss: 188.2993 - val_mse: 188.2993\n",
            "Epoch 10/10\n",
            "40/40 - 0s - loss: 187.0372 - mse: 187.0372 - val_loss: 187.6107 - val_mse: 187.6107\n"
          ],
          "name": "stdout"
        },
        {
          "output_type": "stream",
          "text": [
            "\r 90%|█████████ | 18/20 [00:25<00:05,  2.66s/it]"
          ],
          "name": "stderr"
        },
        {
          "output_type": "stream",
          "text": [
            "Epoch 1/10\n",
            "40/40 - 1s - loss: 230.4402 - mse: 230.4402 - val_loss: 223.2058 - val_mse: 223.2058\n",
            "Epoch 2/10\n",
            "40/40 - 0s - loss: 223.6574 - mse: 223.6574 - val_loss: 219.4205 - val_mse: 219.4205\n",
            "Epoch 3/10\n",
            "40/40 - 0s - loss: 220.8088 - mse: 220.8088 - val_loss: 216.5146 - val_mse: 216.5146\n",
            "Epoch 4/10\n",
            "40/40 - 0s - loss: 217.6969 - mse: 217.6969 - val_loss: 214.1374 - val_mse: 214.1374\n",
            "Epoch 5/10\n",
            "40/40 - 0s - loss: 215.4578 - mse: 215.4578 - val_loss: 212.0925 - val_mse: 212.0925\n",
            "Epoch 6/10\n",
            "40/40 - 0s - loss: 213.8091 - mse: 213.8091 - val_loss: 210.1463 - val_mse: 210.1463\n",
            "Epoch 7/10\n",
            "40/40 - 0s - loss: 212.2278 - mse: 212.2278 - val_loss: 208.4372 - val_mse: 208.4372\n",
            "Epoch 8/10\n",
            "40/40 - 0s - loss: 210.7013 - mse: 210.7013 - val_loss: 206.8833 - val_mse: 206.8833\n",
            "Epoch 9/10\n",
            "40/40 - 0s - loss: 208.3461 - mse: 208.3461 - val_loss: 205.4496 - val_mse: 205.4496\n",
            "Epoch 10/10\n",
            "40/40 - 0s - loss: 207.7887 - mse: 207.7887 - val_loss: 204.1413 - val_mse: 204.1413\n"
          ],
          "name": "stdout"
        },
        {
          "output_type": "stream",
          "text": [
            "\r 95%|█████████▌| 19/20 [00:28<00:02,  2.73s/it]"
          ],
          "name": "stderr"
        },
        {
          "output_type": "stream",
          "text": [
            "Epoch 1/10\n",
            "40/40 - 1s - loss: 223.9588 - mse: 223.9588 - val_loss: 215.3292 - val_mse: 215.3292\n",
            "Epoch 2/10\n",
            "40/40 - 0s - loss: 212.8366 - mse: 212.8366 - val_loss: 205.4042 - val_mse: 205.4042\n",
            "Epoch 3/10\n",
            "40/40 - 0s - loss: 203.6313 - mse: 203.6313 - val_loss: 196.8819 - val_mse: 196.8819\n",
            "Epoch 4/10\n",
            "40/40 - 0s - loss: 196.7745 - mse: 196.7745 - val_loss: 191.9362 - val_mse: 191.9362\n",
            "Epoch 5/10\n",
            "40/40 - 0s - loss: 191.7477 - mse: 191.7477 - val_loss: 188.1736 - val_mse: 188.1736\n",
            "Epoch 6/10\n",
            "40/40 - 0s - loss: 190.2884 - mse: 190.2884 - val_loss: 187.3242 - val_mse: 187.3242\n",
            "Epoch 7/10\n",
            "40/40 - 0s - loss: 188.6863 - mse: 188.6863 - val_loss: 187.6493 - val_mse: 187.6493\n",
            "Epoch 8/10\n",
            "40/40 - 0s - loss: 189.8511 - mse: 189.8511 - val_loss: 187.3786 - val_mse: 187.3786\n",
            "Epoch 9/10\n",
            "40/40 - 0s - loss: 186.5755 - mse: 186.5755 - val_loss: 188.0216 - val_mse: 188.0216\n",
            "Epoch 10/10\n",
            "40/40 - 0s - loss: 186.8254 - mse: 186.8254 - val_loss: 187.7978 - val_mse: 187.7978\n"
          ],
          "name": "stdout"
        },
        {
          "output_type": "stream",
          "text": [
            "100%|██████████| 20/20 [00:31<00:00,  1.56s/it]\n",
            "  0%|          | 0/20 [00:00<?, ?it/s]"
          ],
          "name": "stderr"
        },
        {
          "output_type": "stream",
          "text": [
            "Epoch 1/10\n",
            "40/40 - 1s - loss: 206.4432 - mse: 206.4432 - val_loss: 202.7813 - val_mse: 202.7813\n",
            "Epoch 2/10\n",
            "40/40 - 0s - loss: 196.6362 - mse: 196.6362 - val_loss: 189.1519 - val_mse: 189.1519\n",
            "Epoch 3/10\n",
            "40/40 - 0s - loss: 195.6502 - mse: 195.6502 - val_loss: 191.5602 - val_mse: 191.5602\n",
            "Epoch 4/10\n",
            "40/40 - 0s - loss: 198.8861 - mse: 198.8861 - val_loss: 186.2602 - val_mse: 186.2603\n",
            "Epoch 5/10\n",
            "40/40 - 0s - loss: 192.6674 - mse: 192.6674 - val_loss: 192.1506 - val_mse: 192.1506\n",
            "Epoch 6/10\n",
            "40/40 - 0s - loss: 188.3773 - mse: 188.3773 - val_loss: 189.3705 - val_mse: 189.3705\n",
            "Epoch 7/10\n",
            "40/40 - 0s - loss: 197.2947 - mse: 197.2947 - val_loss: 194.8098 - val_mse: 194.8098\n",
            "Epoch 8/10\n",
            "40/40 - 0s - loss: 195.5940 - mse: 195.5940 - val_loss: 191.8081 - val_mse: 191.8081\n",
            "Epoch 9/10\n",
            "40/40 - 0s - loss: 196.2505 - mse: 196.2505 - val_loss: 191.5050 - val_mse: 191.5050\n"
          ],
          "name": "stdout"
        },
        {
          "output_type": "stream",
          "text": [
            "\r 55%|█████▌    | 11/20 [00:03<00:02,  3.35it/s]"
          ],
          "name": "stderr"
        },
        {
          "output_type": "stream",
          "text": [
            "Epoch 1/10\n",
            "40/40 - 1s - loss: 205.0173 - mse: 205.0173 - val_loss: 183.0250 - val_mse: 183.0250\n",
            "Epoch 2/10\n",
            "40/40 - 1s - loss: 195.8758 - mse: 195.8758 - val_loss: 185.9394 - val_mse: 185.9394\n",
            "Epoch 3/10\n",
            "40/40 - 1s - loss: 193.1720 - mse: 193.1720 - val_loss: 187.6693 - val_mse: 187.6693\n",
            "Epoch 4/10\n",
            "40/40 - 1s - loss: 189.2262 - mse: 189.2262 - val_loss: 190.3867 - val_mse: 190.3867\n",
            "Epoch 5/10\n",
            "40/40 - 1s - loss: 188.3513 - mse: 188.3513 - val_loss: 189.1962 - val_mse: 189.1961\n",
            "Epoch 6/10\n",
            "40/40 - 1s - loss: 186.2338 - mse: 186.2338 - val_loss: 187.5606 - val_mse: 187.5606\n"
          ],
          "name": "stdout"
        },
        {
          "output_type": "stream",
          "text": [
            "\r 60%|██████    | 12/20 [00:08<00:13,  1.65s/it]"
          ],
          "name": "stderr"
        },
        {
          "output_type": "stream",
          "text": [
            "Epoch 1/10\n",
            "40/40 - 1s - loss: 222.5421 - mse: 222.5421 - val_loss: 211.1156 - val_mse: 211.1156\n",
            "Epoch 2/10\n",
            "40/40 - 0s - loss: 213.1195 - mse: 213.1195 - val_loss: 203.0982 - val_mse: 203.0982\n",
            "Epoch 3/10\n",
            "40/40 - 0s - loss: 206.0962 - mse: 206.0962 - val_loss: 197.1732 - val_mse: 197.1732\n",
            "Epoch 4/10\n",
            "40/40 - 0s - loss: 199.6230 - mse: 199.6231 - val_loss: 192.8280 - val_mse: 192.8280\n",
            "Epoch 5/10\n",
            "40/40 - 0s - loss: 198.9534 - mse: 198.9534 - val_loss: 190.3325 - val_mse: 190.3325\n",
            "Epoch 6/10\n",
            "40/40 - 0s - loss: 195.9020 - mse: 195.9020 - val_loss: 188.6272 - val_mse: 188.6272\n",
            "Epoch 7/10\n",
            "40/40 - 0s - loss: 195.6245 - mse: 195.6245 - val_loss: 187.6597 - val_mse: 187.6597\n",
            "Epoch 8/10\n",
            "40/40 - 0s - loss: 194.1216 - mse: 194.1216 - val_loss: 186.9731 - val_mse: 186.9731\n",
            "Epoch 9/10\n",
            "40/40 - 0s - loss: 191.1077 - mse: 191.1077 - val_loss: 186.5763 - val_mse: 186.5763\n",
            "Epoch 10/10\n",
            "40/40 - 0s - loss: 191.1396 - mse: 191.1396 - val_loss: 186.3050 - val_mse: 186.3050\n"
          ],
          "name": "stdout"
        },
        {
          "output_type": "stream",
          "text": [
            "\r 65%|██████▌   | 13/20 [00:11<00:14,  2.07s/it]"
          ],
          "name": "stderr"
        },
        {
          "output_type": "stream",
          "text": [
            "Epoch 1/10\n",
            "40/40 - 1s - loss: 211.8145 - mse: 211.8145 - val_loss: 188.2142 - val_mse: 188.2142\n",
            "Epoch 2/10\n",
            "40/40 - 0s - loss: 192.5726 - mse: 192.5726 - val_loss: 191.0430 - val_mse: 191.0430\n",
            "Epoch 3/10\n",
            "40/40 - 0s - loss: 191.1992 - mse: 191.1992 - val_loss: 190.4140 - val_mse: 190.4140\n",
            "Epoch 4/10\n",
            "40/40 - 0s - loss: 188.7637 - mse: 188.7637 - val_loss: 193.0739 - val_mse: 193.0739\n",
            "Epoch 5/10\n",
            "40/40 - 0s - loss: 188.9303 - mse: 188.9303 - val_loss: 194.1777 - val_mse: 194.1777\n",
            "Epoch 6/10\n",
            "40/40 - 0s - loss: 189.2929 - mse: 189.2929 - val_loss: 193.3427 - val_mse: 193.3427\n"
          ],
          "name": "stdout"
        },
        {
          "output_type": "stream",
          "text": [
            "\r 70%|███████   | 14/20 [00:14<00:14,  2.33s/it]"
          ],
          "name": "stderr"
        },
        {
          "output_type": "stream",
          "text": [
            "Epoch 1/10\n",
            "40/40 - 1s - loss: 228.8840 - mse: 228.8840 - val_loss: 225.9680 - val_mse: 225.9680\n",
            "Epoch 2/10\n",
            "40/40 - 0s - loss: 225.1958 - mse: 225.1958 - val_loss: 223.0862 - val_mse: 223.0862\n",
            "Epoch 3/10\n",
            "40/40 - 0s - loss: 222.8545 - mse: 222.8545 - val_loss: 219.9191 - val_mse: 219.9191\n",
            "Epoch 4/10\n",
            "40/40 - 0s - loss: 219.7379 - mse: 219.7379 - val_loss: 217.1451 - val_mse: 217.1451\n",
            "Epoch 5/10\n",
            "40/40 - 0s - loss: 217.7792 - mse: 217.7792 - val_loss: 213.4525 - val_mse: 213.4525\n",
            "Epoch 6/10\n",
            "40/40 - 0s - loss: 214.2987 - mse: 214.2987 - val_loss: 209.7868 - val_mse: 209.7868\n",
            "Epoch 7/10\n",
            "40/40 - 0s - loss: 211.9852 - mse: 211.9852 - val_loss: 206.0715 - val_mse: 206.0715\n",
            "Epoch 8/10\n",
            "40/40 - 0s - loss: 210.7628 - mse: 210.7628 - val_loss: 202.7250 - val_mse: 202.7250\n",
            "Epoch 9/10\n",
            "40/40 - 0s - loss: 205.2864 - mse: 205.2864 - val_loss: 199.3098 - val_mse: 199.3097\n",
            "Epoch 10/10\n",
            "40/40 - 0s - loss: 202.6102 - mse: 202.6102 - val_loss: 195.7906 - val_mse: 195.7906\n"
          ],
          "name": "stdout"
        },
        {
          "output_type": "stream",
          "text": [
            "\r 75%|███████▌  | 15/20 [00:16<00:12,  2.50s/it]"
          ],
          "name": "stderr"
        },
        {
          "output_type": "stream",
          "text": [
            "Epoch 1/10\n",
            "40/40 - 1s - loss: 223.7526 - mse: 223.7526 - val_loss: 219.0582 - val_mse: 219.0582\n",
            "Epoch 2/10\n",
            "40/40 - 0s - loss: 217.1031 - mse: 217.1031 - val_loss: 213.1175 - val_mse: 213.1175\n",
            "Epoch 3/10\n",
            "40/40 - 0s - loss: 211.5642 - mse: 211.5642 - val_loss: 207.4139 - val_mse: 207.4139\n",
            "Epoch 4/10\n",
            "40/40 - 0s - loss: 206.2085 - mse: 206.2085 - val_loss: 202.7731 - val_mse: 202.7731\n",
            "Epoch 5/10\n",
            "40/40 - 0s - loss: 202.3444 - mse: 202.3444 - val_loss: 198.9904 - val_mse: 198.9904\n",
            "Epoch 6/10\n",
            "40/40 - 0s - loss: 198.4962 - mse: 198.4962 - val_loss: 196.1409 - val_mse: 196.1409\n",
            "Epoch 7/10\n",
            "40/40 - 0s - loss: 196.5963 - mse: 196.5963 - val_loss: 193.9963 - val_mse: 193.9963\n",
            "Epoch 8/10\n",
            "40/40 - 0s - loss: 192.8081 - mse: 192.8081 - val_loss: 191.9653 - val_mse: 191.9653\n",
            "Epoch 9/10\n",
            "40/40 - 0s - loss: 191.6632 - mse: 191.6632 - val_loss: 190.6673 - val_mse: 190.6673\n",
            "Epoch 10/10\n",
            "40/40 - 0s - loss: 191.0589 - mse: 191.0590 - val_loss: 189.6074 - val_mse: 189.6074\n"
          ],
          "name": "stdout"
        },
        {
          "output_type": "stream",
          "text": [
            "\r 80%|████████  | 16/20 [00:19<00:10,  2.60s/it]"
          ],
          "name": "stderr"
        },
        {
          "output_type": "stream",
          "text": [
            "Epoch 1/10\n",
            "40/40 - 1s - loss: 224.3360 - mse: 224.3360 - val_loss: 218.6693 - val_mse: 218.6693\n",
            "Epoch 2/10\n",
            "40/40 - 0s - loss: 213.0716 - mse: 213.0716 - val_loss: 207.7098 - val_mse: 207.7098\n",
            "Epoch 3/10\n",
            "40/40 - 0s - loss: 204.7140 - mse: 204.7140 - val_loss: 198.7396 - val_mse: 198.7396\n",
            "Epoch 4/10\n",
            "40/40 - 0s - loss: 196.8205 - mse: 196.8205 - val_loss: 192.7976 - val_mse: 192.7976\n",
            "Epoch 5/10\n",
            "40/40 - 0s - loss: 192.0332 - mse: 192.0332 - val_loss: 189.3034 - val_mse: 189.3034\n",
            "Epoch 6/10\n",
            "40/40 - 0s - loss: 188.8506 - mse: 188.8506 - val_loss: 188.5176 - val_mse: 188.5176\n",
            "Epoch 7/10\n",
            "40/40 - 0s - loss: 189.0891 - mse: 189.0891 - val_loss: 187.2127 - val_mse: 187.2127\n",
            "Epoch 8/10\n",
            "40/40 - 0s - loss: 188.6213 - mse: 188.6213 - val_loss: 187.3871 - val_mse: 187.3871\n",
            "Epoch 9/10\n",
            "40/40 - 0s - loss: 188.2783 - mse: 188.2783 - val_loss: 187.6371 - val_mse: 187.6371\n",
            "Epoch 10/10\n",
            "40/40 - 0s - loss: 186.8123 - mse: 186.8123 - val_loss: 187.4723 - val_mse: 187.4723\n"
          ],
          "name": "stdout"
        },
        {
          "output_type": "stream",
          "text": [
            "\r 85%|████████▌ | 17/20 [00:22<00:07,  2.65s/it]"
          ],
          "name": "stderr"
        },
        {
          "output_type": "stream",
          "text": [
            "Epoch 1/10\n",
            "40/40 - 1s - loss: 222.6773 - mse: 222.6773 - val_loss: 214.5823 - val_mse: 214.5823\n",
            "Epoch 2/10\n",
            "40/40 - 0s - loss: 209.8148 - mse: 209.8148 - val_loss: 203.6489 - val_mse: 203.6489\n",
            "Epoch 3/10\n",
            "40/40 - 0s - loss: 201.8958 - mse: 201.8958 - val_loss: 195.1776 - val_mse: 195.1776\n",
            "Epoch 4/10\n",
            "40/40 - 0s - loss: 195.9957 - mse: 195.9957 - val_loss: 191.2887 - val_mse: 191.2887\n",
            "Epoch 5/10\n",
            "40/40 - 0s - loss: 191.4515 - mse: 191.4515 - val_loss: 188.4432 - val_mse: 188.4432\n",
            "Epoch 6/10\n",
            "40/40 - 0s - loss: 189.4795 - mse: 189.4795 - val_loss: 186.5971 - val_mse: 186.5971\n",
            "Epoch 7/10\n",
            "40/40 - 0s - loss: 187.5041 - mse: 187.5041 - val_loss: 187.3324 - val_mse: 187.3324\n",
            "Epoch 8/10\n",
            "40/40 - 0s - loss: 187.9349 - mse: 187.9349 - val_loss: 186.8934 - val_mse: 186.8934\n",
            "Epoch 9/10\n",
            "40/40 - 0s - loss: 187.6005 - mse: 187.6005 - val_loss: 186.9008 - val_mse: 186.9008\n",
            "Epoch 10/10\n",
            "40/40 - 0s - loss: 186.2490 - mse: 186.2490 - val_loss: 187.1922 - val_mse: 187.1922\n"
          ],
          "name": "stdout"
        },
        {
          "output_type": "stream",
          "text": [
            "\r 90%|█████████ | 18/20 [00:25<00:05,  2.69s/it]"
          ],
          "name": "stderr"
        },
        {
          "output_type": "stream",
          "text": [
            "Epoch 1/10\n",
            "40/40 - 1s - loss: 227.1783 - mse: 227.1783 - val_loss: 223.7271 - val_mse: 223.7271\n",
            "Epoch 2/10\n",
            "40/40 - 0s - loss: 225.8325 - mse: 225.8325 - val_loss: 221.5407 - val_mse: 221.5407\n",
            "Epoch 3/10\n",
            "40/40 - 0s - loss: 222.1317 - mse: 222.1317 - val_loss: 219.9593 - val_mse: 219.9593\n",
            "Epoch 4/10\n",
            "40/40 - 0s - loss: 220.1970 - mse: 220.1970 - val_loss: 218.6177 - val_mse: 218.6177\n",
            "Epoch 5/10\n",
            "40/40 - 0s - loss: 218.4390 - mse: 218.4390 - val_loss: 217.4128 - val_mse: 217.4128\n",
            "Epoch 6/10\n",
            "40/40 - 0s - loss: 218.9152 - mse: 218.9152 - val_loss: 216.3537 - val_mse: 216.3537\n",
            "Epoch 7/10\n",
            "40/40 - 0s - loss: 217.2650 - mse: 217.2650 - val_loss: 215.3794 - val_mse: 215.3794\n",
            "Epoch 8/10\n",
            "40/40 - 0s - loss: 215.8145 - mse: 215.8145 - val_loss: 214.4429 - val_mse: 214.4429\n",
            "Epoch 9/10\n",
            "40/40 - 0s - loss: 215.5419 - mse: 215.5419 - val_loss: 213.6015 - val_mse: 213.6015\n",
            "Epoch 10/10\n",
            "40/40 - 0s - loss: 214.6221 - mse: 214.6221 - val_loss: 212.7905 - val_mse: 212.7905\n"
          ],
          "name": "stdout"
        },
        {
          "output_type": "stream",
          "text": [
            "\r 95%|█████████▌| 19/20 [00:28<00:02,  2.72s/it]"
          ],
          "name": "stderr"
        },
        {
          "output_type": "stream",
          "text": [
            "Epoch 1/10\n",
            "40/40 - 1s - loss: 222.4970 - mse: 222.4970 - val_loss: 217.0960 - val_mse: 217.0960\n",
            "Epoch 2/10\n",
            "40/40 - 0s - loss: 218.2792 - mse: 218.2792 - val_loss: 213.1185 - val_mse: 213.1185\n",
            "Epoch 3/10\n",
            "40/40 - 0s - loss: 214.4912 - mse: 214.4912 - val_loss: 210.1654 - val_mse: 210.1654\n",
            "Epoch 4/10\n",
            "40/40 - 0s - loss: 210.4372 - mse: 210.4372 - val_loss: 207.3644 - val_mse: 207.3644\n",
            "Epoch 5/10\n",
            "40/40 - 0s - loss: 211.7352 - mse: 211.7352 - val_loss: 205.0228 - val_mse: 205.0228\n",
            "Epoch 6/10\n",
            "40/40 - 0s - loss: 205.2551 - mse: 205.2551 - val_loss: 202.9462 - val_mse: 202.9462\n",
            "Epoch 7/10\n",
            "40/40 - 0s - loss: 204.8286 - mse: 204.8286 - val_loss: 201.1532 - val_mse: 201.1532\n",
            "Epoch 8/10\n",
            "40/40 - 0s - loss: 201.8555 - mse: 201.8555 - val_loss: 199.4086 - val_mse: 199.4086\n",
            "Epoch 9/10\n",
            "40/40 - 0s - loss: 204.1198 - mse: 204.1198 - val_loss: 198.1799 - val_mse: 198.1799\n",
            "Epoch 10/10\n",
            "40/40 - 0s - loss: 202.3627 - mse: 202.3627 - val_loss: 197.0198 - val_mse: 197.0198\n"
          ],
          "name": "stdout"
        },
        {
          "output_type": "stream",
          "text": [
            "100%|██████████| 20/20 [00:31<00:00,  1.56s/it]\n",
            "  0%|          | 0/20 [00:00<?, ?it/s]"
          ],
          "name": "stderr"
        },
        {
          "output_type": "stream",
          "text": [
            "Epoch 1/10\n",
            "40/40 - 1s - loss: 222.7342 - mse: 222.7342 - val_loss: 212.6448 - val_mse: 212.6448\n",
            "Epoch 2/10\n",
            "40/40 - 0s - loss: 214.2706 - mse: 214.2706 - val_loss: 204.8454 - val_mse: 204.8454\n",
            "Epoch 3/10\n",
            "40/40 - 0s - loss: 207.7461 - mse: 207.7461 - val_loss: 198.6138 - val_mse: 198.6138\n",
            "Epoch 4/10\n",
            "40/40 - 0s - loss: 202.9404 - mse: 202.9404 - val_loss: 194.7578 - val_mse: 194.7578\n",
            "Epoch 5/10\n",
            "40/40 - 0s - loss: 199.1170 - mse: 199.1170 - val_loss: 192.0305 - val_mse: 192.0305\n",
            "Epoch 6/10\n",
            "40/40 - 0s - loss: 198.6280 - mse: 198.6280 - val_loss: 190.4711 - val_mse: 190.4711\n",
            "Epoch 7/10\n",
            "40/40 - 0s - loss: 194.6761 - mse: 194.6761 - val_loss: 189.3699 - val_mse: 189.3699\n",
            "Epoch 8/10\n",
            "40/40 - 0s - loss: 192.2366 - mse: 192.2366 - val_loss: 188.7650 - val_mse: 188.7650\n",
            "Epoch 9/10\n",
            "40/40 - 0s - loss: 193.4019 - mse: 193.4019 - val_loss: 188.3429 - val_mse: 188.3430\n",
            "Epoch 10/10\n",
            "40/40 - 0s - loss: 194.3025 - mse: 194.3025 - val_loss: 188.1309 - val_mse: 188.1309\n"
          ],
          "name": "stdout"
        },
        {
          "output_type": "stream",
          "text": [
            "\r 50%|█████     | 10/20 [00:03<00:03,  3.21it/s]"
          ],
          "name": "stderr"
        },
        {
          "output_type": "stream",
          "text": [
            "Epoch 1/10\n",
            "40/40 - 1s - loss: 213.9607 - mse: 213.9607 - val_loss: 187.9405 - val_mse: 187.9405\n",
            "Epoch 2/10\n",
            "40/40 - 0s - loss: 194.8553 - mse: 194.8553 - val_loss: 190.6430 - val_mse: 190.6430\n",
            "Epoch 3/10\n",
            "40/40 - 0s - loss: 190.1283 - mse: 190.1283 - val_loss: 190.1187 - val_mse: 190.1187\n",
            "Epoch 4/10\n",
            "40/40 - 0s - loss: 189.6801 - mse: 189.6801 - val_loss: 192.0414 - val_mse: 192.0414\n",
            "Epoch 5/10\n",
            "40/40 - 0s - loss: 187.7986 - mse: 187.7986 - val_loss: 190.9272 - val_mse: 190.9272\n",
            "Epoch 6/10\n",
            "40/40 - 0s - loss: 186.6637 - mse: 186.6637 - val_loss: 192.0199 - val_mse: 192.0199\n"
          ],
          "name": "stdout"
        },
        {
          "output_type": "stream",
          "text": [
            "\r 55%|█████▌    | 11/20 [00:05<00:08,  1.05it/s]"
          ],
          "name": "stderr"
        },
        {
          "output_type": "stream",
          "text": [
            "Epoch 1/10\n",
            "40/40 - 1s - loss: 230.1996 - mse: 230.1996 - val_loss: 228.4739 - val_mse: 228.4739\n",
            "Epoch 2/10\n",
            "40/40 - 0s - loss: 228.2260 - mse: 228.2260 - val_loss: 226.8456 - val_mse: 226.8456\n",
            "Epoch 3/10\n",
            "40/40 - 0s - loss: 226.6958 - mse: 226.6958 - val_loss: 225.6068 - val_mse: 225.6068\n",
            "Epoch 4/10\n",
            "40/40 - 0s - loss: 225.5012 - mse: 225.5012 - val_loss: 224.5702 - val_mse: 224.5702\n",
            "Epoch 5/10\n",
            "40/40 - 0s - loss: 224.6366 - mse: 224.6366 - val_loss: 223.6843 - val_mse: 223.6843\n",
            "Epoch 6/10\n",
            "40/40 - 0s - loss: 223.8354 - mse: 223.8354 - val_loss: 222.8847 - val_mse: 222.8847\n",
            "Epoch 7/10\n",
            "40/40 - 0s - loss: 222.9785 - mse: 222.9785 - val_loss: 222.1547 - val_mse: 222.1547\n",
            "Epoch 8/10\n",
            "40/40 - 0s - loss: 222.8363 - mse: 222.8363 - val_loss: 221.4899 - val_mse: 221.4899\n",
            "Epoch 9/10\n",
            "40/40 - 0s - loss: 221.6758 - mse: 221.6758 - val_loss: 220.8770 - val_mse: 220.8770\n",
            "Epoch 10/10\n",
            "40/40 - 0s - loss: 221.5767 - mse: 221.5767 - val_loss: 220.2961 - val_mse: 220.2961\n"
          ],
          "name": "stdout"
        },
        {
          "output_type": "stream",
          "text": [
            "\r 60%|██████    | 12/20 [00:08<00:12,  1.60s/it]"
          ],
          "name": "stderr"
        },
        {
          "output_type": "stream",
          "text": [
            "Epoch 1/10\n",
            "40/40 - 1s - loss: 230.8432 - mse: 230.8432 - val_loss: 228.2992 - val_mse: 228.2992\n",
            "Epoch 2/10\n",
            "40/40 - 0s - loss: 228.8011 - mse: 228.8011 - val_loss: 226.5722 - val_mse: 226.5722\n",
            "Epoch 3/10\n",
            "40/40 - 0s - loss: 227.2695 - mse: 227.2695 - val_loss: 225.2621 - val_mse: 225.2621\n",
            "Epoch 4/10\n",
            "40/40 - 0s - loss: 226.1949 - mse: 226.1949 - val_loss: 224.1952 - val_mse: 224.1952\n",
            "Epoch 5/10\n",
            "40/40 - 0s - loss: 225.5718 - mse: 225.5718 - val_loss: 223.2702 - val_mse: 223.2702\n",
            "Epoch 6/10\n",
            "40/40 - 0s - loss: 224.5286 - mse: 224.5286 - val_loss: 222.4524 - val_mse: 222.4524\n",
            "Epoch 7/10\n",
            "40/40 - 0s - loss: 223.7309 - mse: 223.7309 - val_loss: 221.7125 - val_mse: 221.7125\n",
            "Epoch 8/10\n",
            "40/40 - 0s - loss: 222.5671 - mse: 222.5671 - val_loss: 221.0310 - val_mse: 221.0310\n",
            "Epoch 9/10\n",
            "40/40 - 0s - loss: 222.9861 - mse: 222.9861 - val_loss: 220.3984 - val_mse: 220.3984\n",
            "Epoch 10/10\n",
            "40/40 - 0s - loss: 221.7997 - mse: 221.7997 - val_loss: 219.8185 - val_mse: 219.8185\n"
          ],
          "name": "stdout"
        },
        {
          "output_type": "stream",
          "text": [
            "\r 65%|██████▌   | 13/20 [00:11<00:13,  1.94s/it]"
          ],
          "name": "stderr"
        },
        {
          "output_type": "stream",
          "text": [
            "Epoch 1/10\n",
            "40/40 - 1s - loss: 219.8814 - mse: 219.8814 - val_loss: 215.9523 - val_mse: 215.9523\n",
            "Epoch 2/10\n",
            "40/40 - 0s - loss: 212.8251 - mse: 212.8251 - val_loss: 209.6507 - val_mse: 209.6507\n",
            "Epoch 3/10\n",
            "40/40 - 0s - loss: 206.9733 - mse: 206.9733 - val_loss: 204.9484 - val_mse: 204.9484\n",
            "Epoch 4/10\n",
            "40/40 - 0s - loss: 202.6336 - mse: 202.6336 - val_loss: 201.3316 - val_mse: 201.3316\n",
            "Epoch 5/10\n",
            "40/40 - 0s - loss: 200.1074 - mse: 200.1074 - val_loss: 198.8633 - val_mse: 198.8633\n",
            "Epoch 6/10\n",
            "40/40 - 0s - loss: 198.2348 - mse: 198.2348 - val_loss: 197.0589 - val_mse: 197.0589\n",
            "Epoch 7/10\n",
            "40/40 - 0s - loss: 196.6418 - mse: 196.6418 - val_loss: 195.5930 - val_mse: 195.5930\n",
            "Epoch 8/10\n",
            "40/40 - 0s - loss: 195.1830 - mse: 195.1830 - val_loss: 194.5553 - val_mse: 194.5553\n",
            "Epoch 9/10\n",
            "40/40 - 0s - loss: 195.8006 - mse: 195.8006 - val_loss: 193.7974 - val_mse: 193.7974\n",
            "Epoch 10/10\n",
            "40/40 - 0s - loss: 193.8638 - mse: 193.8638 - val_loss: 193.1054 - val_mse: 193.1054\n"
          ],
          "name": "stdout"
        },
        {
          "output_type": "stream",
          "text": [
            "\r 70%|███████   | 14/20 [00:14<00:13,  2.25s/it]"
          ],
          "name": "stderr"
        },
        {
          "output_type": "stream",
          "text": [
            "Epoch 1/10\n",
            "40/40 - 1s - loss: 207.8269 - mse: 207.8269 - val_loss: 187.9184 - val_mse: 187.9184\n",
            "Epoch 2/10\n",
            "40/40 - 1s - loss: 192.4318 - mse: 192.4318 - val_loss: 189.5801 - val_mse: 189.5801\n",
            "Epoch 3/10\n",
            "40/40 - 1s - loss: 192.4167 - mse: 192.4167 - val_loss: 191.1500 - val_mse: 191.1500\n",
            "Epoch 4/10\n",
            "40/40 - 1s - loss: 187.8769 - mse: 187.8769 - val_loss: 190.1283 - val_mse: 190.1283\n",
            "Epoch 5/10\n",
            "40/40 - 1s - loss: 187.2368 - mse: 187.2368 - val_loss: 190.7108 - val_mse: 190.7108\n",
            "Epoch 6/10\n",
            "40/40 - 1s - loss: 186.8227 - mse: 186.8227 - val_loss: 192.4873 - val_mse: 192.4873\n"
          ],
          "name": "stdout"
        },
        {
          "output_type": "stream",
          "text": [
            "\r 75%|███████▌  | 15/20 [00:19<00:15,  3.03s/it]"
          ],
          "name": "stderr"
        },
        {
          "output_type": "stream",
          "text": [
            "Epoch 1/10\n",
            "40/40 - 1s - loss: 217.5258 - mse: 217.5258 - val_loss: 193.6270 - val_mse: 193.6270\n",
            "Epoch 2/10\n",
            "40/40 - 0s - loss: 195.6094 - mse: 195.6094 - val_loss: 181.7659 - val_mse: 181.7659\n",
            "Epoch 3/10\n",
            "40/40 - 0s - loss: 192.8146 - mse: 192.8146 - val_loss: 182.8383 - val_mse: 182.8383\n",
            "Epoch 4/10\n",
            "40/40 - 0s - loss: 189.0395 - mse: 189.0395 - val_loss: 184.8206 - val_mse: 184.8206\n",
            "Epoch 5/10\n",
            "40/40 - 0s - loss: 191.9958 - mse: 191.9958 - val_loss: 185.4394 - val_mse: 185.4394\n",
            "Epoch 6/10\n",
            "40/40 - 0s - loss: 189.4192 - mse: 189.4192 - val_loss: 195.3366 - val_mse: 195.3366\n",
            "Epoch 7/10\n",
            "40/40 - 0s - loss: 189.1675 - mse: 189.1675 - val_loss: 188.1443 - val_mse: 188.1443\n"
          ],
          "name": "stdout"
        },
        {
          "output_type": "stream",
          "text": [
            "\r 80%|████████  | 16/20 [00:21<00:11,  2.86s/it]"
          ],
          "name": "stderr"
        },
        {
          "output_type": "stream",
          "text": [
            "Epoch 1/10\n",
            "40/40 - 1s - loss: 226.6493 - mse: 226.6493 - val_loss: 214.8546 - val_mse: 214.8546\n",
            "Epoch 2/10\n",
            "40/40 - 0s - loss: 214.2832 - mse: 214.2832 - val_loss: 204.8175 - val_mse: 204.8175\n",
            "Epoch 3/10\n",
            "40/40 - 0s - loss: 205.8285 - mse: 205.8285 - val_loss: 197.3327 - val_mse: 197.3327\n",
            "Epoch 4/10\n",
            "40/40 - 0s - loss: 199.3089 - mse: 199.3089 - val_loss: 190.9864 - val_mse: 190.9864\n",
            "Epoch 5/10\n",
            "40/40 - 0s - loss: 193.1705 - mse: 193.1705 - val_loss: 188.2845 - val_mse: 188.2845\n",
            "Epoch 6/10\n",
            "40/40 - 0s - loss: 190.5314 - mse: 190.5314 - val_loss: 186.5141 - val_mse: 186.5141\n",
            "Epoch 7/10\n",
            "40/40 - 0s - loss: 189.7653 - mse: 189.7653 - val_loss: 185.9404 - val_mse: 185.9404\n",
            "Epoch 8/10\n",
            "40/40 - 0s - loss: 188.2333 - mse: 188.2333 - val_loss: 186.3895 - val_mse: 186.3895\n",
            "Epoch 9/10\n",
            "40/40 - 0s - loss: 186.8939 - mse: 186.8939 - val_loss: 186.4837 - val_mse: 186.4837\n",
            "Epoch 10/10\n",
            "40/40 - 0s - loss: 186.3069 - mse: 186.3069 - val_loss: 186.7402 - val_mse: 186.7402\n"
          ],
          "name": "stdout"
        },
        {
          "output_type": "stream",
          "text": [
            "\r 85%|████████▌ | 17/20 [00:24<00:08,  2.85s/it]"
          ],
          "name": "stderr"
        },
        {
          "output_type": "stream",
          "text": [
            "Epoch 1/10\n",
            "40/40 - 1s - loss: 222.8023 - mse: 222.8023 - val_loss: 214.4782 - val_mse: 214.4782\n",
            "Epoch 2/10\n",
            "40/40 - 0s - loss: 212.2686 - mse: 212.2686 - val_loss: 205.1626 - val_mse: 205.1626\n",
            "Epoch 3/10\n",
            "40/40 - 0s - loss: 203.6141 - mse: 203.6141 - val_loss: 197.4782 - val_mse: 197.4782\n",
            "Epoch 4/10\n",
            "40/40 - 0s - loss: 197.4321 - mse: 197.4321 - val_loss: 191.1992 - val_mse: 191.1992\n",
            "Epoch 5/10\n",
            "40/40 - 0s - loss: 192.7754 - mse: 192.7754 - val_loss: 188.2120 - val_mse: 188.2120\n",
            "Epoch 6/10\n",
            "40/40 - 0s - loss: 189.4526 - mse: 189.4526 - val_loss: 186.2076 - val_mse: 186.2076\n",
            "Epoch 7/10\n",
            "40/40 - 0s - loss: 187.5368 - mse: 187.5368 - val_loss: 186.0370 - val_mse: 186.0370\n",
            "Epoch 8/10\n",
            "40/40 - 0s - loss: 186.1956 - mse: 186.1956 - val_loss: 184.9887 - val_mse: 184.9887\n",
            "Epoch 9/10\n",
            "40/40 - 0s - loss: 186.5033 - mse: 186.5033 - val_loss: 184.7992 - val_mse: 184.7992\n",
            "Epoch 10/10\n",
            "40/40 - 0s - loss: 184.7174 - mse: 184.7174 - val_loss: 184.3615 - val_mse: 184.3615\n"
          ],
          "name": "stdout"
        },
        {
          "output_type": "stream",
          "text": [
            "\r 90%|█████████ | 18/20 [00:27<00:05,  2.83s/it]"
          ],
          "name": "stderr"
        },
        {
          "output_type": "stream",
          "text": [
            "Epoch 1/10\n",
            "40/40 - 1s - loss: 225.4450 - mse: 225.4450 - val_loss: 217.9099 - val_mse: 217.9099\n",
            "Epoch 2/10\n",
            "40/40 - 0s - loss: 212.0723 - mse: 212.0723 - val_loss: 206.0046 - val_mse: 206.0046\n",
            "Epoch 3/10\n",
            "40/40 - 0s - loss: 203.5887 - mse: 203.5887 - val_loss: 197.5184 - val_mse: 197.5184\n",
            "Epoch 4/10\n",
            "40/40 - 0s - loss: 196.5859 - mse: 196.5859 - val_loss: 192.4207 - val_mse: 192.4207\n",
            "Epoch 5/10\n",
            "40/40 - 0s - loss: 192.0137 - mse: 192.0137 - val_loss: 189.7696 - val_mse: 189.7696\n",
            "Epoch 6/10\n",
            "40/40 - 0s - loss: 189.1792 - mse: 189.1792 - val_loss: 188.7375 - val_mse: 188.7375\n",
            "Epoch 7/10\n",
            "40/40 - 0s - loss: 187.2052 - mse: 187.2052 - val_loss: 188.3456 - val_mse: 188.3456\n",
            "Epoch 8/10\n",
            "40/40 - 0s - loss: 187.9203 - mse: 187.9203 - val_loss: 188.2168 - val_mse: 188.2168\n",
            "Epoch 9/10\n",
            "40/40 - 0s - loss: 187.1667 - mse: 187.1667 - val_loss: 188.4828 - val_mse: 188.4828\n",
            "Epoch 10/10\n",
            "40/40 - 0s - loss: 187.3155 - mse: 187.3155 - val_loss: 188.6666 - val_mse: 188.6666\n"
          ],
          "name": "stdout"
        },
        {
          "output_type": "stream",
          "text": [
            "\r 95%|█████████▌| 19/20 [00:30<00:02,  2.81s/it]"
          ],
          "name": "stderr"
        },
        {
          "output_type": "stream",
          "text": [
            "Epoch 1/10\n",
            "40/40 - 1s - loss: 223.4255 - mse: 223.4255 - val_loss: 215.1522 - val_mse: 215.1522\n",
            "Epoch 2/10\n",
            "40/40 - 0s - loss: 213.4133 - mse: 213.4133 - val_loss: 205.3770 - val_mse: 205.3770\n",
            "Epoch 3/10\n",
            "40/40 - 0s - loss: 203.9531 - mse: 203.9531 - val_loss: 197.2247 - val_mse: 197.2247\n",
            "Epoch 4/10\n",
            "40/40 - 0s - loss: 196.6928 - mse: 196.6928 - val_loss: 192.5121 - val_mse: 192.5121\n",
            "Epoch 5/10\n",
            "40/40 - 0s - loss: 191.7885 - mse: 191.7885 - val_loss: 189.6889 - val_mse: 189.6889\n",
            "Epoch 6/10\n",
            "40/40 - 0s - loss: 190.7774 - mse: 190.7774 - val_loss: 188.5999 - val_mse: 188.5999\n",
            "Epoch 7/10\n",
            "40/40 - 0s - loss: 189.1802 - mse: 189.1802 - val_loss: 187.5174 - val_mse: 187.5174\n",
            "Epoch 8/10\n",
            "40/40 - 0s - loss: 186.7700 - mse: 186.7700 - val_loss: 187.7828 - val_mse: 187.7828\n",
            "Epoch 9/10\n",
            "40/40 - 0s - loss: 187.0372 - mse: 187.0372 - val_loss: 188.1301 - val_mse: 188.1301\n",
            "Epoch 10/10\n",
            "40/40 - 0s - loss: 186.8953 - mse: 186.8953 - val_loss: 188.3877 - val_mse: 188.3877\n"
          ],
          "name": "stdout"
        },
        {
          "output_type": "stream",
          "text": [
            "100%|██████████| 20/20 [00:32<00:00,  1.65s/it]\n",
            "  0%|          | 0/20 [00:00<?, ?it/s]"
          ],
          "name": "stderr"
        },
        {
          "output_type": "stream",
          "text": [
            "Epoch 1/10\n",
            "40/40 - 1s - loss: 231.2322 - mse: 231.2322 - val_loss: 230.0207 - val_mse: 230.0207\n",
            "Epoch 2/10\n",
            "40/40 - 0s - loss: 231.0497 - mse: 231.0497 - val_loss: 229.9855 - val_mse: 229.9855\n",
            "Epoch 3/10\n",
            "40/40 - 0s - loss: 230.7362 - mse: 230.7362 - val_loss: 229.9550 - val_mse: 229.9550\n",
            "Epoch 4/10\n",
            "40/40 - 0s - loss: 230.6161 - mse: 230.6161 - val_loss: 229.9276 - val_mse: 229.9276\n",
            "Epoch 5/10\n",
            "40/40 - 0s - loss: 230.6044 - mse: 230.6044 - val_loss: 229.9005 - val_mse: 229.9005\n",
            "Epoch 6/10\n",
            "40/40 - 0s - loss: 230.5283 - mse: 230.5283 - val_loss: 229.8747 - val_mse: 229.8747\n",
            "Epoch 7/10\n",
            "40/40 - 0s - loss: 230.7060 - mse: 230.7060 - val_loss: 229.8489 - val_mse: 229.8489\n",
            "Epoch 8/10\n",
            "40/40 - 0s - loss: 230.8562 - mse: 230.8562 - val_loss: 229.8233 - val_mse: 229.8233\n",
            "Epoch 9/10\n",
            "40/40 - 0s - loss: 230.5090 - mse: 230.5090 - val_loss: 229.7988 - val_mse: 229.7988\n",
            "Epoch 10/10\n",
            "40/40 - 0s - loss: 230.4666 - mse: 230.4666 - val_loss: 229.7755 - val_mse: 229.7755\n"
          ],
          "name": "stdout"
        },
        {
          "output_type": "stream",
          "text": [
            "\r 50%|█████     | 10/20 [00:03<00:03,  2.80it/s]"
          ],
          "name": "stderr"
        },
        {
          "output_type": "stream",
          "text": [
            "Epoch 1/10\n",
            "40/40 - 1s - loss: 223.7974 - mse: 223.7974 - val_loss: 219.2970 - val_mse: 219.2970\n",
            "Epoch 2/10\n",
            "40/40 - 0s - loss: 217.5441 - mse: 217.5441 - val_loss: 213.6992 - val_mse: 213.6992\n",
            "Epoch 3/10\n",
            "40/40 - 0s - loss: 210.8145 - mse: 210.8145 - val_loss: 208.5973 - val_mse: 208.5973\n",
            "Epoch 4/10\n",
            "40/40 - 0s - loss: 207.1388 - mse: 207.1388 - val_loss: 204.5762 - val_mse: 204.5762\n",
            "Epoch 5/10\n",
            "40/40 - 0s - loss: 203.2335 - mse: 203.2335 - val_loss: 201.2068 - val_mse: 201.2068\n",
            "Epoch 6/10\n",
            "40/40 - 0s - loss: 201.5087 - mse: 201.5088 - val_loss: 198.6942 - val_mse: 198.6942\n",
            "Epoch 7/10\n",
            "40/40 - 0s - loss: 199.0416 - mse: 199.0416 - val_loss: 196.6345 - val_mse: 196.6345\n",
            "Epoch 8/10\n",
            "40/40 - 0s - loss: 195.9813 - mse: 195.9813 - val_loss: 194.9298 - val_mse: 194.9298\n",
            "Epoch 9/10\n",
            "40/40 - 0s - loss: 195.3765 - mse: 195.3765 - val_loss: 193.6523 - val_mse: 193.6523\n",
            "Epoch 10/10\n",
            "40/40 - 0s - loss: 193.8697 - mse: 193.8697 - val_loss: 192.6454 - val_mse: 192.6454\n"
          ],
          "name": "stdout"
        },
        {
          "output_type": "stream",
          "text": [
            "\r 55%|█████▌    | 11/20 [00:06<00:10,  1.14s/it]"
          ],
          "name": "stderr"
        },
        {
          "output_type": "stream",
          "text": [
            "Epoch 1/10\n",
            "40/40 - 1s - loss: 212.1623 - mse: 212.1623 - val_loss: 196.4967 - val_mse: 196.4967\n",
            "Epoch 2/10\n",
            "40/40 - 0s - loss: 195.6747 - mse: 195.6747 - val_loss: 188.3190 - val_mse: 188.3190\n",
            "Epoch 3/10\n",
            "40/40 - 0s - loss: 189.4174 - mse: 189.4174 - val_loss: 186.4713 - val_mse: 186.4713\n",
            "Epoch 4/10\n",
            "40/40 - 0s - loss: 188.2338 - mse: 188.2338 - val_loss: 186.3999 - val_mse: 186.3999\n",
            "Epoch 5/10\n",
            "40/40 - 0s - loss: 188.9566 - mse: 188.9566 - val_loss: 186.3776 - val_mse: 186.3776\n",
            "Epoch 6/10\n",
            "40/40 - 0s - loss: 187.8382 - mse: 187.8382 - val_loss: 186.6074 - val_mse: 186.6074\n",
            "Epoch 7/10\n",
            "40/40 - 0s - loss: 186.4316 - mse: 186.4316 - val_loss: 187.5186 - val_mse: 187.5186\n",
            "Epoch 8/10\n",
            "40/40 - 0s - loss: 185.1732 - mse: 185.1732 - val_loss: 186.7778 - val_mse: 186.7778\n",
            "Epoch 9/10\n",
            "40/40 - 0s - loss: 186.8416 - mse: 186.8416 - val_loss: 187.6191 - val_mse: 187.6191\n",
            "Epoch 10/10\n",
            "40/40 - 0s - loss: 185.8931 - mse: 185.8931 - val_loss: 187.5738 - val_mse: 187.5738\n"
          ],
          "name": "stdout"
        },
        {
          "output_type": "stream",
          "text": [
            "\r 60%|██████    | 12/20 [00:11<00:18,  2.34s/it]"
          ],
          "name": "stderr"
        },
        {
          "output_type": "stream",
          "text": [
            "Epoch 1/10\n",
            "40/40 - 1s - loss: 224.0338 - mse: 224.0338 - val_loss: 218.6190 - val_mse: 218.6190\n",
            "Epoch 2/10\n",
            "40/40 - 0s - loss: 216.5003 - mse: 216.5003 - val_loss: 211.8685 - val_mse: 211.8685\n",
            "Epoch 3/10\n",
            "40/40 - 0s - loss: 210.6903 - mse: 210.6903 - val_loss: 206.4161 - val_mse: 206.4161\n",
            "Epoch 4/10\n",
            "40/40 - 0s - loss: 205.3305 - mse: 205.3305 - val_loss: 202.0611 - val_mse: 202.0611\n",
            "Epoch 5/10\n",
            "40/40 - 0s - loss: 202.2020 - mse: 202.2020 - val_loss: 198.7224 - val_mse: 198.7224\n",
            "Epoch 6/10\n",
            "40/40 - 0s - loss: 200.3929 - mse: 200.3929 - val_loss: 196.1142 - val_mse: 196.1142\n",
            "Epoch 7/10\n",
            "40/40 - 0s - loss: 199.2085 - mse: 199.2085 - val_loss: 194.3887 - val_mse: 194.3887\n",
            "Epoch 8/10\n",
            "40/40 - 0s - loss: 196.1023 - mse: 196.1024 - val_loss: 192.9275 - val_mse: 192.9275\n",
            "Epoch 9/10\n",
            "40/40 - 0s - loss: 195.4923 - mse: 195.4923 - val_loss: 191.7746 - val_mse: 191.7746\n",
            "Epoch 10/10\n",
            "40/40 - 0s - loss: 194.0904 - mse: 194.0904 - val_loss: 190.8966 - val_mse: 190.8966\n"
          ],
          "name": "stdout"
        },
        {
          "output_type": "stream",
          "text": [
            "\r 65%|██████▌   | 13/20 [00:14<00:17,  2.53s/it]"
          ],
          "name": "stderr"
        },
        {
          "output_type": "stream",
          "text": [
            "Epoch 1/10\n",
            "40/40 - 1s - loss: 224.3251 - mse: 224.3251 - val_loss: 219.2550 - val_mse: 219.2550\n",
            "Epoch 2/10\n",
            "40/40 - 0s - loss: 213.4954 - mse: 213.4954 - val_loss: 207.7600 - val_mse: 207.7600\n",
            "Epoch 3/10\n",
            "40/40 - 0s - loss: 202.9532 - mse: 202.9532 - val_loss: 199.2492 - val_mse: 199.2493\n",
            "Epoch 4/10\n",
            "40/40 - 0s - loss: 197.3497 - mse: 197.3497 - val_loss: 195.1162 - val_mse: 195.1162\n",
            "Epoch 5/10\n",
            "40/40 - 0s - loss: 194.1143 - mse: 194.1143 - val_loss: 193.1283 - val_mse: 193.1283\n",
            "Epoch 6/10\n",
            "40/40 - 0s - loss: 194.3469 - mse: 194.3469 - val_loss: 192.1948 - val_mse: 192.1948\n",
            "Epoch 7/10\n",
            "40/40 - 0s - loss: 196.0026 - mse: 196.0026 - val_loss: 191.6746 - val_mse: 191.6746\n",
            "Epoch 8/10\n",
            "40/40 - 0s - loss: 194.3092 - mse: 194.3092 - val_loss: 191.1227 - val_mse: 191.1227\n",
            "Epoch 9/10\n",
            "40/40 - 0s - loss: 193.0184 - mse: 193.0184 - val_loss: 190.7903 - val_mse: 190.7903\n",
            "Epoch 10/10\n",
            "40/40 - 0s - loss: 194.5568 - mse: 194.5568 - val_loss: 190.5744 - val_mse: 190.5744\n"
          ],
          "name": "stdout"
        },
        {
          "output_type": "stream",
          "text": [
            "\r 70%|███████   | 14/20 [00:17<00:16,  2.73s/it]"
          ],
          "name": "stderr"
        },
        {
          "output_type": "stream",
          "text": [
            "Epoch 1/10\n",
            "40/40 - 1s - loss: 214.3127 - mse: 214.3127 - val_loss: 200.0436 - val_mse: 200.0436\n",
            "Epoch 2/10\n",
            "40/40 - 0s - loss: 196.3857 - mse: 196.3857 - val_loss: 191.9412 - val_mse: 191.9412\n",
            "Epoch 3/10\n",
            "40/40 - 0s - loss: 193.3113 - mse: 193.3113 - val_loss: 189.4635 - val_mse: 189.4635\n",
            "Epoch 4/10\n",
            "40/40 - 0s - loss: 191.4649 - mse: 191.4649 - val_loss: 187.9971 - val_mse: 187.9971\n",
            "Epoch 5/10\n",
            "40/40 - 0s - loss: 190.0962 - mse: 190.0962 - val_loss: 187.2384 - val_mse: 187.2384\n",
            "Epoch 6/10\n",
            "40/40 - 0s - loss: 189.3440 - mse: 189.3440 - val_loss: 186.6180 - val_mse: 186.6181\n",
            "Epoch 7/10\n",
            "40/40 - 0s - loss: 188.6523 - mse: 188.6523 - val_loss: 186.1724 - val_mse: 186.1724\n",
            "Epoch 8/10\n",
            "40/40 - 0s - loss: 187.7478 - mse: 187.7478 - val_loss: 185.7614 - val_mse: 185.7614\n",
            "Epoch 9/10\n",
            "40/40 - 0s - loss: 187.5116 - mse: 187.5116 - val_loss: 185.4869 - val_mse: 185.4869\n",
            "Epoch 10/10\n",
            "40/40 - 0s - loss: 186.0471 - mse: 186.0471 - val_loss: 185.2975 - val_mse: 185.2975\n"
          ],
          "name": "stdout"
        },
        {
          "output_type": "stream",
          "text": [
            "\r 75%|███████▌  | 15/20 [00:22<00:17,  3.45s/it]"
          ],
          "name": "stderr"
        },
        {
          "output_type": "stream",
          "text": [
            "Epoch 1/10\n",
            "40/40 - 1s - loss: 225.0054 - mse: 225.0054 - val_loss: 214.4532 - val_mse: 214.4532\n",
            "Epoch 2/10\n",
            "40/40 - 0s - loss: 209.8590 - mse: 209.8590 - val_loss: 205.9427 - val_mse: 205.9427\n",
            "Epoch 3/10\n",
            "40/40 - 0s - loss: 203.4898 - mse: 203.4898 - val_loss: 200.1976 - val_mse: 200.1976\n",
            "Epoch 4/10\n",
            "40/40 - 0s - loss: 198.2702 - mse: 198.2702 - val_loss: 196.6901 - val_mse: 196.6901\n",
            "Epoch 5/10\n",
            "40/40 - 0s - loss: 194.6573 - mse: 194.6573 - val_loss: 194.0379 - val_mse: 194.0379\n",
            "Epoch 6/10\n",
            "40/40 - 0s - loss: 190.4488 - mse: 190.4488 - val_loss: 192.6294 - val_mse: 192.6294\n",
            "Epoch 7/10\n",
            "40/40 - 0s - loss: 191.3061 - mse: 191.3061 - val_loss: 191.6582 - val_mse: 191.6582\n",
            "Epoch 8/10\n",
            "40/40 - 0s - loss: 190.9059 - mse: 190.9059 - val_loss: 191.2646 - val_mse: 191.2646\n",
            "Epoch 9/10\n",
            "40/40 - 0s - loss: 189.1516 - mse: 189.1516 - val_loss: 190.8272 - val_mse: 190.8272\n",
            "Epoch 10/10\n",
            "40/40 - 0s - loss: 192.6430 - mse: 192.6430 - val_loss: 190.9482 - val_mse: 190.9482\n"
          ],
          "name": "stdout"
        },
        {
          "output_type": "stream",
          "text": [
            "\r 80%|████████  | 16/20 [00:25<00:13,  3.32s/it]"
          ],
          "name": "stderr"
        },
        {
          "output_type": "stream",
          "text": [
            "Epoch 1/10\n",
            "40/40 - 1s - loss: 221.8754 - mse: 221.8754 - val_loss: 213.6156 - val_mse: 213.6156\n",
            "Epoch 2/10\n",
            "40/40 - 0s - loss: 213.6496 - mse: 213.6496 - val_loss: 205.8946 - val_mse: 205.8946\n",
            "Epoch 3/10\n",
            "40/40 - 0s - loss: 204.4027 - mse: 204.4027 - val_loss: 200.0605 - val_mse: 200.0605\n",
            "Epoch 4/10\n",
            "40/40 - 0s - loss: 200.9981 - mse: 200.9981 - val_loss: 196.1810 - val_mse: 196.1810\n",
            "Epoch 5/10\n",
            "40/40 - 0s - loss: 197.5060 - mse: 197.5059 - val_loss: 193.3292 - val_mse: 193.3292\n",
            "Epoch 6/10\n",
            "40/40 - 0s - loss: 195.9407 - mse: 195.9407 - val_loss: 191.1768 - val_mse: 191.1768\n",
            "Epoch 7/10\n",
            "40/40 - 0s - loss: 196.3349 - mse: 196.3349 - val_loss: 190.1193 - val_mse: 190.1193\n",
            "Epoch 8/10\n",
            "40/40 - 0s - loss: 191.9992 - mse: 191.9992 - val_loss: 189.0040 - val_mse: 189.0040\n",
            "Epoch 9/10\n",
            "40/40 - 0s - loss: 195.2073 - mse: 195.2073 - val_loss: 188.4904 - val_mse: 188.4904\n",
            "Epoch 10/10\n",
            "40/40 - 0s - loss: 191.8473 - mse: 191.8473 - val_loss: 187.9917 - val_mse: 187.9917\n"
          ],
          "name": "stdout"
        },
        {
          "output_type": "stream",
          "text": [
            "\r 85%|████████▌ | 17/20 [00:29<00:09,  3.27s/it]"
          ],
          "name": "stderr"
        },
        {
          "output_type": "stream",
          "text": [
            "Epoch 1/10\n",
            "40/40 - 1s - loss: 220.5603 - mse: 220.5603 - val_loss: 214.3802 - val_mse: 214.3802\n",
            "Epoch 2/10\n",
            "40/40 - 0s - loss: 209.5516 - mse: 209.5516 - val_loss: 205.0713 - val_mse: 205.0713\n",
            "Epoch 3/10\n",
            "40/40 - 0s - loss: 202.4162 - mse: 202.4162 - val_loss: 198.4890 - val_mse: 198.4890\n",
            "Epoch 4/10\n",
            "40/40 - 0s - loss: 196.1712 - mse: 196.1712 - val_loss: 193.3126 - val_mse: 193.3126\n",
            "Epoch 5/10\n",
            "40/40 - 0s - loss: 191.5899 - mse: 191.5899 - val_loss: 190.3244 - val_mse: 190.3244\n",
            "Epoch 6/10\n",
            "40/40 - 0s - loss: 188.7702 - mse: 188.7702 - val_loss: 188.3589 - val_mse: 188.3589\n",
            "Epoch 7/10\n",
            "40/40 - 0s - loss: 187.3804 - mse: 187.3804 - val_loss: 187.5736 - val_mse: 187.5736\n",
            "Epoch 8/10\n",
            "40/40 - 0s - loss: 185.6508 - mse: 185.6508 - val_loss: 186.7060 - val_mse: 186.7060\n",
            "Epoch 9/10\n",
            "40/40 - 0s - loss: 185.7570 - mse: 185.7570 - val_loss: 186.8547 - val_mse: 186.8547\n",
            "Epoch 10/10\n",
            "40/40 - 0s - loss: 183.3609 - mse: 183.3609 - val_loss: 186.3774 - val_mse: 186.3774\n"
          ],
          "name": "stdout"
        },
        {
          "output_type": "stream",
          "text": [
            "\r 90%|█████████ | 18/20 [00:32<00:06,  3.15s/it]"
          ],
          "name": "stderr"
        },
        {
          "output_type": "stream",
          "text": [
            "Epoch 1/10\n",
            "40/40 - 1s - loss: 220.4060 - mse: 220.4060 - val_loss: 212.9034 - val_mse: 212.9034\n",
            "Epoch 2/10\n",
            "40/40 - 0s - loss: 209.4274 - mse: 209.4274 - val_loss: 203.4774 - val_mse: 203.4774\n",
            "Epoch 3/10\n",
            "40/40 - 0s - loss: 201.7201 - mse: 201.7201 - val_loss: 195.0979 - val_mse: 195.0979\n",
            "Epoch 4/10\n",
            "40/40 - 0s - loss: 195.7271 - mse: 195.7271 - val_loss: 189.9882 - val_mse: 189.9882\n",
            "Epoch 5/10\n",
            "40/40 - 0s - loss: 191.5980 - mse: 191.5980 - val_loss: 187.1717 - val_mse: 187.1717\n",
            "Epoch 6/10\n",
            "40/40 - 0s - loss: 189.1151 - mse: 189.1151 - val_loss: 185.2283 - val_mse: 185.2283\n",
            "Epoch 7/10\n",
            "40/40 - 0s - loss: 188.8736 - mse: 188.8736 - val_loss: 184.7049 - val_mse: 184.7049\n",
            "Epoch 8/10\n",
            "40/40 - 0s - loss: 187.3824 - mse: 187.3824 - val_loss: 184.0681 - val_mse: 184.0681\n",
            "Epoch 9/10\n",
            "40/40 - 0s - loss: 184.5043 - mse: 184.5043 - val_loss: 183.7164 - val_mse: 183.7164\n",
            "Epoch 10/10\n",
            "40/40 - 0s - loss: 183.8653 - mse: 183.8653 - val_loss: 184.0119 - val_mse: 184.0119\n"
          ],
          "name": "stdout"
        },
        {
          "output_type": "stream",
          "text": [
            "\r 95%|█████████▌| 19/20 [00:35<00:03,  3.17s/it]"
          ],
          "name": "stderr"
        },
        {
          "output_type": "stream",
          "text": [
            "Epoch 1/10\n",
            "40/40 - 1s - loss: 221.9998 - mse: 221.9998 - val_loss: 211.9681 - val_mse: 211.9681\n",
            "Epoch 2/10\n",
            "40/40 - 0s - loss: 211.8758 - mse: 211.8758 - val_loss: 203.8197 - val_mse: 203.8197\n",
            "Epoch 3/10\n",
            "40/40 - 0s - loss: 205.4895 - mse: 205.4895 - val_loss: 197.9695 - val_mse: 197.9695\n",
            "Epoch 4/10\n",
            "40/40 - 0s - loss: 199.2078 - mse: 199.2078 - val_loss: 193.7857 - val_mse: 193.7857\n",
            "Epoch 5/10\n",
            "40/40 - 0s - loss: 199.2575 - mse: 199.2575 - val_loss: 191.3422 - val_mse: 191.3422\n",
            "Epoch 6/10\n",
            "40/40 - 0s - loss: 194.3114 - mse: 194.3114 - val_loss: 189.3356 - val_mse: 189.3356\n",
            "Epoch 7/10\n",
            "40/40 - 0s - loss: 194.8038 - mse: 194.8038 - val_loss: 188.3310 - val_mse: 188.3310\n",
            "Epoch 8/10\n",
            "40/40 - 0s - loss: 194.8914 - mse: 194.8914 - val_loss: 187.2959 - val_mse: 187.2959\n",
            "Epoch 9/10\n",
            "40/40 - 0s - loss: 192.8087 - mse: 192.8087 - val_loss: 186.6208 - val_mse: 186.6208\n",
            "Epoch 10/10\n",
            "40/40 - 0s - loss: 188.2688 - mse: 188.2688 - val_loss: 186.1659 - val_mse: 186.1659\n"
          ],
          "name": "stdout"
        },
        {
          "output_type": "stream",
          "text": [
            "100%|██████████| 20/20 [00:38<00:00,  1.92s/it]\n",
            "  0%|          | 0/20 [00:00<?, ?it/s]"
          ],
          "name": "stderr"
        },
        {
          "output_type": "stream",
          "text": [
            "Epoch 1/10\n",
            "40/40 - 1s - loss: 212.0506 - mse: 212.0506 - val_loss: 195.5175 - val_mse: 195.5175\n",
            "Epoch 2/10\n",
            "40/40 - 0s - loss: 193.7581 - mse: 193.7581 - val_loss: 189.3983 - val_mse: 189.3983\n",
            "Epoch 3/10\n",
            "40/40 - 0s - loss: 190.8501 - mse: 190.8501 - val_loss: 188.2100 - val_mse: 188.2100\n",
            "Epoch 4/10\n",
            "40/40 - 0s - loss: 188.5947 - mse: 188.5947 - val_loss: 189.1667 - val_mse: 189.1667\n",
            "Epoch 5/10\n",
            "40/40 - 0s - loss: 188.2677 - mse: 188.2677 - val_loss: 189.0623 - val_mse: 189.0623\n",
            "Epoch 6/10\n",
            "40/40 - 0s - loss: 186.5763 - mse: 186.5763 - val_loss: 189.6984 - val_mse: 189.6984\n",
            "Epoch 7/10\n",
            "40/40 - 0s - loss: 186.1234 - mse: 186.1234 - val_loss: 188.8247 - val_mse: 188.8247\n",
            "Epoch 8/10\n",
            "40/40 - 0s - loss: 188.2122 - mse: 188.2122 - val_loss: 189.4593 - val_mse: 189.4593\n"
          ],
          "name": "stdout"
        },
        {
          "output_type": "stream",
          "text": [
            "\r 55%|█████▌    | 11/20 [00:04<00:03,  2.51it/s]"
          ],
          "name": "stderr"
        },
        {
          "output_type": "stream",
          "text": [
            "Epoch 1/10\n",
            "40/40 - 1s - loss: 213.4264 - mse: 213.4264 - val_loss: 197.2564 - val_mse: 197.2564\n",
            "Epoch 2/10\n",
            "40/40 - 1s - loss: 194.4252 - mse: 194.4252 - val_loss: 190.3418 - val_mse: 190.3418\n",
            "Epoch 3/10\n",
            "40/40 - 1s - loss: 191.4412 - mse: 191.4412 - val_loss: 188.9557 - val_mse: 188.9557\n",
            "Epoch 4/10\n",
            "40/40 - 1s - loss: 189.2809 - mse: 189.2809 - val_loss: 188.2069 - val_mse: 188.2069\n",
            "Epoch 5/10\n",
            "40/40 - 0s - loss: 186.6413 - mse: 186.6413 - val_loss: 187.7471 - val_mse: 187.7471\n",
            "Epoch 6/10\n",
            "40/40 - 1s - loss: 184.4791 - mse: 184.4791 - val_loss: 187.2689 - val_mse: 187.2689\n",
            "Epoch 7/10\n",
            "40/40 - 0s - loss: 186.3091 - mse: 186.3091 - val_loss: 186.9761 - val_mse: 186.9761\n",
            "Epoch 8/10\n",
            "40/40 - 1s - loss: 184.8786 - mse: 184.8786 - val_loss: 186.6518 - val_mse: 186.6518\n",
            "Epoch 9/10\n",
            "40/40 - 0s - loss: 183.8654 - mse: 183.8654 - val_loss: 186.4529 - val_mse: 186.4529\n",
            "Epoch 10/10\n",
            "40/40 - 1s - loss: 181.5688 - mse: 181.5688 - val_loss: 186.3059 - val_mse: 186.3059\n"
          ],
          "name": "stdout"
        },
        {
          "output_type": "stream",
          "text": [
            "\r 60%|██████    | 12/20 [00:10<00:17,  2.13s/it]"
          ],
          "name": "stderr"
        },
        {
          "output_type": "stream",
          "text": [
            "Epoch 1/10\n",
            "40/40 - 1s - loss: 223.7446 - mse: 223.7446 - val_loss: 214.9379 - val_mse: 214.9379\n",
            "Epoch 2/10\n",
            "40/40 - 0s - loss: 216.4592 - mse: 216.4592 - val_loss: 208.9176 - val_mse: 208.9176\n",
            "Epoch 3/10\n",
            "40/40 - 0s - loss: 209.6678 - mse: 209.6678 - val_loss: 204.1223 - val_mse: 204.1223\n",
            "Epoch 4/10\n",
            "40/40 - 0s - loss: 206.2446 - mse: 206.2446 - val_loss: 200.2059 - val_mse: 200.2059\n",
            "Epoch 5/10\n",
            "40/40 - 0s - loss: 203.5329 - mse: 203.5329 - val_loss: 196.9279 - val_mse: 196.9279\n",
            "Epoch 6/10\n",
            "40/40 - 0s - loss: 201.5477 - mse: 201.5477 - val_loss: 194.3979 - val_mse: 194.3979\n",
            "Epoch 7/10\n",
            "40/40 - 0s - loss: 198.6586 - mse: 198.6586 - val_loss: 192.4575 - val_mse: 192.4575\n",
            "Epoch 8/10\n",
            "40/40 - 0s - loss: 197.4398 - mse: 197.4398 - val_loss: 190.8833 - val_mse: 190.8833\n",
            "Epoch 9/10\n",
            "40/40 - 0s - loss: 195.0124 - mse: 195.0124 - val_loss: 189.6111 - val_mse: 189.6111\n",
            "Epoch 10/10\n",
            "40/40 - 0s - loss: 194.7862 - mse: 194.7862 - val_loss: 188.6371 - val_mse: 188.6371\n"
          ],
          "name": "stdout"
        },
        {
          "output_type": "stream",
          "text": [
            "\r 65%|██████▌   | 13/20 [00:13<00:16,  2.40s/it]"
          ],
          "name": "stderr"
        },
        {
          "output_type": "stream",
          "text": [
            "Epoch 1/10\n",
            "40/40 - 1s - loss: 223.6021 - mse: 223.6021 - val_loss: 216.4367 - val_mse: 216.4367\n",
            "Epoch 2/10\n",
            "40/40 - 0s - loss: 216.5140 - mse: 216.5140 - val_loss: 209.4308 - val_mse: 209.4308\n",
            "Epoch 3/10\n",
            "40/40 - 0s - loss: 208.1859 - mse: 208.1859 - val_loss: 203.4659 - val_mse: 203.4659\n",
            "Epoch 4/10\n",
            "40/40 - 0s - loss: 204.0368 - mse: 204.0368 - val_loss: 199.1245 - val_mse: 199.1245\n",
            "Epoch 5/10\n",
            "40/40 - 0s - loss: 199.6284 - mse: 199.6284 - val_loss: 196.0448 - val_mse: 196.0448\n",
            "Epoch 6/10\n",
            "40/40 - 0s - loss: 198.4038 - mse: 198.4038 - val_loss: 193.8261 - val_mse: 193.8261\n",
            "Epoch 7/10\n",
            "40/40 - 0s - loss: 195.9135 - mse: 195.9135 - val_loss: 192.4408 - val_mse: 192.4408\n",
            "Epoch 8/10\n",
            "40/40 - 0s - loss: 193.9780 - mse: 193.9780 - val_loss: 191.4690 - val_mse: 191.4690\n",
            "Epoch 9/10\n",
            "40/40 - 0s - loss: 192.7003 - mse: 192.7003 - val_loss: 190.7392 - val_mse: 190.7392\n",
            "Epoch 10/10\n",
            "40/40 - 0s - loss: 191.6302 - mse: 191.6302 - val_loss: 190.4119 - val_mse: 190.4119\n"
          ],
          "name": "stdout"
        },
        {
          "output_type": "stream",
          "text": [
            "\r 70%|███████   | 14/20 [00:16<00:15,  2.63s/it]"
          ],
          "name": "stderr"
        },
        {
          "output_type": "stream",
          "text": [
            "Epoch 1/10\n",
            "40/40 - 1s - loss: 209.4148 - mse: 209.4148 - val_loss: 192.9719 - val_mse: 192.9719\n",
            "Epoch 2/10\n",
            "40/40 - 1s - loss: 194.0701 - mse: 194.0701 - val_loss: 189.7334 - val_mse: 189.7334\n",
            "Epoch 3/10\n",
            "40/40 - 1s - loss: 187.4726 - mse: 187.4726 - val_loss: 189.0772 - val_mse: 189.0772\n",
            "Epoch 4/10\n",
            "40/40 - 1s - loss: 188.5298 - mse: 188.5298 - val_loss: 187.9821 - val_mse: 187.9821\n",
            "Epoch 5/10\n",
            "40/40 - 1s - loss: 186.6050 - mse: 186.6050 - val_loss: 186.5416 - val_mse: 186.5416\n",
            "Epoch 6/10\n",
            "40/40 - 1s - loss: 186.1238 - mse: 186.1238 - val_loss: 186.3250 - val_mse: 186.3250\n",
            "Epoch 7/10\n",
            "40/40 - 1s - loss: 185.3595 - mse: 185.3595 - val_loss: 186.1816 - val_mse: 186.1816\n",
            "Epoch 8/10\n",
            "40/40 - 1s - loss: 183.0196 - mse: 183.0196 - val_loss: 186.1170 - val_mse: 186.1170\n",
            "Epoch 9/10\n",
            "40/40 - 1s - loss: 183.6176 - mse: 183.6176 - val_loss: 185.7236 - val_mse: 185.7236\n",
            "Epoch 10/10\n",
            "40/40 - 1s - loss: 181.7347 - mse: 181.7347 - val_loss: 185.3801 - val_mse: 185.3801\n"
          ],
          "name": "stdout"
        },
        {
          "output_type": "stream",
          "text": [
            "\r 75%|███████▌  | 15/20 [00:24<00:20,  4.04s/it]"
          ],
          "name": "stderr"
        },
        {
          "output_type": "stream",
          "text": [
            "Epoch 1/10\n",
            "40/40 - 1s - loss: 223.7875 - mse: 223.7875 - val_loss: 215.9092 - val_mse: 215.9092\n",
            "Epoch 2/10\n",
            "40/40 - 0s - loss: 215.2057 - mse: 215.2057 - val_loss: 208.6614 - val_mse: 208.6614\n",
            "Epoch 3/10\n",
            "40/40 - 0s - loss: 209.5266 - mse: 209.5266 - val_loss: 202.9908 - val_mse: 202.9908\n",
            "Epoch 4/10\n",
            "40/40 - 0s - loss: 202.8812 - mse: 202.8812 - val_loss: 198.2502 - val_mse: 198.2502\n",
            "Epoch 5/10\n",
            "40/40 - 0s - loss: 197.2628 - mse: 197.2628 - val_loss: 194.5219 - val_mse: 194.5219\n",
            "Epoch 6/10\n",
            "40/40 - 0s - loss: 195.8183 - mse: 195.8183 - val_loss: 192.1425 - val_mse: 192.1425\n",
            "Epoch 7/10\n",
            "40/40 - 0s - loss: 194.0159 - mse: 194.0159 - val_loss: 190.4899 - val_mse: 190.4899\n",
            "Epoch 8/10\n",
            "40/40 - 0s - loss: 192.2755 - mse: 192.2755 - val_loss: 189.4251 - val_mse: 189.4251\n",
            "Epoch 9/10\n",
            "40/40 - 0s - loss: 191.7490 - mse: 191.7490 - val_loss: 188.8879 - val_mse: 188.8879\n",
            "Epoch 10/10\n",
            "40/40 - 0s - loss: 190.1399 - mse: 190.1399 - val_loss: 188.4343 - val_mse: 188.4343\n"
          ],
          "name": "stdout"
        },
        {
          "output_type": "stream",
          "text": [
            "\r 80%|████████  | 16/20 [00:27<00:15,  3.79s/it]"
          ],
          "name": "stderr"
        },
        {
          "output_type": "stream",
          "text": [
            "Epoch 1/10\n",
            "40/40 - 1s - loss: 212.5662 - mse: 212.5662 - val_loss: 198.2603 - val_mse: 198.2603\n",
            "Epoch 2/10\n",
            "40/40 - 1s - loss: 193.3224 - mse: 193.3224 - val_loss: 190.8257 - val_mse: 190.8257\n",
            "Epoch 3/10\n",
            "40/40 - 1s - loss: 191.7283 - mse: 191.7283 - val_loss: 189.5419 - val_mse: 189.5419\n",
            "Epoch 4/10\n",
            "40/40 - 1s - loss: 190.1396 - mse: 190.1396 - val_loss: 187.6903 - val_mse: 187.6903\n",
            "Epoch 5/10\n",
            "40/40 - 1s - loss: 188.3156 - mse: 188.3156 - val_loss: 187.0730 - val_mse: 187.0730\n",
            "Epoch 6/10\n",
            "40/40 - 1s - loss: 186.8105 - mse: 186.8105 - val_loss: 186.7469 - val_mse: 186.7469\n",
            "Epoch 7/10\n",
            "40/40 - 1s - loss: 185.4571 - mse: 185.4571 - val_loss: 185.8312 - val_mse: 185.8312\n",
            "Epoch 8/10\n",
            "40/40 - 1s - loss: 185.0010 - mse: 185.0010 - val_loss: 185.7889 - val_mse: 185.7889\n",
            "Epoch 9/10\n",
            "40/40 - 1s - loss: 184.0235 - mse: 184.0235 - val_loss: 185.3912 - val_mse: 185.3912\n",
            "Epoch 10/10\n",
            "40/40 - 1s - loss: 182.1120 - mse: 182.1120 - val_loss: 184.9716 - val_mse: 184.9716\n"
          ],
          "name": "stdout"
        },
        {
          "output_type": "stream",
          "text": [
            "\r 85%|████████▌ | 17/20 [00:34<00:14,  4.81s/it]"
          ],
          "name": "stderr"
        },
        {
          "output_type": "stream",
          "text": [
            "Epoch 1/10\n",
            "40/40 - 1s - loss: 213.9595 - mse: 213.9595 - val_loss: 200.0475 - val_mse: 200.0475\n",
            "Epoch 2/10\n",
            "40/40 - 0s - loss: 196.2212 - mse: 196.2212 - val_loss: 191.0633 - val_mse: 191.0633\n",
            "Epoch 3/10\n",
            "40/40 - 0s - loss: 191.7645 - mse: 191.7645 - val_loss: 189.1056 - val_mse: 189.1056\n",
            "Epoch 4/10\n",
            "40/40 - 0s - loss: 190.4401 - mse: 190.4401 - val_loss: 187.7119 - val_mse: 187.7119\n",
            "Epoch 5/10\n",
            "40/40 - 0s - loss: 187.7977 - mse: 187.7977 - val_loss: 186.9471 - val_mse: 186.9471\n",
            "Epoch 6/10\n",
            "40/40 - 0s - loss: 188.4389 - mse: 188.4389 - val_loss: 186.4654 - val_mse: 186.4654\n",
            "Epoch 7/10\n",
            "40/40 - 0s - loss: 187.4565 - mse: 187.4565 - val_loss: 186.1981 - val_mse: 186.1981\n",
            "Epoch 8/10\n",
            "40/40 - 0s - loss: 187.2505 - mse: 187.2505 - val_loss: 186.0225 - val_mse: 186.0225\n",
            "Epoch 9/10\n",
            "40/40 - 0s - loss: 185.6098 - mse: 185.6098 - val_loss: 185.7654 - val_mse: 185.7654\n",
            "Epoch 10/10\n",
            "40/40 - 0s - loss: 186.0655 - mse: 186.0655 - val_loss: 185.6197 - val_mse: 185.6197\n"
          ],
          "name": "stdout"
        },
        {
          "output_type": "stream",
          "text": [
            "\r 90%|█████████ | 18/20 [00:39<00:10,  5.02s/it]"
          ],
          "name": "stderr"
        },
        {
          "output_type": "stream",
          "text": [
            "Epoch 1/10\n",
            "40/40 - 1s - loss: 229.0613 - mse: 229.0613 - val_loss: 223.7120 - val_mse: 223.7120\n",
            "Epoch 2/10\n",
            "40/40 - 0s - loss: 226.9989 - mse: 226.9989 - val_loss: 221.1568 - val_mse: 221.1568\n",
            "Epoch 3/10\n",
            "40/40 - 0s - loss: 223.5877 - mse: 223.5877 - val_loss: 218.6870 - val_mse: 218.6870\n",
            "Epoch 4/10\n",
            "40/40 - 0s - loss: 220.4131 - mse: 220.4131 - val_loss: 216.1896 - val_mse: 216.1896\n",
            "Epoch 5/10\n",
            "40/40 - 0s - loss: 219.3259 - mse: 219.3259 - val_loss: 213.6026 - val_mse: 213.6026\n",
            "Epoch 6/10\n",
            "40/40 - 0s - loss: 217.0713 - mse: 217.0713 - val_loss: 211.2320 - val_mse: 211.2320\n",
            "Epoch 7/10\n",
            "40/40 - 0s - loss: 213.4820 - mse: 213.4820 - val_loss: 208.7571 - val_mse: 208.7571\n",
            "Epoch 8/10\n",
            "40/40 - 0s - loss: 213.9146 - mse: 213.9146 - val_loss: 206.4404 - val_mse: 206.4404\n",
            "Epoch 9/10\n",
            "40/40 - 0s - loss: 209.3282 - mse: 209.3282 - val_loss: 204.2542 - val_mse: 204.2542\n",
            "Epoch 10/10\n",
            "40/40 - 0s - loss: 209.3609 - mse: 209.3609 - val_loss: 201.8665 - val_mse: 201.8665\n"
          ],
          "name": "stdout"
        },
        {
          "output_type": "stream",
          "text": [
            "\r 95%|█████████▌| 19/20 [00:42<00:04,  4.33s/it]"
          ],
          "name": "stderr"
        },
        {
          "output_type": "stream",
          "text": [
            "Epoch 1/10\n",
            "40/40 - 1s - loss: 209.2472 - mse: 209.2472 - val_loss: 191.2114 - val_mse: 191.2114\n",
            "Epoch 2/10\n",
            "40/40 - 0s - loss: 194.4111 - mse: 194.4111 - val_loss: 188.5128 - val_mse: 188.5128\n",
            "Epoch 3/10\n",
            "40/40 - 0s - loss: 191.3589 - mse: 191.3589 - val_loss: 185.9598 - val_mse: 185.9597\n",
            "Epoch 4/10\n",
            "40/40 - 0s - loss: 185.3329 - mse: 185.3329 - val_loss: 183.1323 - val_mse: 183.1323\n",
            "Epoch 5/10\n",
            "40/40 - 0s - loss: 184.3210 - mse: 184.3210 - val_loss: 185.0283 - val_mse: 185.0283\n",
            "Epoch 6/10\n",
            "40/40 - 0s - loss: 183.6630 - mse: 183.6630 - val_loss: 184.4361 - val_mse: 184.4361\n",
            "Epoch 7/10\n",
            "40/40 - 0s - loss: 179.8907 - mse: 179.8907 - val_loss: 182.5273 - val_mse: 182.5273\n",
            "Epoch 8/10\n",
            "40/40 - 0s - loss: 173.9976 - mse: 173.9976 - val_loss: 183.5846 - val_mse: 183.5846\n",
            "Epoch 9/10\n",
            "40/40 - 0s - loss: 170.1102 - mse: 170.1102 - val_loss: 186.4359 - val_mse: 186.4359\n",
            "Epoch 10/10\n",
            "40/40 - 0s - loss: 166.1680 - mse: 166.1680 - val_loss: 186.5788 - val_mse: 186.5788\n"
          ],
          "name": "stdout"
        },
        {
          "output_type": "stream",
          "text": [
            "100%|██████████| 20/20 [00:45<00:00,  2.29s/it]\n",
            "  0%|          | 0/20 [00:00<?, ?it/s]"
          ],
          "name": "stderr"
        },
        {
          "output_type": "stream",
          "text": [
            "Epoch 1/10\n",
            "40/40 - 1s - loss: 215.0615 - mse: 215.0615 - val_loss: 202.9997 - val_mse: 202.9997\n",
            "Epoch 2/10\n",
            "40/40 - 0s - loss: 196.5543 - mse: 196.5543 - val_loss: 193.4375 - val_mse: 193.4375\n",
            "Epoch 3/10\n",
            "40/40 - 0s - loss: 192.2901 - mse: 192.2901 - val_loss: 191.1049 - val_mse: 191.1049\n",
            "Epoch 4/10\n",
            "40/40 - 0s - loss: 189.5709 - mse: 189.5709 - val_loss: 189.9910 - val_mse: 189.9910\n",
            "Epoch 5/10\n",
            "40/40 - 0s - loss: 189.5829 - mse: 189.5829 - val_loss: 189.1635 - val_mse: 189.1635\n",
            "Epoch 6/10\n",
            "40/40 - 0s - loss: 187.6348 - mse: 187.6348 - val_loss: 188.4847 - val_mse: 188.4847\n",
            "Epoch 7/10\n",
            "40/40 - 0s - loss: 188.3718 - mse: 188.3718 - val_loss: 188.0905 - val_mse: 188.0905\n",
            "Epoch 8/10\n",
            "40/40 - 0s - loss: 185.6249 - mse: 185.6249 - val_loss: 187.7383 - val_mse: 187.7383\n",
            "Epoch 9/10\n",
            "40/40 - 0s - loss: 186.2856 - mse: 186.2856 - val_loss: 187.5016 - val_mse: 187.5017\n",
            "Epoch 10/10\n",
            "40/40 - 0s - loss: 184.5695 - mse: 184.5695 - val_loss: 187.1703 - val_mse: 187.1703\n"
          ],
          "name": "stdout"
        },
        {
          "output_type": "stream",
          "text": [
            "\r 50%|█████     | 10/20 [00:05<00:05,  1.97it/s]"
          ],
          "name": "stderr"
        },
        {
          "output_type": "stream",
          "text": [
            "Epoch 1/10\n",
            "40/40 - 1s - loss: 212.4377 - mse: 212.4377 - val_loss: 198.9927 - val_mse: 198.9927\n",
            "Epoch 2/10\n",
            "40/40 - 0s - loss: 194.7870 - mse: 194.7870 - val_loss: 192.9227 - val_mse: 192.9227\n",
            "Epoch 3/10\n",
            "40/40 - 0s - loss: 191.8078 - mse: 191.8078 - val_loss: 191.4759 - val_mse: 191.4759\n",
            "Epoch 4/10\n",
            "40/40 - 0s - loss: 189.9279 - mse: 189.9279 - val_loss: 190.4144 - val_mse: 190.4144\n",
            "Epoch 5/10\n",
            "40/40 - 0s - loss: 190.1106 - mse: 190.1106 - val_loss: 189.7316 - val_mse: 189.7316\n",
            "Epoch 6/10\n",
            "40/40 - 0s - loss: 188.3903 - mse: 188.3903 - val_loss: 189.1662 - val_mse: 189.1662\n",
            "Epoch 7/10\n",
            "40/40 - 0s - loss: 186.9556 - mse: 186.9556 - val_loss: 188.7047 - val_mse: 188.7047\n",
            "Epoch 8/10\n",
            "40/40 - 0s - loss: 187.3814 - mse: 187.3814 - val_loss: 188.3769 - val_mse: 188.3769\n",
            "Epoch 9/10\n",
            "40/40 - 0s - loss: 185.5281 - mse: 185.5281 - val_loss: 188.1196 - val_mse: 188.1196\n",
            "Epoch 10/10\n",
            "40/40 - 0s - loss: 185.4892 - mse: 185.4892 - val_loss: 187.8814 - val_mse: 187.8814\n"
          ],
          "name": "stdout"
        },
        {
          "output_type": "stream",
          "text": [
            "\r 55%|█████▌    | 11/20 [00:10<00:17,  1.93s/it]"
          ],
          "name": "stderr"
        },
        {
          "output_type": "stream",
          "text": [
            "Epoch 1/10\n",
            "40/40 - 1s - loss: 212.1637 - mse: 212.1637 - val_loss: 195.9924 - val_mse: 195.9924\n",
            "Epoch 2/10\n",
            "40/40 - 1s - loss: 194.7779 - mse: 194.7779 - val_loss: 191.7633 - val_mse: 191.7633\n",
            "Epoch 3/10\n",
            "40/40 - 0s - loss: 191.6838 - mse: 191.6838 - val_loss: 189.1098 - val_mse: 189.1098\n",
            "Epoch 4/10\n",
            "40/40 - 1s - loss: 189.9227 - mse: 189.9227 - val_loss: 188.2493 - val_mse: 188.2493\n",
            "Epoch 5/10\n",
            "40/40 - 1s - loss: 187.7682 - mse: 187.7682 - val_loss: 187.4166 - val_mse: 187.4166\n",
            "Epoch 6/10\n",
            "40/40 - 1s - loss: 187.6505 - mse: 187.6505 - val_loss: 186.9214 - val_mse: 186.9214\n",
            "Epoch 7/10\n",
            "40/40 - 1s - loss: 186.8860 - mse: 186.8860 - val_loss: 186.0907 - val_mse: 186.0907\n",
            "Epoch 8/10\n",
            "40/40 - 1s - loss: 186.5092 - mse: 186.5092 - val_loss: 185.8895 - val_mse: 185.8895\n",
            "Epoch 9/10\n",
            "40/40 - 0s - loss: 185.5152 - mse: 185.5152 - val_loss: 185.9067 - val_mse: 185.9067\n",
            "Epoch 10/10\n",
            "40/40 - 1s - loss: 184.5032 - mse: 184.5032 - val_loss: 185.6482 - val_mse: 185.6482\n"
          ],
          "name": "stdout"
        },
        {
          "output_type": "stream",
          "text": [
            "\r 60%|██████    | 12/20 [00:16<00:25,  3.21s/it]"
          ],
          "name": "stderr"
        },
        {
          "output_type": "stream",
          "text": [
            "Epoch 1/10\n",
            "40/40 - 1s - loss: 217.6461 - mse: 217.6461 - val_loss: 200.1707 - val_mse: 200.1707\n",
            "Epoch 2/10\n",
            "40/40 - 0s - loss: 198.1664 - mse: 198.1664 - val_loss: 190.4799 - val_mse: 190.4799\n",
            "Epoch 3/10\n",
            "40/40 - 0s - loss: 190.3703 - mse: 190.3703 - val_loss: 187.5788 - val_mse: 187.5788\n",
            "Epoch 4/10\n",
            "40/40 - 0s - loss: 189.2354 - mse: 189.2354 - val_loss: 187.9994 - val_mse: 187.9994\n",
            "Epoch 5/10\n",
            "40/40 - 0s - loss: 189.0479 - mse: 189.0479 - val_loss: 187.9404 - val_mse: 187.9404\n",
            "Epoch 6/10\n",
            "40/40 - 0s - loss: 186.2994 - mse: 186.2994 - val_loss: 188.4900 - val_mse: 188.4900\n",
            "Epoch 7/10\n",
            "40/40 - 0s - loss: 187.9867 - mse: 187.9867 - val_loss: 187.8766 - val_mse: 187.8766\n",
            "Epoch 8/10\n",
            "40/40 - 0s - loss: 185.8432 - mse: 185.8432 - val_loss: 187.6241 - val_mse: 187.6241\n"
          ],
          "name": "stdout"
        },
        {
          "output_type": "stream",
          "text": [
            "\r 65%|██████▌   | 13/20 [00:20<00:24,  3.51s/it]"
          ],
          "name": "stderr"
        },
        {
          "output_type": "stream",
          "text": [
            "Epoch 1/10\n",
            "40/40 - 1s - loss: 210.2327 - mse: 210.2327 - val_loss: 192.4515 - val_mse: 192.4515\n",
            "Epoch 2/10\n",
            "40/40 - 1s - loss: 193.8210 - mse: 193.8210 - val_loss: 189.5237 - val_mse: 189.5237\n",
            "Epoch 3/10\n",
            "40/40 - 1s - loss: 189.4102 - mse: 189.4102 - val_loss: 187.8578 - val_mse: 187.8578\n",
            "Epoch 4/10\n",
            "40/40 - 1s - loss: 190.0393 - mse: 190.0393 - val_loss: 187.2649 - val_mse: 187.2649\n",
            "Epoch 5/10\n",
            "40/40 - 1s - loss: 188.8368 - mse: 188.8368 - val_loss: 186.3288 - val_mse: 186.3288\n",
            "Epoch 6/10\n",
            "40/40 - 1s - loss: 187.9274 - mse: 187.9274 - val_loss: 185.8013 - val_mse: 185.8013\n",
            "Epoch 7/10\n",
            "40/40 - 1s - loss: 188.0954 - mse: 188.0954 - val_loss: 185.5571 - val_mse: 185.5571\n",
            "Epoch 8/10\n",
            "40/40 - 1s - loss: 184.0057 - mse: 184.0057 - val_loss: 185.0356 - val_mse: 185.0356\n",
            "Epoch 9/10\n",
            "40/40 - 1s - loss: 185.1001 - mse: 185.1001 - val_loss: 184.9404 - val_mse: 184.9404\n",
            "Epoch 10/10\n",
            "40/40 - 1s - loss: 183.5387 - mse: 183.5387 - val_loss: 184.6728 - val_mse: 184.6728\n"
          ],
          "name": "stdout"
        },
        {
          "output_type": "stream",
          "text": [
            "\r 70%|███████   | 14/20 [00:27<00:27,  4.59s/it]"
          ],
          "name": "stderr"
        },
        {
          "output_type": "stream",
          "text": [
            "Epoch 1/10\n",
            "40/40 - 1s - loss: 225.2559 - mse: 225.2559 - val_loss: 221.8299 - val_mse: 221.8299\n",
            "Epoch 2/10\n",
            "40/40 - 0s - loss: 221.2372 - mse: 221.2372 - val_loss: 219.0113 - val_mse: 219.0113\n",
            "Epoch 3/10\n",
            "40/40 - 0s - loss: 218.9678 - mse: 218.9678 - val_loss: 216.9102 - val_mse: 216.9102\n",
            "Epoch 4/10\n",
            "40/40 - 0s - loss: 216.8772 - mse: 216.8772 - val_loss: 215.1845 - val_mse: 215.1845\n",
            "Epoch 5/10\n",
            "40/40 - 0s - loss: 215.1691 - mse: 215.1691 - val_loss: 213.6840 - val_mse: 213.6840\n",
            "Epoch 6/10\n",
            "40/40 - 0s - loss: 214.1284 - mse: 214.1284 - val_loss: 212.3867 - val_mse: 212.3867\n",
            "Epoch 7/10\n",
            "40/40 - 0s - loss: 212.7645 - mse: 212.7645 - val_loss: 211.2116 - val_mse: 211.2116\n",
            "Epoch 8/10\n",
            "40/40 - 0s - loss: 211.5760 - mse: 211.5760 - val_loss: 210.1290 - val_mse: 210.1290\n",
            "Epoch 9/10\n",
            "40/40 - 0s - loss: 210.5044 - mse: 210.5044 - val_loss: 209.1344 - val_mse: 209.1344\n",
            "Epoch 10/10\n",
            "40/40 - 0s - loss: 209.4797 - mse: 209.4797 - val_loss: 208.2142 - val_mse: 208.2142\n"
          ],
          "name": "stdout"
        },
        {
          "output_type": "stream",
          "text": [
            "\r 75%|███████▌  | 15/20 [00:30<00:20,  4.15s/it]"
          ],
          "name": "stderr"
        },
        {
          "output_type": "stream",
          "text": [
            "Epoch 1/10\n",
            "40/40 - 1s - loss: 225.8877 - mse: 225.8877 - val_loss: 222.3025 - val_mse: 222.3025\n",
            "Epoch 2/10\n",
            "40/40 - 0s - loss: 221.6906 - mse: 221.6906 - val_loss: 219.5221 - val_mse: 219.5221\n",
            "Epoch 3/10\n",
            "40/40 - 0s - loss: 219.5312 - mse: 219.5312 - val_loss: 217.4432 - val_mse: 217.4432\n",
            "Epoch 4/10\n",
            "40/40 - 0s - loss: 217.5617 - mse: 217.5617 - val_loss: 215.7154 - val_mse: 215.7154\n",
            "Epoch 5/10\n",
            "40/40 - 0s - loss: 215.7296 - mse: 215.7296 - val_loss: 214.2278 - val_mse: 214.2278\n",
            "Epoch 6/10\n",
            "40/40 - 0s - loss: 214.2138 - mse: 214.2138 - val_loss: 212.9104 - val_mse: 212.9104\n",
            "Epoch 7/10\n",
            "40/40 - 0s - loss: 212.9947 - mse: 212.9947 - val_loss: 211.7136 - val_mse: 211.7136\n",
            "Epoch 8/10\n",
            "40/40 - 0s - loss: 211.7865 - mse: 211.7865 - val_loss: 210.6215 - val_mse: 210.6215\n",
            "Epoch 9/10\n",
            "40/40 - 0s - loss: 210.7079 - mse: 210.7079 - val_loss: 209.6191 - val_mse: 209.6191\n",
            "Epoch 10/10\n",
            "40/40 - 0s - loss: 209.9654 - mse: 209.9654 - val_loss: 208.6993 - val_mse: 208.6993\n"
          ],
          "name": "stdout"
        },
        {
          "output_type": "stream",
          "text": [
            "\r 80%|████████  | 16/20 [00:33<00:14,  3.73s/it]"
          ],
          "name": "stderr"
        },
        {
          "output_type": "stream",
          "text": [
            "Epoch 1/10\n",
            "40/40 - 1s - loss: 206.2327 - mse: 206.2327 - val_loss: 188.7841 - val_mse: 188.7841\n",
            "Epoch 2/10\n",
            "40/40 - 0s - loss: 194.2188 - mse: 194.2188 - val_loss: 185.7563 - val_mse: 185.7563\n",
            "Epoch 3/10\n",
            "40/40 - 0s - loss: 189.4902 - mse: 189.4902 - val_loss: 185.1414 - val_mse: 185.1414\n",
            "Epoch 4/10\n",
            "40/40 - 0s - loss: 184.2347 - mse: 184.2347 - val_loss: 183.9086 - val_mse: 183.9086\n",
            "Epoch 5/10\n",
            "40/40 - 0s - loss: 183.7795 - mse: 183.7795 - val_loss: 186.3170 - val_mse: 186.3170\n",
            "Epoch 6/10\n",
            "40/40 - 0s - loss: 181.7872 - mse: 181.7872 - val_loss: 185.1662 - val_mse: 185.1662\n",
            "Epoch 7/10\n",
            "40/40 - 0s - loss: 177.4229 - mse: 177.4229 - val_loss: 184.2755 - val_mse: 184.2755\n",
            "Epoch 8/10\n",
            "40/40 - 0s - loss: 177.1539 - mse: 177.1539 - val_loss: 184.7231 - val_mse: 184.7231\n",
            "Epoch 9/10\n",
            "40/40 - 0s - loss: 171.4209 - mse: 171.4209 - val_loss: 186.2661 - val_mse: 186.2661\n"
          ],
          "name": "stdout"
        },
        {
          "output_type": "stream",
          "text": [
            "\r 85%|████████▌ | 17/20 [00:36<00:10,  3.52s/it]"
          ],
          "name": "stderr"
        },
        {
          "output_type": "stream",
          "text": [
            "Epoch 1/10\n",
            "40/40 - 1s - loss: 215.9196 - mse: 215.9195 - val_loss: 200.5459 - val_mse: 200.5459\n",
            "Epoch 2/10\n",
            "40/40 - 0s - loss: 196.3621 - mse: 196.3621 - val_loss: 190.5506 - val_mse: 190.5506\n",
            "Epoch 3/10\n",
            "40/40 - 0s - loss: 192.8725 - mse: 192.8725 - val_loss: 188.5188 - val_mse: 188.5188\n",
            "Epoch 4/10\n",
            "40/40 - 0s - loss: 190.5400 - mse: 190.5400 - val_loss: 187.7718 - val_mse: 187.7718\n",
            "Epoch 5/10\n",
            "40/40 - 0s - loss: 190.3770 - mse: 190.3770 - val_loss: 186.8418 - val_mse: 186.8418\n",
            "Epoch 6/10\n",
            "40/40 - 0s - loss: 187.6073 - mse: 187.6073 - val_loss: 186.2622 - val_mse: 186.2622\n",
            "Epoch 7/10\n",
            "40/40 - 0s - loss: 188.0842 - mse: 188.0842 - val_loss: 185.8804 - val_mse: 185.8803\n",
            "Epoch 8/10\n",
            "40/40 - 0s - loss: 187.4637 - mse: 187.4637 - val_loss: 185.6120 - val_mse: 185.6120\n",
            "Epoch 9/10\n",
            "40/40 - 0s - loss: 186.3558 - mse: 186.3558 - val_loss: 185.4442 - val_mse: 185.4442\n",
            "Epoch 10/10\n",
            "40/40 - 0s - loss: 185.9376 - mse: 185.9376 - val_loss: 185.2928 - val_mse: 185.2928\n"
          ],
          "name": "stdout"
        },
        {
          "output_type": "stream",
          "text": [
            "\r 90%|█████████ | 18/20 [00:41<00:08,  4.01s/it]"
          ],
          "name": "stderr"
        },
        {
          "output_type": "stream",
          "text": [
            "Epoch 1/10\n",
            "40/40 - 1s - loss: 215.9511 - mse: 215.9511 - val_loss: 198.7768 - val_mse: 198.7768\n",
            "Epoch 2/10\n",
            "40/40 - 0s - loss: 196.8402 - mse: 196.8402 - val_loss: 188.6318 - val_mse: 188.6318\n",
            "Epoch 3/10\n",
            "40/40 - 0s - loss: 190.0247 - mse: 190.0247 - val_loss: 185.8430 - val_mse: 185.8430\n",
            "Epoch 4/10\n",
            "40/40 - 0s - loss: 189.3848 - mse: 189.3848 - val_loss: 186.4828 - val_mse: 186.4828\n",
            "Epoch 5/10\n",
            "40/40 - 0s - loss: 188.7689 - mse: 188.7689 - val_loss: 186.8337 - val_mse: 186.8337\n",
            "Epoch 6/10\n",
            "40/40 - 0s - loss: 189.0383 - mse: 189.0383 - val_loss: 187.2196 - val_mse: 187.2196\n",
            "Epoch 7/10\n",
            "40/40 - 0s - loss: 188.9370 - mse: 188.9370 - val_loss: 188.4486 - val_mse: 188.4486\n",
            "Epoch 8/10\n",
            "40/40 - 0s - loss: 187.5587 - mse: 187.5587 - val_loss: 189.0887 - val_mse: 189.0887\n"
          ],
          "name": "stdout"
        },
        {
          "output_type": "stream",
          "text": [
            "\r 95%|█████████▌| 19/20 [00:46<00:04,  4.09s/it]"
          ],
          "name": "stderr"
        },
        {
          "output_type": "stream",
          "text": [
            "Epoch 1/10\n",
            "40/40 - 1s - loss: 227.3189 - mse: 227.3189 - val_loss: 223.5844 - val_mse: 223.5844\n",
            "Epoch 2/10\n",
            "40/40 - 0s - loss: 222.9402 - mse: 222.9402 - val_loss: 220.7047 - val_mse: 220.7047\n",
            "Epoch 3/10\n",
            "40/40 - 0s - loss: 220.5230 - mse: 220.5230 - val_loss: 218.5297 - val_mse: 218.5297\n",
            "Epoch 4/10\n",
            "40/40 - 0s - loss: 218.6001 - mse: 218.6001 - val_loss: 216.7702 - val_mse: 216.7702\n",
            "Epoch 5/10\n",
            "40/40 - 0s - loss: 217.0149 - mse: 217.0149 - val_loss: 215.2678 - val_mse: 215.2678\n",
            "Epoch 6/10\n",
            "40/40 - 0s - loss: 215.3918 - mse: 215.3918 - val_loss: 213.9305 - val_mse: 213.9305\n",
            "Epoch 7/10\n",
            "40/40 - 0s - loss: 213.9108 - mse: 213.9108 - val_loss: 212.7198 - val_mse: 212.7198\n",
            "Epoch 8/10\n",
            "40/40 - 0s - loss: 212.9621 - mse: 212.9621 - val_loss: 211.6196 - val_mse: 211.6196\n",
            "Epoch 9/10\n",
            "40/40 - 0s - loss: 211.7982 - mse: 211.7983 - val_loss: 210.6080 - val_mse: 210.6080\n",
            "Epoch 10/10\n",
            "40/40 - 0s - loss: 210.7357 - mse: 210.7357 - val_loss: 209.6673 - val_mse: 209.6673\n"
          ],
          "name": "stdout"
        },
        {
          "output_type": "stream",
          "text": [
            "100%|██████████| 20/20 [00:48<00:00,  2.45s/it]\n",
            "  0%|          | 0/20 [00:00<?, ?it/s]"
          ],
          "name": "stderr"
        },
        {
          "output_type": "stream",
          "text": [
            "Epoch 1/10\n",
            "40/40 - 1s - loss: 211.6086 - mse: 211.6086 - val_loss: 196.9162 - val_mse: 196.9162\n",
            "Epoch 2/10\n",
            "40/40 - 0s - loss: 195.1884 - mse: 195.1884 - val_loss: 190.2735 - val_mse: 190.2735\n",
            "Epoch 3/10\n",
            "40/40 - 0s - loss: 191.7692 - mse: 191.7692 - val_loss: 188.8814 - val_mse: 188.8814\n",
            "Epoch 4/10\n",
            "40/40 - 0s - loss: 189.9995 - mse: 189.9995 - val_loss: 187.9992 - val_mse: 187.9992\n",
            "Epoch 5/10\n",
            "40/40 - 0s - loss: 189.3087 - mse: 189.3087 - val_loss: 187.3737 - val_mse: 187.3737\n",
            "Epoch 6/10\n",
            "40/40 - 0s - loss: 188.5900 - mse: 188.5900 - val_loss: 186.8947 - val_mse: 186.8947\n",
            "Epoch 7/10\n",
            "40/40 - 0s - loss: 186.7048 - mse: 186.7048 - val_loss: 186.5915 - val_mse: 186.5915\n",
            "Epoch 8/10\n",
            "40/40 - 0s - loss: 186.5167 - mse: 186.5167 - val_loss: 186.3811 - val_mse: 186.3811\n",
            "Epoch 9/10\n",
            "40/40 - 0s - loss: 185.1849 - mse: 185.1849 - val_loss: 186.2073 - val_mse: 186.2073\n",
            "Epoch 10/10\n",
            "40/40 - 0s - loss: 185.4176 - mse: 185.4176 - val_loss: 186.0677 - val_mse: 186.0677\n"
          ],
          "name": "stdout"
        },
        {
          "output_type": "stream",
          "text": [
            "\r 45%|████▌     | 9/20 [00:05<00:06,  1.79it/s]"
          ],
          "name": "stderr"
        },
        {
          "output_type": "stream",
          "text": [
            "Epoch 1/10\n",
            "40/40 - 1s - loss: 211.8514 - mse: 211.8514 - val_loss: 194.5226 - val_mse: 194.5226\n",
            "Epoch 2/10\n",
            "40/40 - 1s - loss: 192.7813 - mse: 192.7813 - val_loss: 191.0340 - val_mse: 191.0340\n",
            "Epoch 3/10\n",
            "40/40 - 1s - loss: 192.7930 - mse: 192.7930 - val_loss: 189.7054 - val_mse: 189.7054\n",
            "Epoch 4/10\n",
            "40/40 - 1s - loss: 191.3818 - mse: 191.3818 - val_loss: 188.7527 - val_mse: 188.7527\n",
            "Epoch 5/10\n",
            "40/40 - 1s - loss: 188.9993 - mse: 188.9993 - val_loss: 187.9750 - val_mse: 187.9750\n",
            "Epoch 6/10\n",
            "40/40 - 1s - loss: 187.3846 - mse: 187.3845 - val_loss: 187.4460 - val_mse: 187.4460\n",
            "Epoch 7/10\n",
            "40/40 - 1s - loss: 185.9854 - mse: 185.9854 - val_loss: 187.2530 - val_mse: 187.2530\n",
            "Epoch 8/10\n",
            "40/40 - 1s - loss: 186.3778 - mse: 186.3778 - val_loss: 186.9630 - val_mse: 186.9630\n",
            "Epoch 9/10\n",
            "40/40 - 1s - loss: 184.4288 - mse: 184.4288 - val_loss: 186.4510 - val_mse: 186.4510\n",
            "Epoch 10/10\n",
            "40/40 - 1s - loss: 183.4611 - mse: 183.4611 - val_loss: 185.9599 - val_mse: 185.9599\n"
          ],
          "name": "stdout"
        },
        {
          "output_type": "stream",
          "text": [
            "\r 50%|█████     | 10/20 [00:11<00:22,  2.30s/it]"
          ],
          "name": "stderr"
        },
        {
          "output_type": "stream",
          "text": [
            "Epoch 1/10\n",
            "40/40 - 2s - loss: 203.7624 - mse: 203.7624 - val_loss: 204.1118 - val_mse: 204.1118\n",
            "Epoch 2/10\n",
            "40/40 - 1s - loss: 192.4236 - mse: 192.4236 - val_loss: 182.0332 - val_mse: 182.0332\n",
            "Epoch 3/10\n",
            "40/40 - 1s - loss: 182.4833 - mse: 182.4833 - val_loss: 194.6990 - val_mse: 194.6990\n",
            "Epoch 4/10\n",
            "40/40 - 1s - loss: 175.7908 - mse: 175.7908 - val_loss: 203.9132 - val_mse: 203.9132\n",
            "Epoch 5/10\n",
            "40/40 - 1s - loss: 174.9941 - mse: 174.9941 - val_loss: 191.8121 - val_mse: 191.8121\n",
            "Epoch 6/10\n",
            "40/40 - 1s - loss: 172.5940 - mse: 172.5940 - val_loss: 182.1636 - val_mse: 182.1636\n",
            "Epoch 7/10\n",
            "40/40 - 1s - loss: 160.3031 - mse: 160.3031 - val_loss: 205.0974 - val_mse: 205.0974\n"
          ],
          "name": "stdout"
        },
        {
          "output_type": "stream",
          "text": [
            "\r 55%|█████▌    | 11/20 [00:17<00:30,  3.44s/it]"
          ],
          "name": "stderr"
        },
        {
          "output_type": "stream",
          "text": [
            "Epoch 1/10\n",
            "40/40 - 1s - loss: 226.5884 - mse: 226.5884 - val_loss: 223.0701 - val_mse: 223.0701\n",
            "Epoch 2/10\n",
            "40/40 - 0s - loss: 222.2868 - mse: 222.2868 - val_loss: 220.1299 - val_mse: 220.1299\n",
            "Epoch 3/10\n",
            "40/40 - 0s - loss: 219.6335 - mse: 219.6335 - val_loss: 218.0078 - val_mse: 218.0078\n",
            "Epoch 4/10\n",
            "40/40 - 0s - loss: 218.0295 - mse: 218.0295 - val_loss: 216.2909 - val_mse: 216.2909\n",
            "Epoch 5/10\n",
            "40/40 - 0s - loss: 216.3672 - mse: 216.3672 - val_loss: 214.8004 - val_mse: 214.8004\n",
            "Epoch 6/10\n",
            "40/40 - 0s - loss: 214.8039 - mse: 214.8039 - val_loss: 213.4832 - val_mse: 213.4832\n",
            "Epoch 7/10\n",
            "40/40 - 0s - loss: 213.4039 - mse: 213.4039 - val_loss: 212.2961 - val_mse: 212.2961\n",
            "Epoch 8/10\n",
            "40/40 - 0s - loss: 212.4624 - mse: 212.4624 - val_loss: 211.2057 - val_mse: 211.2057\n",
            "Epoch 9/10\n",
            "40/40 - 0s - loss: 211.0276 - mse: 211.0276 - val_loss: 210.2043 - val_mse: 210.2043\n",
            "Epoch 10/10\n",
            "40/40 - 0s - loss: 210.5759 - mse: 210.5759 - val_loss: 209.2868 - val_mse: 209.2868\n"
          ],
          "name": "stdout"
        },
        {
          "output_type": "stream",
          "text": [
            "\r 60%|██████    | 12/20 [00:21<00:27,  3.49s/it]"
          ],
          "name": "stderr"
        },
        {
          "output_type": "stream",
          "text": [
            "Epoch 1/10\n",
            "40/40 - 1s - loss: 225.9782 - mse: 225.9782 - val_loss: 218.8310 - val_mse: 218.8310\n",
            "Epoch 2/10\n",
            "40/40 - 0s - loss: 215.0546 - mse: 215.0546 - val_loss: 208.5331 - val_mse: 208.5331\n",
            "Epoch 3/10\n",
            "40/40 - 0s - loss: 205.0216 - mse: 205.0216 - val_loss: 199.7534 - val_mse: 199.7534\n",
            "Epoch 4/10\n",
            "40/40 - 0s - loss: 197.8502 - mse: 197.8502 - val_loss: 194.4073 - val_mse: 194.4073\n",
            "Epoch 5/10\n",
            "40/40 - 0s - loss: 193.8351 - mse: 193.8351 - val_loss: 190.0938 - val_mse: 190.0938\n",
            "Epoch 6/10\n",
            "40/40 - 0s - loss: 189.2726 - mse: 189.2726 - val_loss: 188.0705 - val_mse: 188.0705\n",
            "Epoch 7/10\n",
            "40/40 - 0s - loss: 188.2557 - mse: 188.2557 - val_loss: 186.7561 - val_mse: 186.7561\n",
            "Epoch 8/10\n",
            "40/40 - 0s - loss: 186.9078 - mse: 186.9078 - val_loss: 186.6119 - val_mse: 186.6119\n",
            "Epoch 9/10\n",
            "40/40 - 0s - loss: 184.7722 - mse: 184.7722 - val_loss: 186.1435 - val_mse: 186.1435\n",
            "Epoch 10/10\n",
            "40/40 - 0s - loss: 183.7102 - mse: 183.7102 - val_loss: 185.9575 - val_mse: 185.9575\n"
          ],
          "name": "stdout"
        },
        {
          "output_type": "stream",
          "text": [
            "\r 65%|██████▌   | 13/20 [00:24<00:24,  3.53s/it]"
          ],
          "name": "stderr"
        },
        {
          "output_type": "stream",
          "text": [
            "Epoch 1/10\n",
            "40/40 - 1s - loss: 222.8246 - mse: 222.8246 - val_loss: 218.1198 - val_mse: 218.1198\n",
            "Epoch 2/10\n",
            "40/40 - 0s - loss: 209.4390 - mse: 209.4390 - val_loss: 207.8583 - val_mse: 207.8583\n",
            "Epoch 3/10\n",
            "40/40 - 0s - loss: 198.3615 - mse: 198.3615 - val_loss: 202.3044 - val_mse: 202.3044\n",
            "Epoch 4/10\n",
            "40/40 - 0s - loss: 197.4282 - mse: 197.4282 - val_loss: 200.0084 - val_mse: 200.0084\n",
            "Epoch 5/10\n",
            "40/40 - 0s - loss: 192.6642 - mse: 192.6642 - val_loss: 198.6724 - val_mse: 198.6724\n",
            "Epoch 6/10\n",
            "40/40 - 0s - loss: 189.4605 - mse: 189.4605 - val_loss: 197.8423 - val_mse: 197.8423\n",
            "Epoch 7/10\n",
            "40/40 - 0s - loss: 190.6444 - mse: 190.6444 - val_loss: 197.4149 - val_mse: 197.4149\n",
            "Epoch 8/10\n",
            "40/40 - 0s - loss: 189.7503 - mse: 189.7503 - val_loss: 196.9987 - val_mse: 196.9987\n",
            "Epoch 9/10\n",
            "40/40 - 0s - loss: 189.6234 - mse: 189.6234 - val_loss: 196.7622 - val_mse: 196.7622\n",
            "Epoch 10/10\n",
            "40/40 - 0s - loss: 189.9398 - mse: 189.9398 - val_loss: 196.4327 - val_mse: 196.4327\n"
          ],
          "name": "stdout"
        },
        {
          "output_type": "stream",
          "text": [
            "\r 70%|███████   | 14/20 [00:28<00:20,  3.47s/it]"
          ],
          "name": "stderr"
        },
        {
          "output_type": "stream",
          "text": [
            "Epoch 1/10\n",
            "40/40 - 1s - loss: 202.9182 - mse: 202.9182 - val_loss: 189.3196 - val_mse: 189.3196\n",
            "Epoch 2/10\n",
            "40/40 - 1s - loss: 192.7767 - mse: 192.7767 - val_loss: 197.7343 - val_mse: 197.7343\n",
            "Epoch 3/10\n",
            "40/40 - 1s - loss: 189.0938 - mse: 189.0938 - val_loss: 194.0952 - val_mse: 194.0952\n",
            "Epoch 4/10\n",
            "40/40 - 1s - loss: 176.4187 - mse: 176.4187 - val_loss: 189.7949 - val_mse: 189.7949\n",
            "Epoch 5/10\n",
            "40/40 - 1s - loss: 167.7479 - mse: 167.7479 - val_loss: 200.2883 - val_mse: 200.2883\n",
            "Epoch 6/10\n",
            "40/40 - 1s - loss: 165.2094 - mse: 165.2095 - val_loss: 198.6717 - val_mse: 198.6717\n"
          ],
          "name": "stdout"
        },
        {
          "output_type": "stream",
          "text": [
            "\r 75%|███████▌  | 15/20 [00:33<00:19,  3.93s/it]"
          ],
          "name": "stderr"
        },
        {
          "output_type": "stream",
          "text": [
            "Epoch 1/10\n",
            "40/40 - 1s - loss: 226.6761 - mse: 226.6761 - val_loss: 223.4745 - val_mse: 223.4745\n",
            "Epoch 2/10\n",
            "40/40 - 0s - loss: 224.6665 - mse: 224.6665 - val_loss: 221.9507 - val_mse: 221.9507\n",
            "Epoch 3/10\n",
            "40/40 - 0s - loss: 223.6962 - mse: 223.6962 - val_loss: 220.8474 - val_mse: 220.8474\n",
            "Epoch 4/10\n",
            "40/40 - 0s - loss: 222.0461 - mse: 222.0461 - val_loss: 219.9142 - val_mse: 219.9142\n",
            "Epoch 5/10\n",
            "40/40 - 0s - loss: 221.8320 - mse: 221.8320 - val_loss: 219.0966 - val_mse: 219.0967\n",
            "Epoch 6/10\n",
            "40/40 - 0s - loss: 220.4033 - mse: 220.4033 - val_loss: 218.3871 - val_mse: 218.3871\n",
            "Epoch 7/10\n",
            "40/40 - 0s - loss: 219.9818 - mse: 219.9818 - val_loss: 217.7172 - val_mse: 217.7172\n",
            "Epoch 8/10\n",
            "40/40 - 0s - loss: 219.4863 - mse: 219.4864 - val_loss: 217.1055 - val_mse: 217.1055\n",
            "Epoch 9/10\n",
            "40/40 - 0s - loss: 218.9813 - mse: 218.9813 - val_loss: 216.5370 - val_mse: 216.5370\n",
            "Epoch 10/10\n",
            "40/40 - 0s - loss: 217.8816 - mse: 217.8816 - val_loss: 215.9952 - val_mse: 215.9952\n"
          ],
          "name": "stdout"
        },
        {
          "output_type": "stream",
          "text": [
            "\r 80%|████████  | 16/20 [00:35<00:14,  3.57s/it]"
          ],
          "name": "stderr"
        },
        {
          "output_type": "stream",
          "text": [
            "Epoch 1/10\n",
            "40/40 - 2s - loss: 210.5568 - mse: 210.5568 - val_loss: 193.8417 - val_mse: 193.8417\n",
            "Epoch 2/10\n",
            "40/40 - 1s - loss: 193.0223 - mse: 193.0223 - val_loss: 189.7447 - val_mse: 189.7447\n",
            "Epoch 3/10\n",
            "40/40 - 1s - loss: 188.7280 - mse: 188.7280 - val_loss: 187.2695 - val_mse: 187.2695\n",
            "Epoch 4/10\n",
            "40/40 - 1s - loss: 187.9553 - mse: 187.9553 - val_loss: 186.2407 - val_mse: 186.2407\n",
            "Epoch 5/10\n",
            "40/40 - 1s - loss: 186.0861 - mse: 186.0861 - val_loss: 185.8362 - val_mse: 185.8362\n",
            "Epoch 6/10\n",
            "40/40 - 1s - loss: 185.5922 - mse: 185.5922 - val_loss: 185.8690 - val_mse: 185.8691\n",
            "Epoch 7/10\n",
            "40/40 - 1s - loss: 185.9390 - mse: 185.9390 - val_loss: 185.8181 - val_mse: 185.8181\n",
            "Epoch 8/10\n",
            "40/40 - 1s - loss: 182.7059 - mse: 182.7059 - val_loss: 184.9970 - val_mse: 184.9970\n",
            "Epoch 9/10\n",
            "40/40 - 1s - loss: 181.6536 - mse: 181.6536 - val_loss: 184.6082 - val_mse: 184.6082\n",
            "Epoch 10/10\n",
            "40/40 - 1s - loss: 180.1184 - mse: 180.1184 - val_loss: 184.1483 - val_mse: 184.1483\n"
          ],
          "name": "stdout"
        },
        {
          "output_type": "stream",
          "text": [
            "\r 85%|████████▌ | 17/20 [00:43<00:14,  4.74s/it]"
          ],
          "name": "stderr"
        },
        {
          "output_type": "stream",
          "text": [
            "Epoch 1/10\n",
            "40/40 - 1s - loss: 212.7868 - mse: 212.7868 - val_loss: 198.6028 - val_mse: 198.6028\n",
            "Epoch 2/10\n",
            "40/40 - 0s - loss: 195.5837 - mse: 195.5837 - val_loss: 191.6993 - val_mse: 191.6993\n",
            "Epoch 3/10\n",
            "40/40 - 0s - loss: 191.1070 - mse: 191.1070 - val_loss: 189.2975 - val_mse: 189.2975\n",
            "Epoch 4/10\n",
            "40/40 - 0s - loss: 190.9297 - mse: 190.9297 - val_loss: 188.2101 - val_mse: 188.2101\n",
            "Epoch 5/10\n",
            "40/40 - 0s - loss: 188.9807 - mse: 188.9807 - val_loss: 187.5664 - val_mse: 187.5664\n",
            "Epoch 6/10\n",
            "40/40 - 0s - loss: 187.6454 - mse: 187.6454 - val_loss: 187.0386 - val_mse: 187.0386\n",
            "Epoch 7/10\n",
            "40/40 - 0s - loss: 187.4624 - mse: 187.4624 - val_loss: 186.5612 - val_mse: 186.5612\n",
            "Epoch 8/10\n",
            "40/40 - 0s - loss: 187.4618 - mse: 187.4618 - val_loss: 186.1918 - val_mse: 186.1918\n",
            "Epoch 9/10\n",
            "40/40 - 0s - loss: 187.8799 - mse: 187.8799 - val_loss: 185.9672 - val_mse: 185.9672\n",
            "Epoch 10/10\n",
            "40/40 - 0s - loss: 184.9373 - mse: 184.9373 - val_loss: 185.6719 - val_mse: 185.6719\n"
          ],
          "name": "stdout"
        },
        {
          "output_type": "stream",
          "text": [
            "\r 90%|█████████ | 18/20 [00:48<00:09,  4.88s/it]"
          ],
          "name": "stderr"
        },
        {
          "output_type": "stream",
          "text": [
            "Epoch 1/10\n",
            "40/40 - 1s - loss: 209.6353 - mse: 209.6353 - val_loss: 192.2844 - val_mse: 192.2844\n",
            "Epoch 2/10\n",
            "40/40 - 1s - loss: 193.6330 - mse: 193.6330 - val_loss: 189.2463 - val_mse: 189.2463\n",
            "Epoch 3/10\n",
            "40/40 - 1s - loss: 189.3693 - mse: 189.3693 - val_loss: 187.1893 - val_mse: 187.1893\n",
            "Epoch 4/10\n",
            "40/40 - 1s - loss: 189.5422 - mse: 189.5422 - val_loss: 186.7177 - val_mse: 186.7177\n",
            "Epoch 5/10\n",
            "40/40 - 1s - loss: 186.4420 - mse: 186.4420 - val_loss: 185.9602 - val_mse: 185.9602\n",
            "Epoch 6/10\n",
            "40/40 - 1s - loss: 184.4521 - mse: 184.4521 - val_loss: 185.7301 - val_mse: 185.7301\n",
            "Epoch 7/10\n",
            "40/40 - 1s - loss: 182.7985 - mse: 182.7985 - val_loss: 185.3707 - val_mse: 185.3707\n",
            "Epoch 8/10\n",
            "40/40 - 1s - loss: 182.1577 - mse: 182.1577 - val_loss: 184.9302 - val_mse: 184.9303\n",
            "Epoch 9/10\n",
            "40/40 - 1s - loss: 183.4991 - mse: 183.4991 - val_loss: 184.8352 - val_mse: 184.8352\n",
            "Epoch 10/10\n",
            "40/40 - 1s - loss: 181.5646 - mse: 181.5646 - val_loss: 184.9156 - val_mse: 184.9156\n"
          ],
          "name": "stdout"
        },
        {
          "output_type": "stream",
          "text": [
            "\r 95%|█████████▌| 19/20 [00:55<00:05,  5.62s/it]"
          ],
          "name": "stderr"
        },
        {
          "output_type": "stream",
          "text": [
            "Epoch 1/10\n",
            "40/40 - 1s - loss: 210.3777 - mse: 210.3777 - val_loss: 189.1773 - val_mse: 189.1773\n",
            "Epoch 2/10\n",
            "40/40 - 1s - loss: 193.9296 - mse: 193.9296 - val_loss: 186.6639 - val_mse: 186.6639\n",
            "Epoch 3/10\n",
            "40/40 - 1s - loss: 190.2401 - mse: 190.2401 - val_loss: 185.6870 - val_mse: 185.6870\n",
            "Epoch 4/10\n",
            "40/40 - 1s - loss: 188.3608 - mse: 188.3608 - val_loss: 185.8000 - val_mse: 185.8000\n",
            "Epoch 5/10\n",
            "40/40 - 1s - loss: 187.5664 - mse: 187.5664 - val_loss: 184.7629 - val_mse: 184.7629\n",
            "Epoch 6/10\n",
            "40/40 - 1s - loss: 186.4827 - mse: 186.4827 - val_loss: 184.9663 - val_mse: 184.9663\n",
            "Epoch 7/10\n",
            "40/40 - 1s - loss: 185.8062 - mse: 185.8062 - val_loss: 183.6961 - val_mse: 183.6961\n",
            "Epoch 8/10\n",
            "40/40 - 1s - loss: 185.3578 - mse: 185.3578 - val_loss: 183.7938 - val_mse: 183.7938\n",
            "Epoch 9/10\n",
            "40/40 - 1s - loss: 184.4277 - mse: 184.4277 - val_loss: 183.3200 - val_mse: 183.3200\n",
            "Epoch 10/10\n",
            "40/40 - 1s - loss: 182.9510 - mse: 182.9510 - val_loss: 183.4530 - val_mse: 183.4530\n"
          ],
          "name": "stdout"
        },
        {
          "output_type": "stream",
          "text": [
            "100%|██████████| 20/20 [01:03<00:00,  3.15s/it]\n",
            "  0%|          | 0/20 [00:00<?, ?it/s]"
          ],
          "name": "stderr"
        },
        {
          "output_type": "stream",
          "text": [
            "Epoch 1/10\n",
            "40/40 - 1s - loss: 205.4229 - mse: 205.4229 - val_loss: 193.2914 - val_mse: 193.2914\n",
            "Epoch 2/10\n",
            "40/40 - 1s - loss: 193.1781 - mse: 193.1781 - val_loss: 184.8638 - val_mse: 184.8638\n",
            "Epoch 3/10\n",
            "40/40 - 1s - loss: 187.3307 - mse: 187.3307 - val_loss: 187.2442 - val_mse: 187.2442\n",
            "Epoch 4/10\n",
            "40/40 - 1s - loss: 179.2215 - mse: 179.2215 - val_loss: 184.5210 - val_mse: 184.5210\n",
            "Epoch 5/10\n",
            "40/40 - 1s - loss: 172.3405 - mse: 172.3405 - val_loss: 204.2343 - val_mse: 204.2343\n",
            "Epoch 6/10\n",
            "40/40 - 1s - loss: 175.3814 - mse: 175.3814 - val_loss: 190.9053 - val_mse: 190.9053\n",
            "Epoch 7/10\n",
            "40/40 - 1s - loss: 158.5737 - mse: 158.5737 - val_loss: 206.0403 - val_mse: 206.0403\n",
            "Epoch 8/10\n",
            "40/40 - 1s - loss: 155.5589 - mse: 155.5589 - val_loss: 197.2784 - val_mse: 197.2784\n",
            "Epoch 9/10\n",
            "40/40 - 1s - loss: 126.3398 - mse: 126.3398 - val_loss: 196.3637 - val_mse: 196.3637\n"
          ],
          "name": "stdout"
        },
        {
          "output_type": "stream",
          "text": [
            "\r 55%|█████▌    | 11/20 [00:07<00:05,  1.53it/s]"
          ],
          "name": "stderr"
        },
        {
          "output_type": "stream",
          "text": [
            "Epoch 1/10\n",
            "40/40 - 1s - loss: 220.4189 - mse: 220.4189 - val_loss: 206.8925 - val_mse: 206.8925\n",
            "Epoch 2/10\n",
            "40/40 - 0s - loss: 202.7824 - mse: 202.7824 - val_loss: 193.4417 - val_mse: 193.4417\n",
            "Epoch 3/10\n",
            "40/40 - 0s - loss: 193.0583 - mse: 193.0583 - val_loss: 187.5990 - val_mse: 187.5990\n",
            "Epoch 4/10\n",
            "40/40 - 0s - loss: 189.5788 - mse: 189.5788 - val_loss: 186.9485 - val_mse: 186.9485\n",
            "Epoch 5/10\n",
            "40/40 - 0s - loss: 186.9505 - mse: 186.9505 - val_loss: 185.7195 - val_mse: 185.7195\n",
            "Epoch 6/10\n",
            "40/40 - 0s - loss: 185.0796 - mse: 185.0796 - val_loss: 184.8425 - val_mse: 184.8425\n",
            "Epoch 7/10\n",
            "40/40 - 0s - loss: 183.0493 - mse: 183.0493 - val_loss: 185.9412 - val_mse: 185.9412\n",
            "Epoch 8/10\n",
            "40/40 - 0s - loss: 182.0211 - mse: 182.0211 - val_loss: 186.7681 - val_mse: 186.7681\n",
            "Epoch 9/10\n",
            "40/40 - 0s - loss: 179.8772 - mse: 179.8772 - val_loss: 185.3191 - val_mse: 185.3191\n",
            "Epoch 10/10\n",
            "40/40 - 0s - loss: 179.6199 - mse: 179.6199 - val_loss: 185.6942 - val_mse: 185.6942\n"
          ],
          "name": "stdout"
        },
        {
          "output_type": "stream",
          "text": [
            "\r 60%|██████    | 12/20 [00:10<00:10,  1.32s/it]"
          ],
          "name": "stderr"
        },
        {
          "output_type": "stream",
          "text": [
            "Epoch 1/10\n",
            "40/40 - 1s - loss: 207.3863 - mse: 207.3863 - val_loss: 190.4813 - val_mse: 190.4813\n",
            "Epoch 2/10\n",
            "40/40 - 1s - loss: 193.9748 - mse: 193.9748 - val_loss: 186.8942 - val_mse: 186.8942\n",
            "Epoch 3/10\n",
            "40/40 - 1s - loss: 189.4620 - mse: 189.4620 - val_loss: 188.0462 - val_mse: 188.0462\n",
            "Epoch 4/10\n",
            "40/40 - 1s - loss: 189.9822 - mse: 189.9822 - val_loss: 189.2222 - val_mse: 189.2222\n",
            "Epoch 5/10\n",
            "40/40 - 1s - loss: 187.7799 - mse: 187.7799 - val_loss: 188.0558 - val_mse: 188.0558\n",
            "Epoch 6/10\n",
            "40/40 - 1s - loss: 187.7672 - mse: 187.7672 - val_loss: 191.2656 - val_mse: 191.2656\n",
            "Epoch 7/10\n",
            "40/40 - 1s - loss: 186.2840 - mse: 186.2840 - val_loss: 190.0916 - val_mse: 190.0916\n"
          ],
          "name": "stdout"
        },
        {
          "output_type": "stream",
          "text": [
            "\r 65%|██████▌   | 13/20 [00:15<00:17,  2.56s/it]"
          ],
          "name": "stderr"
        },
        {
          "output_type": "stream",
          "text": [
            "Epoch 1/10\n",
            "40/40 - 1s - loss: 211.2241 - mse: 211.2241 - val_loss: 195.0922 - val_mse: 195.0922\n",
            "Epoch 2/10\n",
            "40/40 - 1s - loss: 195.1647 - mse: 195.1647 - val_loss: 192.1599 - val_mse: 192.1599\n",
            "Epoch 3/10\n",
            "40/40 - 1s - loss: 188.6529 - mse: 188.6529 - val_loss: 189.4168 - val_mse: 189.4168\n",
            "Epoch 4/10\n",
            "40/40 - 1s - loss: 187.9999 - mse: 187.9999 - val_loss: 188.3208 - val_mse: 188.3208\n",
            "Epoch 5/10\n",
            "40/40 - 1s - loss: 186.6311 - mse: 186.6311 - val_loss: 187.8014 - val_mse: 187.8014\n",
            "Epoch 6/10\n",
            "40/40 - 1s - loss: 186.3763 - mse: 186.3763 - val_loss: 187.3372 - val_mse: 187.3372\n",
            "Epoch 7/10\n",
            "40/40 - 1s - loss: 186.1529 - mse: 186.1529 - val_loss: 187.3661 - val_mse: 187.3661\n",
            "Epoch 8/10\n",
            "40/40 - 1s - loss: 184.9936 - mse: 184.9936 - val_loss: 186.9426 - val_mse: 186.9426\n",
            "Epoch 9/10\n",
            "40/40 - 1s - loss: 184.5504 - mse: 184.5504 - val_loss: 186.6547 - val_mse: 186.6547\n",
            "Epoch 10/10\n",
            "40/40 - 1s - loss: 182.0355 - mse: 182.0355 - val_loss: 186.4458 - val_mse: 186.4458\n"
          ],
          "name": "stdout"
        },
        {
          "output_type": "stream",
          "text": [
            "\r 70%|███████   | 14/20 [00:22<00:23,  3.95s/it]"
          ],
          "name": "stderr"
        },
        {
          "output_type": "stream",
          "text": [
            "Epoch 1/10\n",
            "40/40 - 1s - loss: 210.6154 - mse: 210.6154 - val_loss: 193.0866 - val_mse: 193.0866\n",
            "Epoch 2/10\n",
            "40/40 - 1s - loss: 194.5148 - mse: 194.5148 - val_loss: 189.8860 - val_mse: 189.8860\n",
            "Epoch 3/10\n",
            "40/40 - 1s - loss: 190.5778 - mse: 190.5778 - val_loss: 188.0965 - val_mse: 188.0965\n",
            "Epoch 4/10\n",
            "40/40 - 1s - loss: 189.1033 - mse: 189.1033 - val_loss: 187.1376 - val_mse: 187.1376\n",
            "Epoch 5/10\n",
            "40/40 - 1s - loss: 189.0176 - mse: 189.0176 - val_loss: 186.1595 - val_mse: 186.1595\n",
            "Epoch 6/10\n",
            "40/40 - 1s - loss: 187.7873 - mse: 187.7873 - val_loss: 185.5040 - val_mse: 185.5040\n",
            "Epoch 7/10\n",
            "40/40 - 1s - loss: 183.7766 - mse: 183.7766 - val_loss: 185.3943 - val_mse: 185.3943\n",
            "Epoch 8/10\n",
            "40/40 - 1s - loss: 184.7218 - mse: 184.7218 - val_loss: 185.4229 - val_mse: 185.4229\n",
            "Epoch 9/10\n",
            "40/40 - 1s - loss: 185.8567 - mse: 185.8567 - val_loss: 184.5575 - val_mse: 184.5575\n",
            "Epoch 10/10\n",
            "40/40 - 1s - loss: 182.6015 - mse: 182.6015 - val_loss: 184.2515 - val_mse: 184.2515\n"
          ],
          "name": "stdout"
        },
        {
          "output_type": "stream",
          "text": [
            "\r 75%|███████▌  | 15/20 [00:29<00:24,  4.89s/it]"
          ],
          "name": "stderr"
        },
        {
          "output_type": "stream",
          "text": [
            "Epoch 1/10\n",
            "40/40 - 1s - loss: 212.8776 - mse: 212.8776 - val_loss: 196.3568 - val_mse: 196.3568\n",
            "Epoch 2/10\n",
            "40/40 - 1s - loss: 192.1338 - mse: 192.1338 - val_loss: 191.6913 - val_mse: 191.6913\n",
            "Epoch 3/10\n",
            "40/40 - 1s - loss: 189.9301 - mse: 189.9301 - val_loss: 188.5434 - val_mse: 188.5434\n",
            "Epoch 4/10\n",
            "40/40 - 1s - loss: 188.3883 - mse: 188.3883 - val_loss: 187.2875 - val_mse: 187.2875\n",
            "Epoch 5/10\n",
            "40/40 - 1s - loss: 186.8300 - mse: 186.8300 - val_loss: 186.1374 - val_mse: 186.1374\n",
            "Epoch 6/10\n",
            "40/40 - 1s - loss: 184.7497 - mse: 184.7497 - val_loss: 185.4894 - val_mse: 185.4894\n",
            "Epoch 7/10\n",
            "40/40 - 1s - loss: 185.6040 - mse: 185.6040 - val_loss: 185.2151 - val_mse: 185.2151\n",
            "Epoch 8/10\n",
            "40/40 - 1s - loss: 184.2572 - mse: 184.2572 - val_loss: 184.8171 - val_mse: 184.8171\n",
            "Epoch 9/10\n",
            "40/40 - 1s - loss: 183.4220 - mse: 183.4220 - val_loss: 184.6437 - val_mse: 184.6437\n",
            "Epoch 10/10\n",
            "40/40 - 1s - loss: 184.8806 - mse: 184.8806 - val_loss: 184.7520 - val_mse: 184.7520\n"
          ],
          "name": "stdout"
        },
        {
          "output_type": "stream",
          "text": [
            "\r 80%|████████  | 16/20 [00:36<00:21,  5.47s/it]"
          ],
          "name": "stderr"
        },
        {
          "output_type": "stream",
          "text": [
            "Epoch 1/10\n",
            "40/40 - 1s - loss: 207.8608 - mse: 207.8608 - val_loss: 190.3929 - val_mse: 190.3929\n",
            "Epoch 2/10\n",
            "40/40 - 1s - loss: 192.4487 - mse: 192.4487 - val_loss: 188.7703 - val_mse: 188.7703\n",
            "Epoch 3/10\n",
            "40/40 - 1s - loss: 190.9844 - mse: 190.9844 - val_loss: 187.3013 - val_mse: 187.3013\n",
            "Epoch 4/10\n",
            "40/40 - 1s - loss: 186.8520 - mse: 186.8520 - val_loss: 186.8068 - val_mse: 186.8068\n",
            "Epoch 5/10\n",
            "40/40 - 1s - loss: 186.6735 - mse: 186.6735 - val_loss: 185.6590 - val_mse: 185.6590\n",
            "Epoch 6/10\n",
            "40/40 - 1s - loss: 186.4913 - mse: 186.4913 - val_loss: 184.6541 - val_mse: 184.6541\n",
            "Epoch 7/10\n",
            "40/40 - 1s - loss: 182.9790 - mse: 182.9790 - val_loss: 184.1520 - val_mse: 184.1520\n",
            "Epoch 8/10\n",
            "40/40 - 1s - loss: 183.4450 - mse: 183.4450 - val_loss: 184.2153 - val_mse: 184.2153\n",
            "Epoch 9/10\n",
            "40/40 - 1s - loss: 181.2924 - mse: 181.2924 - val_loss: 184.0213 - val_mse: 184.0213\n",
            "Epoch 10/10\n",
            "40/40 - 1s - loss: 182.5574 - mse: 182.5574 - val_loss: 183.9167 - val_mse: 183.9167\n"
          ],
          "name": "stdout"
        },
        {
          "output_type": "stream",
          "text": [
            "\r 85%|████████▌ | 17/20 [00:43<00:17,  5.85s/it]"
          ],
          "name": "stderr"
        },
        {
          "output_type": "stream",
          "text": [
            "Epoch 1/10\n",
            "40/40 - 1s - loss: 230.5869 - mse: 230.5869 - val_loss: 227.6505 - val_mse: 227.6505\n",
            "Epoch 2/10\n",
            "40/40 - 0s - loss: 227.3743 - mse: 227.3743 - val_loss: 226.1216 - val_mse: 226.1216\n",
            "Epoch 3/10\n",
            "40/40 - 0s - loss: 226.2696 - mse: 226.2696 - val_loss: 224.9880 - val_mse: 224.9880\n",
            "Epoch 4/10\n",
            "40/40 - 0s - loss: 226.1412 - mse: 226.1412 - val_loss: 224.0610 - val_mse: 224.0610\n",
            "Epoch 5/10\n",
            "40/40 - 0s - loss: 224.4400 - mse: 224.4400 - val_loss: 223.2525 - val_mse: 223.2525\n",
            "Epoch 6/10\n",
            "40/40 - 0s - loss: 224.0749 - mse: 224.0749 - val_loss: 222.5376 - val_mse: 222.5376\n",
            "Epoch 7/10\n",
            "40/40 - 0s - loss: 223.2161 - mse: 223.2161 - val_loss: 221.8811 - val_mse: 221.8811\n",
            "Epoch 8/10\n",
            "40/40 - 0s - loss: 222.5231 - mse: 222.5231 - val_loss: 221.2770 - val_mse: 221.2770\n",
            "Epoch 9/10\n",
            "40/40 - 0s - loss: 221.8055 - mse: 221.8055 - val_loss: 220.6986 - val_mse: 220.6986\n",
            "Epoch 10/10\n",
            "40/40 - 0s - loss: 221.3206 - mse: 221.3206 - val_loss: 220.1642 - val_mse: 220.1642\n"
          ],
          "name": "stdout"
        },
        {
          "output_type": "stream",
          "text": [
            "\r 90%|█████████ | 18/20 [00:46<00:09,  4.93s/it]"
          ],
          "name": "stderr"
        },
        {
          "output_type": "stream",
          "text": [
            "Epoch 1/10\n",
            "40/40 - 1s - loss: 210.9317 - mse: 210.9317 - val_loss: 192.5778 - val_mse: 192.5778\n",
            "Epoch 2/10\n",
            "40/40 - 1s - loss: 194.0020 - mse: 194.0020 - val_loss: 187.4508 - val_mse: 187.4508\n",
            "Epoch 3/10\n",
            "40/40 - 1s - loss: 192.0661 - mse: 192.0661 - val_loss: 186.6944 - val_mse: 186.6944\n",
            "Epoch 4/10\n",
            "40/40 - 1s - loss: 189.3444 - mse: 189.3444 - val_loss: 185.7805 - val_mse: 185.7805\n",
            "Epoch 5/10\n",
            "40/40 - 1s - loss: 187.9284 - mse: 187.9284 - val_loss: 184.2729 - val_mse: 184.2729\n",
            "Epoch 6/10\n",
            "40/40 - 1s - loss: 186.2938 - mse: 186.2938 - val_loss: 183.9298 - val_mse: 183.9298\n",
            "Epoch 7/10\n",
            "40/40 - 1s - loss: 184.7134 - mse: 184.7134 - val_loss: 183.3368 - val_mse: 183.3368\n",
            "Epoch 8/10\n",
            "40/40 - 1s - loss: 184.6870 - mse: 184.6870 - val_loss: 183.1835 - val_mse: 183.1835\n",
            "Epoch 9/10\n",
            "40/40 - 1s - loss: 183.6463 - mse: 183.6463 - val_loss: 182.8451 - val_mse: 182.8451\n",
            "Epoch 10/10\n",
            "40/40 - 1s - loss: 181.3538 - mse: 181.3538 - val_loss: 182.7766 - val_mse: 182.7766\n"
          ],
          "name": "stdout"
        },
        {
          "output_type": "stream",
          "text": [
            "\r 95%|█████████▌| 19/20 [00:53<00:05,  5.80s/it]"
          ],
          "name": "stderr"
        },
        {
          "output_type": "stream",
          "text": [
            "Epoch 1/10\n",
            "40/40 - 1s - loss: 213.7794 - mse: 213.7794 - val_loss: 197.3398 - val_mse: 197.3398\n",
            "Epoch 2/10\n",
            "40/40 - 1s - loss: 194.4586 - mse: 194.4586 - val_loss: 190.8976 - val_mse: 190.8976\n",
            "Epoch 3/10\n",
            "40/40 - 1s - loss: 192.0787 - mse: 192.0787 - val_loss: 189.6678 - val_mse: 189.6678\n",
            "Epoch 4/10\n",
            "40/40 - 1s - loss: 188.3087 - mse: 188.3087 - val_loss: 188.5193 - val_mse: 188.5193\n",
            "Epoch 5/10\n",
            "40/40 - 1s - loss: 185.6074 - mse: 185.6074 - val_loss: 188.2445 - val_mse: 188.2445\n",
            "Epoch 6/10\n",
            "40/40 - 1s - loss: 187.0811 - mse: 187.0811 - val_loss: 187.8506 - val_mse: 187.8506\n",
            "Epoch 7/10\n",
            "40/40 - 1s - loss: 186.6808 - mse: 186.6808 - val_loss: 187.2505 - val_mse: 187.2505\n",
            "Epoch 8/10\n",
            "40/40 - 1s - loss: 184.7225 - mse: 184.7225 - val_loss: 187.5186 - val_mse: 187.5186\n",
            "Epoch 9/10\n",
            "40/40 - 1s - loss: 182.1424 - mse: 182.1424 - val_loss: 187.6709 - val_mse: 187.6709\n",
            "Epoch 10/10\n",
            "40/40 - 1s - loss: 181.9192 - mse: 181.9192 - val_loss: 187.5496 - val_mse: 187.5496\n"
          ],
          "name": "stdout"
        },
        {
          "output_type": "stream",
          "text": [
            "100%|██████████| 20/20 [01:01<00:00,  3.08s/it]\n"
          ],
          "name": "stderr"
        }
      ]
    },
    {
      "cell_type": "code",
      "metadata": {
        "id": "2q-gaa9R_SCK"
      },
      "source": [
        "rec_gen=[]\n",
        "for i in range(tol_max):\n",
        "    rec_gen.append(rec(area_predictions_xgb,y_test,i))"
      ],
      "execution_count": null,
      "outputs": []
    },
    {
      "cell_type": "code",
      "metadata": {
        "id": "ydJ4gnOR-e3R"
      },
      "source": [
        "# Define the max tolerance limit for REC curve x-axis\n",
        "# For this problem this represents the absolute value of error in the prediction of the outcome i.e. area burned\n",
        "tol_max=20\n",
        "def rec(m,n,tol):\n",
        "    if type(m)!='numpy.ndarray':\n",
        "        m=np.array(m)\n",
        "    if type(n)!='numpy.ndarray':\n",
        "        n=np.array(n)\n",
        "    l=m.size\n",
        "    percent = 0\n",
        "    for i in range(l):\n",
        "        if np.abs(10**m[i]-10**n[i])<=tol:\n",
        "            percent+=1\n",
        "    return 100*(percent/l)"
      ],
      "execution_count": 9,
      "outputs": []
    },
    {
      "cell_type": "code",
      "metadata": {
        "id": "ESSpZ4WX_Awf"
      },
      "source": [
        "plt.figure(figsize=(10,8))\n",
        "plt.title(\"REC curve for various models\\n\",fontsize=20)\n",
        "plt.xlabel(\"Absolute error (tolerance) in prediction ($ha$)\",fontsize=15)\n",
        "plt.ylabel(\"Percentage of correct prediction\",fontsize=15)\n",
        "plt.xticks([i for i in range(0,tol_max+1,1)],fontsize=13)\n",
        "plt.ylim(-10,100)\n",
        "plt.xlim(-2,tol_max)\n",
        "plt.yticks([i*20 for i in range(6)],fontsize=18)\n",
        "plt.grid(True)\n",
        "# plt.plot(range(tol_max),rec_XGB ,'--',lw=3)\n",
        "plt.plot(range(tol_max),rec_gen,'k-',lw=3)\n",
        "plt.legend(['SVR','XGB'],fontsize=13)"
      ],
      "execution_count": null,
      "outputs": []
    }
  ]
}