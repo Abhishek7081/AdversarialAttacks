{
  "nbformat": 4,
  "nbformat_minor": 0,
  "metadata": {
    "colab": {
      "name": "Variation.ipynb",
      "provenance": [],
      "collapsed_sections": [],
      "authorship_tag": "ABX9TyNRGhkCHLJ8PQSGd+Q2f30K",
      "include_colab_link": true
    },
    "kernelspec": {
      "name": "python3",
      "display_name": "Python 3"
    },
    "language_info": {
      "name": "python"
    },
    "accelerator": "GPU"
  },
  "cells": [
    {
      "cell_type": "markdown",
      "metadata": {
        "id": "view-in-github",
        "colab_type": "text"
      },
      "source": [
        "<a href=\"https://colab.research.google.com/github/Abhishek7081/AdversarialAttacks/blob/master/Variation.ipynb\" target=\"_parent\"><img src=\"https://colab.research.google.com/assets/colab-badge.svg\" alt=\"Open In Colab\"/></a>"
      ]
    },
    {
      "cell_type": "code",
      "metadata": {
        "id": "OjjzVML7R29G"
      },
      "source": [
        "#support python 2&3\n",
        "from __future__ import division, print_function, unicode_literals\n",
        "\n",
        "#common imports\n",
        "import os\n",
        "import numpy as np\n",
        "import pandas as pd\n",
        "import matplotlib\n",
        "import matplotlib.pyplot as plt\n",
        "import seaborn as sns\n",
        "\n",
        "# For pipeline\n",
        "from sklearn.impute import SimpleImputer\n",
        "from sklearn.preprocessing import OneHotEncoder, StandardScaler\n",
        "from sklearn.pipeline import Pipeline\n",
        "from sklearn.compose import ColumnTransformer\n",
        "\n",
        "from sklearn.model_selection import StratifiedShuffleSplit\n",
        "from sklearn.metrics import mean_squared_error\n",
        "from sklearn.linear_model import LinearRegression\n",
        "from sklearn.tree import DecisionTreeRegressor\n",
        "from sklearn.ensemble import RandomForestRegressor\n",
        "from sklearn.svm import SVR\n",
        "from xgboost import XGBRegressor\n",
        "from sklearn.model_selection import GridSearchCV\n",
        "from sklearn.model_selection import train_test_split\n",
        "\n",
        "#make notebook's output stable across runs\n",
        "np.random.seed(42)\n",
        "\n",
        "#Pretty Figures\n",
        "%matplotlib inline\n",
        "plt.rcParams['axes.labelsize'] = 14\n",
        "plt.rcParams['xtick.labelsize'] = 12\n",
        "plt.rcParams['ytick.labelsize'] = 12\n",
        "\n",
        "#Ignore useless warnings\n",
        "import warnings\n",
        "warnings.filterwarnings(action='ignore',message='^internal gelsd')\n",
        "pd.options.mode.chained_assignment = None\n"
      ],
      "execution_count": 1,
      "outputs": []
    },
    {
      "cell_type": "code",
      "metadata": {
        "colab": {
          "base_uri": "https://localhost:8080/",
          "height": 195
        },
        "id": "-aaY3lFtSS0s",
        "outputId": "6b12a9e5-2c9e-4add-8540-9157da2051c3"
      },
      "source": [
        "# function to load data\n",
        "fire = pd.read_csv(\"forestfires.csv\")\n",
        "fire.head()"
      ],
      "execution_count": null,
      "outputs": [
        {
          "output_type": "execute_result",
          "data": {
            "text/html": [
              "<div>\n",
              "<style scoped>\n",
              "    .dataframe tbody tr th:only-of-type {\n",
              "        vertical-align: middle;\n",
              "    }\n",
              "\n",
              "    .dataframe tbody tr th {\n",
              "        vertical-align: top;\n",
              "    }\n",
              "\n",
              "    .dataframe thead th {\n",
              "        text-align: right;\n",
              "    }\n",
              "</style>\n",
              "<table border=\"1\" class=\"dataframe\">\n",
              "  <thead>\n",
              "    <tr style=\"text-align: right;\">\n",
              "      <th></th>\n",
              "      <th>X</th>\n",
              "      <th>Y</th>\n",
              "      <th>month</th>\n",
              "      <th>day</th>\n",
              "      <th>FFMC</th>\n",
              "      <th>DMC</th>\n",
              "      <th>DC</th>\n",
              "      <th>ISI</th>\n",
              "      <th>temp</th>\n",
              "      <th>RH</th>\n",
              "      <th>wind</th>\n",
              "      <th>rain</th>\n",
              "      <th>area</th>\n",
              "    </tr>\n",
              "  </thead>\n",
              "  <tbody>\n",
              "    <tr>\n",
              "      <th>0</th>\n",
              "      <td>7</td>\n",
              "      <td>5</td>\n",
              "      <td>mar</td>\n",
              "      <td>fri</td>\n",
              "      <td>86.2</td>\n",
              "      <td>26.2</td>\n",
              "      <td>94.3</td>\n",
              "      <td>5.1</td>\n",
              "      <td>8.2</td>\n",
              "      <td>51</td>\n",
              "      <td>6.7</td>\n",
              "      <td>0.0</td>\n",
              "      <td>0.0</td>\n",
              "    </tr>\n",
              "    <tr>\n",
              "      <th>1</th>\n",
              "      <td>7</td>\n",
              "      <td>4</td>\n",
              "      <td>oct</td>\n",
              "      <td>tue</td>\n",
              "      <td>90.6</td>\n",
              "      <td>35.4</td>\n",
              "      <td>669.1</td>\n",
              "      <td>6.7</td>\n",
              "      <td>18.0</td>\n",
              "      <td>33</td>\n",
              "      <td>0.9</td>\n",
              "      <td>0.0</td>\n",
              "      <td>0.0</td>\n",
              "    </tr>\n",
              "    <tr>\n",
              "      <th>2</th>\n",
              "      <td>7</td>\n",
              "      <td>4</td>\n",
              "      <td>oct</td>\n",
              "      <td>sat</td>\n",
              "      <td>90.6</td>\n",
              "      <td>43.7</td>\n",
              "      <td>686.9</td>\n",
              "      <td>6.7</td>\n",
              "      <td>14.6</td>\n",
              "      <td>33</td>\n",
              "      <td>1.3</td>\n",
              "      <td>0.0</td>\n",
              "      <td>0.0</td>\n",
              "    </tr>\n",
              "    <tr>\n",
              "      <th>3</th>\n",
              "      <td>8</td>\n",
              "      <td>6</td>\n",
              "      <td>mar</td>\n",
              "      <td>fri</td>\n",
              "      <td>91.7</td>\n",
              "      <td>33.3</td>\n",
              "      <td>77.5</td>\n",
              "      <td>9.0</td>\n",
              "      <td>8.3</td>\n",
              "      <td>97</td>\n",
              "      <td>4.0</td>\n",
              "      <td>0.2</td>\n",
              "      <td>0.0</td>\n",
              "    </tr>\n",
              "    <tr>\n",
              "      <th>4</th>\n",
              "      <td>8</td>\n",
              "      <td>6</td>\n",
              "      <td>mar</td>\n",
              "      <td>sun</td>\n",
              "      <td>89.3</td>\n",
              "      <td>51.3</td>\n",
              "      <td>102.2</td>\n",
              "      <td>9.6</td>\n",
              "      <td>11.4</td>\n",
              "      <td>99</td>\n",
              "      <td>1.8</td>\n",
              "      <td>0.0</td>\n",
              "      <td>0.0</td>\n",
              "    </tr>\n",
              "  </tbody>\n",
              "</table>\n",
              "</div>"
            ],
            "text/plain": [
              "   X  Y month  day  FFMC   DMC     DC  ISI  temp  RH  wind  rain  area\n",
              "0  7  5   mar  fri  86.2  26.2   94.3  5.1   8.2  51   6.7   0.0   0.0\n",
              "1  7  4   oct  tue  90.6  35.4  669.1  6.7  18.0  33   0.9   0.0   0.0\n",
              "2  7  4   oct  sat  90.6  43.7  686.9  6.7  14.6  33   1.3   0.0   0.0\n",
              "3  8  6   mar  fri  91.7  33.3   77.5  9.0   8.3  97   4.0   0.2   0.0\n",
              "4  8  6   mar  sun  89.3  51.3  102.2  9.6  11.4  99   1.8   0.0   0.0"
            ]
          },
          "metadata": {
            "tags": []
          },
          "execution_count": 2
        }
      ]
    },
    {
      "cell_type": "code",
      "metadata": {
        "colab": {
          "base_uri": "https://localhost:8080/"
        },
        "id": "D7kmenxLSsAH",
        "outputId": "ed3f2d18-d94f-4764-bb5c-9f6f047e2afb"
      },
      "source": [
        "#Here we face an uniqe issue where a few months have only 1 or 2 data points. I chose to get rid of these so that the glm models\n",
        "#can handle the tests properly. Let me know how you would have hanlded.\n",
        "print('months', fire.month.value_counts(), sep='\\n')\n",
        "print('\\n')\n",
        "print('days', fire.day.value_counts(), sep='\\n')"
      ],
      "execution_count": null,
      "outputs": [
        {
          "output_type": "stream",
          "text": [
            "months\n",
            "aug    184\n",
            "sep    172\n",
            "mar     54\n",
            "jul     32\n",
            "feb     20\n",
            "jun     17\n",
            "oct     15\n",
            "dec      9\n",
            "apr      9\n",
            "jan      2\n",
            "may      2\n",
            "nov      1\n",
            "Name: month, dtype: int64\n",
            "\n",
            "\n",
            "days\n",
            "sun    95\n",
            "fri    85\n",
            "sat    84\n",
            "mon    74\n",
            "tue    64\n",
            "thu    61\n",
            "wed    54\n",
            "Name: day, dtype: int64\n"
          ],
          "name": "stdout"
        }
      ]
    },
    {
      "cell_type": "code",
      "metadata": {
        "colab": {
          "base_uri": "https://localhost:8080/"
        },
        "id": "jav6T5mpSun3",
        "outputId": "6a791ec3-6e21-4787-9368-54c415577cbb"
      },
      "source": [
        "months_to_remove = ['nov','jan','may']\n",
        "forest_fire = fire.drop(fire[fire.month.isin(months_to_remove)].index ,axis=0)\n",
        "forest_fire.month.value_counts()"
      ],
      "execution_count": null,
      "outputs": [
        {
          "output_type": "execute_result",
          "data": {
            "text/plain": [
              "aug    184\n",
              "sep    172\n",
              "mar     54\n",
              "jul     32\n",
              "feb     20\n",
              "jun     17\n",
              "oct     15\n",
              "dec      9\n",
              "apr      9\n",
              "Name: month, dtype: int64"
            ]
          },
          "metadata": {
            "tags": []
          },
          "execution_count": 4
        }
      ]
    },
    {
      "cell_type": "code",
      "metadata": {
        "colab": {
          "base_uri": "https://localhost:8080/",
          "height": 610
        },
        "id": "yIpgOXoaSwom",
        "outputId": "02c8c2b9-2908-4600-f37a-166cb0ced02e"
      },
      "source": [
        "#visualizing distributions \n",
        "forest_fire.hist(bins=50, figsize=(15,10), ec='w')\n",
        "plt.show()\n",
        "#target-area-is heavily skewed, we have extreme outliers."
      ],
      "execution_count": null,
      "outputs": [
        {
          "output_type": "display_data",
          "data": {
            "image/png": "[encoded data removed]",
            "text/plain": [
              "<Figure size 1080x720 with 12 Axes>"
            ]
          },
          "metadata": {
            "tags": [],
            "needs_background": "light"
          }
        }
      ]
    },
    {
      "cell_type": "code",
      "metadata": {
        "colab": {
          "base_uri": "https://localhost:8080/",
          "height": 302
        },
        "id": "EOrfAFMPSz-9",
        "outputId": "17fdd5ea-a32e-4f02-b170-aa3bbc2e1b39"
      },
      "source": [
        "plt.hist(forest_fire.area, ec='w', bins=100, color='red')\n",
        "plt.title(\"Area histogram\")\n",
        "plt.xlabel(\"Total burned area ( in hectares )\")\n",
        "plt.ylabel(\"Frequency\")\n",
        "plt.show()\n",
        "# plt.text(800,100, 'max: '+str(forest_fire.area.max()), color='black', fontsize=14)\n",
        "#Burnt area attribute ranges from 0 to 1091."
      ],
      "execution_count": null,
      "outputs": [
        {
          "output_type": "display_data",
          "data": {
            "image/png": "[encoded data removed]",
            "text/plain": [
              "<Figure size 432x288 with 1 Axes>"
            ]
          },
          "metadata": {
            "tags": [],
            "needs_background": "light"
          }
        }
      ]
    },
    {
      "cell_type": "code",
      "metadata": {
        "colab": {
          "base_uri": "https://localhost:8080/"
        },
        "id": "hMKdMD5AS3ZT",
        "outputId": "40488fc8-8131-4238-d813-e9256e733863"
      },
      "source": [
        "#Grouping the the burnt area to get a better understanding\n",
        "forest_fire['area_cat'] = pd.cut(forest_fire['area'], bins=[0,5, 10, 50, 100, 1100], include_lowest=True, \n",
        "                                 labels=['0-5', '5-10', '10-50', '50-100', '>100'])\n",
        "forest_fire.area_cat.value_counts()"
      ],
      "execution_count": null,
      "outputs": [
        {
          "output_type": "execute_result",
          "data": {
            "text/plain": [
              "0-5       362\n",
              "10-50      70\n",
              "5-10       56\n",
              "50-100     13\n",
              ">100       11\n",
              "Name: area_cat, dtype: int64"
            ]
          },
          "metadata": {
            "tags": []
          },
          "execution_count": 7
        }
      ]
    },
    {
      "cell_type": "code",
      "metadata": {
        "colab": {
          "base_uri": "https://localhost:8080/"
        },
        "id": "B7O_Cb7KTA1H",
        "outputId": "ed864d83-5b5c-43bd-eafe-e8859a8f2b95"
      },
      "source": [
        "#Interquartile range\n",
        "Q1 = forest_fire.area.quantile(.25)\n",
        "Q3 = forest_fire.area.quantile(.75)\n",
        "IQR = 1.5*(Q3-Q1)\n",
        "IQR"
      ],
      "execution_count": null,
      "outputs": [
        {
          "output_type": "execute_result",
          "data": {
            "text/plain": [
              "9.85875"
            ]
          },
          "metadata": {
            "tags": []
          },
          "execution_count": 8
        }
      ]
    },
    {
      "cell_type": "code",
      "metadata": {
        "colab": {
          "base_uri": "https://localhost:8080/"
        },
        "id": "1eg68xaXTC55",
        "outputId": "e33465b0-6913-438c-81cf-91500fe7da4d"
      },
      "source": [
        "#we are loosing quite a number of data points in already a small data set if we remove all outliers\n",
        "forest_fire.query('(@Q1 - 1.5 * @IQR) <= area <= (@Q3 + 1.5 * @IQR)').area_cat.value_counts(sort=False)"
      ],
      "execution_count": null,
      "outputs": [
        {
          "output_type": "execute_result",
          "data": {
            "text/plain": [
              "0-5       362\n",
              "5-10       56\n",
              "10-50      37\n",
              "50-100      0\n",
              ">100        0\n",
              "Name: area_cat, dtype: int64"
            ]
          },
          "metadata": {
            "tags": []
          },
          "execution_count": 9
        }
      ]
    },
    {
      "cell_type": "code",
      "metadata": {
        "colab": {
          "base_uri": "https://localhost:8080/",
          "height": 195
        },
        "id": "lwtaZro_cLy5",
        "outputId": "2ebe7ef4-770e-42e5-a916-dc9d8fab7e04"
      },
      "source": [
        "forest_fire.head()\n"
      ],
      "execution_count": null,
      "outputs": [
        {
          "output_type": "execute_result",
          "data": {
            "text/html": [
              "<div>\n",
              "<style scoped>\n",
              "    .dataframe tbody tr th:only-of-type {\n",
              "        vertical-align: middle;\n",
              "    }\n",
              "\n",
              "    .dataframe tbody tr th {\n",
              "        vertical-align: top;\n",
              "    }\n",
              "\n",
              "    .dataframe thead th {\n",
              "        text-align: right;\n",
              "    }\n",
              "</style>\n",
              "<table border=\"1\" class=\"dataframe\">\n",
              "  <thead>\n",
              "    <tr style=\"text-align: right;\">\n",
              "      <th></th>\n",
              "      <th>X</th>\n",
              "      <th>Y</th>\n",
              "      <th>month</th>\n",
              "      <th>day</th>\n",
              "      <th>FFMC</th>\n",
              "      <th>DMC</th>\n",
              "      <th>DC</th>\n",
              "      <th>ISI</th>\n",
              "      <th>temp</th>\n",
              "      <th>RH</th>\n",
              "      <th>wind</th>\n",
              "      <th>rain</th>\n",
              "      <th>area</th>\n",
              "      <th>area_cat</th>\n",
              "    </tr>\n",
              "  </thead>\n",
              "  <tbody>\n",
              "    <tr>\n",
              "      <th>0</th>\n",
              "      <td>7</td>\n",
              "      <td>5</td>\n",
              "      <td>mar</td>\n",
              "      <td>fri</td>\n",
              "      <td>86.2</td>\n",
              "      <td>26.2</td>\n",
              "      <td>94.3</td>\n",
              "      <td>5.1</td>\n",
              "      <td>8.2</td>\n",
              "      <td>51</td>\n",
              "      <td>6.7</td>\n",
              "      <td>0.0</td>\n",
              "      <td>0.0</td>\n",
              "      <td>0-5</td>\n",
              "    </tr>\n",
              "    <tr>\n",
              "      <th>1</th>\n",
              "      <td>7</td>\n",
              "      <td>4</td>\n",
              "      <td>oct</td>\n",
              "      <td>tue</td>\n",
              "      <td>90.6</td>\n",
              "      <td>35.4</td>\n",
              "      <td>669.1</td>\n",
              "      <td>6.7</td>\n",
              "      <td>18.0</td>\n",
              "      <td>33</td>\n",
              "      <td>0.9</td>\n",
              "      <td>0.0</td>\n",
              "      <td>0.0</td>\n",
              "      <td>0-5</td>\n",
              "    </tr>\n",
              "    <tr>\n",
              "      <th>2</th>\n",
              "      <td>7</td>\n",
              "      <td>4</td>\n",
              "      <td>oct</td>\n",
              "      <td>sat</td>\n",
              "      <td>90.6</td>\n",
              "      <td>43.7</td>\n",
              "      <td>686.9</td>\n",
              "      <td>6.7</td>\n",
              "      <td>14.6</td>\n",
              "      <td>33</td>\n",
              "      <td>1.3</td>\n",
              "      <td>0.0</td>\n",
              "      <td>0.0</td>\n",
              "      <td>0-5</td>\n",
              "    </tr>\n",
              "    <tr>\n",
              "      <th>3</th>\n",
              "      <td>8</td>\n",
              "      <td>6</td>\n",
              "      <td>mar</td>\n",
              "      <td>fri</td>\n",
              "      <td>91.7</td>\n",
              "      <td>33.3</td>\n",
              "      <td>77.5</td>\n",
              "      <td>9.0</td>\n",
              "      <td>8.3</td>\n",
              "      <td>97</td>\n",
              "      <td>4.0</td>\n",
              "      <td>0.2</td>\n",
              "      <td>0.0</td>\n",
              "      <td>0-5</td>\n",
              "    </tr>\n",
              "    <tr>\n",
              "      <th>4</th>\n",
              "      <td>8</td>\n",
              "      <td>6</td>\n",
              "      <td>mar</td>\n",
              "      <td>sun</td>\n",
              "      <td>89.3</td>\n",
              "      <td>51.3</td>\n",
              "      <td>102.2</td>\n",
              "      <td>9.6</td>\n",
              "      <td>11.4</td>\n",
              "      <td>99</td>\n",
              "      <td>1.8</td>\n",
              "      <td>0.0</td>\n",
              "      <td>0.0</td>\n",
              "      <td>0-5</td>\n",
              "    </tr>\n",
              "  </tbody>\n",
              "</table>\n",
              "</div>"
            ],
            "text/plain": [
              "   X  Y month  day  FFMC   DMC     DC  ISI  temp  RH  wind  rain  area area_cat\n",
              "0  7  5   mar  fri  86.2  26.2   94.3  5.1   8.2  51   6.7   0.0   0.0      0-5\n",
              "1  7  4   oct  tue  90.6  35.4  669.1  6.7  18.0  33   0.9   0.0   0.0      0-5\n",
              "2  7  4   oct  sat  90.6  43.7  686.9  6.7  14.6  33   1.3   0.0   0.0      0-5\n",
              "3  8  6   mar  fri  91.7  33.3   77.5  9.0   8.3  97   4.0   0.2   0.0      0-5\n",
              "4  8  6   mar  sun  89.3  51.3  102.2  9.6  11.4  99   1.8   0.0   0.0      0-5"
            ]
          },
          "metadata": {
            "tags": []
          },
          "execution_count": 10
        }
      ]
    },
    {
      "cell_type": "code",
      "metadata": {
        "colab": {
          "base_uri": "https://localhost:8080/"
        },
        "id": "THBE-0xvTDg3",
        "outputId": "8fe00ea1-173b-407a-9536-b7fae5cff21d"
      },
      "source": [
        "# I chose to remove any area greater than 100. \n",
        "#remove outliers\n",
        "forest_fire.drop(forest_fire[forest_fire.area>100].index,axis=0, inplace=True)\n",
        "forest_fire.area_cat.value_counts()"
      ],
      "execution_count": null,
      "outputs": [
        {
          "output_type": "execute_result",
          "data": {
            "text/plain": [
              "0-5       362\n",
              "10-50      70\n",
              "5-10       56\n",
              "50-100     13\n",
              ">100        0\n",
              "Name: area_cat, dtype: int64"
            ]
          },
          "metadata": {
            "tags": []
          },
          "execution_count": 11
        }
      ]
    },
    {
      "cell_type": "code",
      "metadata": {
        "colab": {
          "base_uri": "https://localhost:8080/",
          "height": 302
        },
        "id": "w_agUovCTFUe",
        "outputId": "3d58ef7c-00fb-4431-df87-939a9f22adee"
      },
      "source": [
        "# Assumption1- Temperature might be a great indicator of wildfires and it might be the case that high temperature may lead to more area burnt.¶\n",
        "#Let's understand what temp ranges we have here.\n",
        "plt.hist(forest_fire.temp, ec='w', bins=50, color='red')\n",
        "plt.title(\"Temperature histogram\")\n",
        "plt.xlabel(\"Temperature ( in degree celsius )\")\n",
        "plt.ylabel(\"Frequency\")\n",
        "plt.show()"
      ],
      "execution_count": null,
      "outputs": [
        {
          "output_type": "display_data",
          "data": {
            "image/png": "[encoded data removed]",
            "text/plain": [
              "<Figure size 432x288 with 1 Axes>"
            ]
          },
          "metadata": {
            "tags": [],
            "needs_background": "light"
          }
        }
      ]
    },
    {
      "cell_type": "code",
      "metadata": {
        "colab": {
          "base_uri": "https://localhost:8080/"
        },
        "id": "NCP-xdsyTcGi",
        "outputId": "633e9ed6-5384-4a57-9b13-ae99e097f331"
      },
      "source": [
        "forest_fire['temp_bins'] = pd.cut(forest_fire.temp, bins=[0, 15, 20, 25, 40], include_lowest=True, \n",
        "                                 labels=['0-15', '15-20', '20-25', '>25'])\n",
        "forest_fire.temp_bins.value_counts(sort=False)\n",
        "#so we have from very cold 0-15 degrees to hot >25 degree."
      ],
      "execution_count": null,
      "outputs": [
        {
          "output_type": "execute_result",
          "data": {
            "text/plain": [
              "0-15     109\n",
              "15-20    167\n",
              "20-25    163\n",
              ">25       62\n",
              "Name: temp_bins, dtype: int64"
            ]
          },
          "metadata": {
            "tags": []
          },
          "execution_count": 13
        }
      ]
    },
    {
      "cell_type": "code",
      "metadata": {
        "id": "5s1JgiUCUCY8"
      },
      "source": [
        "# As, I have assumed temp is a critical indicator, to have a golden test dataset I would prefer that both train and test has equally distributed temperature conditions. Stratified shuffle split will help us maintain the required strata compositions here.\n",
        "\n",
        "split = StratifiedShuffleSplit(n_splits=1, test_size=0.2, random_state=42)\n",
        "for train_index, test_index in split.split(forest_fire.values, forest_fire.temp_bins.values):\n",
        "    st_train_set = forest_fire.iloc[train_index]\n",
        "    st_test_set = forest_fire.iloc[test_index]"
      ],
      "execution_count": null,
      "outputs": []
    },
    {
      "cell_type": "code",
      "metadata": {
        "colab": {
          "base_uri": "https://localhost:8080/"
        },
        "id": "FR2Whd5WUNQR",
        "outputId": "b13d0fdc-dd07-4821-9286-13acd1c7595a"
      },
      "source": [
        "#this works like magic.\n",
        "print(st_test_set.temp_bins.value_counts(sort=False)/len(st_test_set), sep='\\n')\n",
        "print(forest_fire.temp_bins.value_counts(sort=False)/len(forest_fire), sep='\\n')"
      ],
      "execution_count": null,
      "outputs": [
        {
          "output_type": "stream",
          "text": [
            "0-15     0.217822\n",
            "15-20    0.336634\n",
            "20-25    0.326733\n",
            ">25      0.118812\n",
            "Name: temp_bins, dtype: float64\n",
            "0-15     0.217565\n",
            "15-20    0.333333\n",
            "20-25    0.325349\n",
            ">25      0.123752\n",
            "Name: temp_bins, dtype: float64\n"
          ],
          "name": "stdout"
        }
      ]
    },
    {
      "cell_type": "code",
      "metadata": {
        "id": "7ClC5PD8U7ea"
      },
      "source": [
        "#now lets drop the area_cat and temp_bins \n",
        "for _ in (st_train_set, st_test_set):\n",
        "    _.drop(['area_cat','temp_bins'], axis=1, inplace=True)"
      ],
      "execution_count": null,
      "outputs": []
    },
    {
      "cell_type": "code",
      "metadata": {
        "colab": {
          "base_uri": "https://localhost:8080/",
          "height": 402
        },
        "id": "HLQY0e4pSIKD",
        "outputId": "d5dc3f45-c42b-4997-8b1c-d2fba1735743"
      },
      "source": [
        "st_train_set"
      ],
      "execution_count": null,
      "outputs": [
        {
          "output_type": "execute_result",
          "data": {
            "text/html": [
              "<div>\n",
              "<style scoped>\n",
              "    .dataframe tbody tr th:only-of-type {\n",
              "        vertical-align: middle;\n",
              "    }\n",
              "\n",
              "    .dataframe tbody tr th {\n",
              "        vertical-align: top;\n",
              "    }\n",
              "\n",
              "    .dataframe thead th {\n",
              "        text-align: right;\n",
              "    }\n",
              "</style>\n",
              "<table border=\"1\" class=\"dataframe\">\n",
              "  <thead>\n",
              "    <tr style=\"text-align: right;\">\n",
              "      <th></th>\n",
              "      <th>X</th>\n",
              "      <th>Y</th>\n",
              "      <th>month</th>\n",
              "      <th>day</th>\n",
              "      <th>FFMC</th>\n",
              "      <th>DMC</th>\n",
              "      <th>DC</th>\n",
              "      <th>ISI</th>\n",
              "      <th>temp</th>\n",
              "      <th>RH</th>\n",
              "      <th>wind</th>\n",
              "      <th>rain</th>\n",
              "      <th>area</th>\n",
              "    </tr>\n",
              "  </thead>\n",
              "  <tbody>\n",
              "    <tr>\n",
              "      <th>359</th>\n",
              "      <td>1</td>\n",
              "      <td>4</td>\n",
              "      <td>sep</td>\n",
              "      <td>fri</td>\n",
              "      <td>92.5</td>\n",
              "      <td>122.0</td>\n",
              "      <td>789.7</td>\n",
              "      <td>10.2</td>\n",
              "      <td>21.1</td>\n",
              "      <td>39</td>\n",
              "      <td>2.2</td>\n",
              "      <td>0.0</td>\n",
              "      <td>8.12</td>\n",
              "    </tr>\n",
              "    <tr>\n",
              "      <th>314</th>\n",
              "      <td>4</td>\n",
              "      <td>4</td>\n",
              "      <td>sep</td>\n",
              "      <td>wed</td>\n",
              "      <td>92.6</td>\n",
              "      <td>115.4</td>\n",
              "      <td>777.1</td>\n",
              "      <td>8.8</td>\n",
              "      <td>19.7</td>\n",
              "      <td>41</td>\n",
              "      <td>1.8</td>\n",
              "      <td>0.0</td>\n",
              "      <td>1.58</td>\n",
              "    </tr>\n",
              "    <tr>\n",
              "      <th>203</th>\n",
              "      <td>8</td>\n",
              "      <td>6</td>\n",
              "      <td>oct</td>\n",
              "      <td>wed</td>\n",
              "      <td>91.4</td>\n",
              "      <td>37.9</td>\n",
              "      <td>673.8</td>\n",
              "      <td>5.2</td>\n",
              "      <td>20.2</td>\n",
              "      <td>37</td>\n",
              "      <td>2.7</td>\n",
              "      <td>0.0</td>\n",
              "      <td>13.70</td>\n",
              "    </tr>\n",
              "    <tr>\n",
              "      <th>319</th>\n",
              "      <td>5</td>\n",
              "      <td>4</td>\n",
              "      <td>sep</td>\n",
              "      <td>thu</td>\n",
              "      <td>92.8</td>\n",
              "      <td>119.0</td>\n",
              "      <td>783.5</td>\n",
              "      <td>7.5</td>\n",
              "      <td>21.6</td>\n",
              "      <td>28</td>\n",
              "      <td>6.3</td>\n",
              "      <td>0.0</td>\n",
              "      <td>4.41</td>\n",
              "    </tr>\n",
              "    <tr>\n",
              "      <th>51</th>\n",
              "      <td>4</td>\n",
              "      <td>3</td>\n",
              "      <td>aug</td>\n",
              "      <td>sun</td>\n",
              "      <td>90.2</td>\n",
              "      <td>99.6</td>\n",
              "      <td>631.2</td>\n",
              "      <td>6.3</td>\n",
              "      <td>21.5</td>\n",
              "      <td>34</td>\n",
              "      <td>2.2</td>\n",
              "      <td>0.0</td>\n",
              "      <td>0.00</td>\n",
              "    </tr>\n",
              "    <tr>\n",
              "      <th>...</th>\n",
              "      <td>...</td>\n",
              "      <td>...</td>\n",
              "      <td>...</td>\n",
              "      <td>...</td>\n",
              "      <td>...</td>\n",
              "      <td>...</td>\n",
              "      <td>...</td>\n",
              "      <td>...</td>\n",
              "      <td>...</td>\n",
              "      <td>...</td>\n",
              "      <td>...</td>\n",
              "      <td>...</td>\n",
              "      <td>...</td>\n",
              "    </tr>\n",
              "    <tr>\n",
              "      <th>195</th>\n",
              "      <td>2</td>\n",
              "      <td>5</td>\n",
              "      <td>aug</td>\n",
              "      <td>fri</td>\n",
              "      <td>93.9</td>\n",
              "      <td>135.7</td>\n",
              "      <td>586.7</td>\n",
              "      <td>15.1</td>\n",
              "      <td>23.5</td>\n",
              "      <td>36</td>\n",
              "      <td>5.4</td>\n",
              "      <td>0.0</td>\n",
              "      <td>10.02</td>\n",
              "    </tr>\n",
              "    <tr>\n",
              "      <th>154</th>\n",
              "      <td>1</td>\n",
              "      <td>5</td>\n",
              "      <td>sep</td>\n",
              "      <td>sat</td>\n",
              "      <td>93.4</td>\n",
              "      <td>145.4</td>\n",
              "      <td>721.4</td>\n",
              "      <td>8.1</td>\n",
              "      <td>29.6</td>\n",
              "      <td>27</td>\n",
              "      <td>2.7</td>\n",
              "      <td>0.0</td>\n",
              "      <td>1.46</td>\n",
              "    </tr>\n",
              "    <tr>\n",
              "      <th>403</th>\n",
              "      <td>8</td>\n",
              "      <td>6</td>\n",
              "      <td>aug</td>\n",
              "      <td>thu</td>\n",
              "      <td>90.7</td>\n",
              "      <td>194.1</td>\n",
              "      <td>643.0</td>\n",
              "      <td>6.8</td>\n",
              "      <td>21.3</td>\n",
              "      <td>41</td>\n",
              "      <td>3.6</td>\n",
              "      <td>0.0</td>\n",
              "      <td>0.00</td>\n",
              "    </tr>\n",
              "    <tr>\n",
              "      <th>12</th>\n",
              "      <td>6</td>\n",
              "      <td>5</td>\n",
              "      <td>aug</td>\n",
              "      <td>fri</td>\n",
              "      <td>63.5</td>\n",
              "      <td>70.8</td>\n",
              "      <td>665.3</td>\n",
              "      <td>0.8</td>\n",
              "      <td>17.0</td>\n",
              "      <td>72</td>\n",
              "      <td>6.7</td>\n",
              "      <td>0.0</td>\n",
              "      <td>0.00</td>\n",
              "    </tr>\n",
              "    <tr>\n",
              "      <th>369</th>\n",
              "      <td>4</td>\n",
              "      <td>5</td>\n",
              "      <td>sep</td>\n",
              "      <td>sun</td>\n",
              "      <td>91.0</td>\n",
              "      <td>276.3</td>\n",
              "      <td>825.1</td>\n",
              "      <td>7.1</td>\n",
              "      <td>13.8</td>\n",
              "      <td>77</td>\n",
              "      <td>7.6</td>\n",
              "      <td>0.0</td>\n",
              "      <td>0.00</td>\n",
              "    </tr>\n",
              "  </tbody>\n",
              "</table>\n",
              "<p>400 rows × 13 columns</p>\n",
              "</div>"
            ],
            "text/plain": [
              "     X  Y month  day  FFMC    DMC     DC   ISI  temp  RH  wind  rain   area\n",
              "359  1  4   sep  fri  92.5  122.0  789.7  10.2  21.1  39   2.2   0.0   8.12\n",
              "314  4  4   sep  wed  92.6  115.4  777.1   8.8  19.7  41   1.8   0.0   1.58\n",
              "203  8  6   oct  wed  91.4   37.9  673.8   5.2  20.2  37   2.7   0.0  13.70\n",
              "319  5  4   sep  thu  92.8  119.0  783.5   7.5  21.6  28   6.3   0.0   4.41\n",
              "51   4  3   aug  sun  90.2   99.6  631.2   6.3  21.5  34   2.2   0.0   0.00\n",
              "..  .. ..   ...  ...   ...    ...    ...   ...   ...  ..   ...   ...    ...\n",
              "195  2  5   aug  fri  93.9  135.7  586.7  15.1  23.5  36   5.4   0.0  10.02\n",
              "154  1  5   sep  sat  93.4  145.4  721.4   8.1  29.6  27   2.7   0.0   1.46\n",
              "403  8  6   aug  thu  90.7  194.1  643.0   6.8  21.3  41   3.6   0.0   0.00\n",
              "12   6  5   aug  fri  63.5   70.8  665.3   0.8  17.0  72   6.7   0.0   0.00\n",
              "369  4  5   sep  sun  91.0  276.3  825.1   7.1  13.8  77   7.6   0.0   0.00\n",
              "\n",
              "[400 rows x 13 columns]"
            ]
          },
          "metadata": {
            "tags": []
          },
          "execution_count": 17
        }
      ]
    },
    {
      "cell_type": "code",
      "metadata": {
        "colab": {
          "base_uri": "https://localhost:8080/",
          "height": 402
        },
        "id": "iVzkNCqJSURZ",
        "outputId": "ffdada65-8699-4d51-fe72-8cf782c16299"
      },
      "source": [
        "st_test_set"
      ],
      "execution_count": null,
      "outputs": [
        {
          "output_type": "execute_result",
          "data": {
            "text/html": [
              "<div>\n",
              "<style scoped>\n",
              "    .dataframe tbody tr th:only-of-type {\n",
              "        vertical-align: middle;\n",
              "    }\n",
              "\n",
              "    .dataframe tbody tr th {\n",
              "        vertical-align: top;\n",
              "    }\n",
              "\n",
              "    .dataframe thead th {\n",
              "        text-align: right;\n",
              "    }\n",
              "</style>\n",
              "<table border=\"1\" class=\"dataframe\">\n",
              "  <thead>\n",
              "    <tr style=\"text-align: right;\">\n",
              "      <th></th>\n",
              "      <th>X</th>\n",
              "      <th>Y</th>\n",
              "      <th>month</th>\n",
              "      <th>day</th>\n",
              "      <th>FFMC</th>\n",
              "      <th>DMC</th>\n",
              "      <th>DC</th>\n",
              "      <th>ISI</th>\n",
              "      <th>temp</th>\n",
              "      <th>RH</th>\n",
              "      <th>wind</th>\n",
              "      <th>rain</th>\n",
              "      <th>area</th>\n",
              "    </tr>\n",
              "  </thead>\n",
              "  <tbody>\n",
              "    <tr>\n",
              "      <th>505</th>\n",
              "      <td>1</td>\n",
              "      <td>2</td>\n",
              "      <td>aug</td>\n",
              "      <td>thu</td>\n",
              "      <td>91.0</td>\n",
              "      <td>163.2</td>\n",
              "      <td>744.4</td>\n",
              "      <td>10.1</td>\n",
              "      <td>26.7</td>\n",
              "      <td>35</td>\n",
              "      <td>1.8</td>\n",
              "      <td>0.0</td>\n",
              "      <td>5.80</td>\n",
              "    </tr>\n",
              "    <tr>\n",
              "      <th>432</th>\n",
              "      <td>8</td>\n",
              "      <td>6</td>\n",
              "      <td>aug</td>\n",
              "      <td>thu</td>\n",
              "      <td>94.8</td>\n",
              "      <td>222.4</td>\n",
              "      <td>698.6</td>\n",
              "      <td>13.9</td>\n",
              "      <td>23.9</td>\n",
              "      <td>38</td>\n",
              "      <td>6.7</td>\n",
              "      <td>0.0</td>\n",
              "      <td>0.00</td>\n",
              "    </tr>\n",
              "    <tr>\n",
              "      <th>217</th>\n",
              "      <td>1</td>\n",
              "      <td>3</td>\n",
              "      <td>sep</td>\n",
              "      <td>mon</td>\n",
              "      <td>88.6</td>\n",
              "      <td>91.8</td>\n",
              "      <td>709.9</td>\n",
              "      <td>7.1</td>\n",
              "      <td>12.4</td>\n",
              "      <td>73</td>\n",
              "      <td>6.3</td>\n",
              "      <td>0.0</td>\n",
              "      <td>30.32</td>\n",
              "    </tr>\n",
              "    <tr>\n",
              "      <th>416</th>\n",
              "      <td>6</td>\n",
              "      <td>3</td>\n",
              "      <td>jul</td>\n",
              "      <td>tue</td>\n",
              "      <td>92.7</td>\n",
              "      <td>164.1</td>\n",
              "      <td>575.8</td>\n",
              "      <td>8.9</td>\n",
              "      <td>26.3</td>\n",
              "      <td>39</td>\n",
              "      <td>3.1</td>\n",
              "      <td>0.0</td>\n",
              "      <td>7.02</td>\n",
              "    </tr>\n",
              "    <tr>\n",
              "      <th>100</th>\n",
              "      <td>3</td>\n",
              "      <td>4</td>\n",
              "      <td>aug</td>\n",
              "      <td>sun</td>\n",
              "      <td>91.4</td>\n",
              "      <td>142.4</td>\n",
              "      <td>601.4</td>\n",
              "      <td>10.6</td>\n",
              "      <td>19.8</td>\n",
              "      <td>39</td>\n",
              "      <td>5.4</td>\n",
              "      <td>0.0</td>\n",
              "      <td>0.00</td>\n",
              "    </tr>\n",
              "    <tr>\n",
              "      <th>...</th>\n",
              "      <td>...</td>\n",
              "      <td>...</td>\n",
              "      <td>...</td>\n",
              "      <td>...</td>\n",
              "      <td>...</td>\n",
              "      <td>...</td>\n",
              "      <td>...</td>\n",
              "      <td>...</td>\n",
              "      <td>...</td>\n",
              "      <td>...</td>\n",
              "      <td>...</td>\n",
              "      <td>...</td>\n",
              "      <td>...</td>\n",
              "    </tr>\n",
              "    <tr>\n",
              "      <th>99</th>\n",
              "      <td>3</td>\n",
              "      <td>4</td>\n",
              "      <td>aug</td>\n",
              "      <td>sun</td>\n",
              "      <td>91.4</td>\n",
              "      <td>142.4</td>\n",
              "      <td>601.4</td>\n",
              "      <td>10.6</td>\n",
              "      <td>19.8</td>\n",
              "      <td>39</td>\n",
              "      <td>5.4</td>\n",
              "      <td>0.0</td>\n",
              "      <td>0.00</td>\n",
              "    </tr>\n",
              "    <tr>\n",
              "      <th>366</th>\n",
              "      <td>4</td>\n",
              "      <td>5</td>\n",
              "      <td>sep</td>\n",
              "      <td>tue</td>\n",
              "      <td>91.1</td>\n",
              "      <td>132.3</td>\n",
              "      <td>812.1</td>\n",
              "      <td>12.5</td>\n",
              "      <td>15.9</td>\n",
              "      <td>38</td>\n",
              "      <td>5.4</td>\n",
              "      <td>0.0</td>\n",
              "      <td>1.75</td>\n",
              "    </tr>\n",
              "    <tr>\n",
              "      <th>433</th>\n",
              "      <td>2</td>\n",
              "      <td>4</td>\n",
              "      <td>aug</td>\n",
              "      <td>sun</td>\n",
              "      <td>93.6</td>\n",
              "      <td>235.1</td>\n",
              "      <td>723.1</td>\n",
              "      <td>10.1</td>\n",
              "      <td>20.9</td>\n",
              "      <td>66</td>\n",
              "      <td>4.9</td>\n",
              "      <td>0.0</td>\n",
              "      <td>15.34</td>\n",
              "    </tr>\n",
              "    <tr>\n",
              "      <th>435</th>\n",
              "      <td>2</td>\n",
              "      <td>5</td>\n",
              "      <td>jul</td>\n",
              "      <td>sat</td>\n",
              "      <td>90.8</td>\n",
              "      <td>84.7</td>\n",
              "      <td>376.6</td>\n",
              "      <td>5.6</td>\n",
              "      <td>23.8</td>\n",
              "      <td>51</td>\n",
              "      <td>1.8</td>\n",
              "      <td>0.0</td>\n",
              "      <td>0.00</td>\n",
              "    </tr>\n",
              "    <tr>\n",
              "      <th>81</th>\n",
              "      <td>1</td>\n",
              "      <td>2</td>\n",
              "      <td>aug</td>\n",
              "      <td>sun</td>\n",
              "      <td>90.2</td>\n",
              "      <td>99.6</td>\n",
              "      <td>631.2</td>\n",
              "      <td>6.3</td>\n",
              "      <td>17.9</td>\n",
              "      <td>44</td>\n",
              "      <td>2.2</td>\n",
              "      <td>0.0</td>\n",
              "      <td>0.00</td>\n",
              "    </tr>\n",
              "  </tbody>\n",
              "</table>\n",
              "<p>101 rows × 13 columns</p>\n",
              "</div>"
            ],
            "text/plain": [
              "     X  Y month  day  FFMC    DMC     DC   ISI  temp  RH  wind  rain   area\n",
              "505  1  2   aug  thu  91.0  163.2  744.4  10.1  26.7  35   1.8   0.0   5.80\n",
              "432  8  6   aug  thu  94.8  222.4  698.6  13.9  23.9  38   6.7   0.0   0.00\n",
              "217  1  3   sep  mon  88.6   91.8  709.9   7.1  12.4  73   6.3   0.0  30.32\n",
              "416  6  3   jul  tue  92.7  164.1  575.8   8.9  26.3  39   3.1   0.0   7.02\n",
              "100  3  4   aug  sun  91.4  142.4  601.4  10.6  19.8  39   5.4   0.0   0.00\n",
              "..  .. ..   ...  ...   ...    ...    ...   ...   ...  ..   ...   ...    ...\n",
              "99   3  4   aug  sun  91.4  142.4  601.4  10.6  19.8  39   5.4   0.0   0.00\n",
              "366  4  5   sep  tue  91.1  132.3  812.1  12.5  15.9  38   5.4   0.0   1.75\n",
              "433  2  4   aug  sun  93.6  235.1  723.1  10.1  20.9  66   4.9   0.0  15.34\n",
              "435  2  5   jul  sat  90.8   84.7  376.6   5.6  23.8  51   1.8   0.0   0.00\n",
              "81   1  2   aug  sun  90.2   99.6  631.2   6.3  17.9  44   2.2   0.0   0.00\n",
              "\n",
              "[101 rows x 13 columns]"
            ]
          },
          "metadata": {
            "tags": []
          },
          "execution_count": 18
        }
      ]
    },
    {
      "cell_type": "markdown",
      "metadata": {
        "id": "TDRQ1v0TVm6L"
      },
      "source": [
        "**I chose to remove coordinates X & Y before model building. The reason being here we are building a model that will use weather conditions to determine the severity of a wildfire based on area burnt, so keeping X&Y locations of one forest does ‘t generalize well to others.**"
      ]
    },
    {
      "cell_type": "code",
      "metadata": {
        "colab": {
          "base_uri": "https://localhost:8080/",
          "height": 195
        },
        "id": "cmO3AsnsRSu2",
        "outputId": "f00bb264-07c3-488c-dc53-45070fbd8056"
      },
      "source": [
        "#create a fresh copy of train to preprocess\n",
        "x_train = st_train_set.drop('area', axis=1)\n",
        "y_train = st_train_set.area.copy()\n",
        "categorical_attributes = list(x_train.select_dtypes(include=['object']).columns)\n",
        "numerical_attributes = list(x_train.select_dtypes(include=['float64', 'int64']).columns)\n",
        "\n",
        "# num_pipeline = Pipeline([('imputer', SimpleImputer(strategy='median')),\n",
        "#                          ('std_scaler', StandardScaler()),\n",
        "#                         ])\n",
        "\n",
        "num_pipeline = Pipeline([('imputer', SimpleImputer(strategy='constant'))\n",
        "                        ])\n",
        "full_pipeline = ColumnTransformer([('num', num_pipeline, numerical_attributes),\n",
        "                                   ('cat', OneHotEncoder(), categorical_attributes),\n",
        "                                  ])\n",
        "x_train = full_pipeline.fit_transform(x_train)\n",
        "# #check the train data\n",
        "x_train = pd.DataFrame(x_train, columns= numerical_attributes[0:] + list(full_pipeline.named_transformers_.cat.categories_[0]) +\n",
        "             list(full_pipeline.named_transformers_.cat.categories_[1]))\n",
        "x_train.pop(\"X\");\n",
        "x_train.pop(\"Y\");\n",
        "x_train.pop(\"apr\");\n",
        "x_train.head()"
      ],
      "execution_count": null,
      "outputs": [
        {
          "output_type": "execute_result",
          "data": {
            "text/html": [
              "<div>\n",
              "<style scoped>\n",
              "    .dataframe tbody tr th:only-of-type {\n",
              "        vertical-align: middle;\n",
              "    }\n",
              "\n",
              "    .dataframe tbody tr th {\n",
              "        vertical-align: top;\n",
              "    }\n",
              "\n",
              "    .dataframe thead th {\n",
              "        text-align: right;\n",
              "    }\n",
              "</style>\n",
              "<table border=\"1\" class=\"dataframe\">\n",
              "  <thead>\n",
              "    <tr style=\"text-align: right;\">\n",
              "      <th></th>\n",
              "      <th>FFMC</th>\n",
              "      <th>DMC</th>\n",
              "      <th>DC</th>\n",
              "      <th>ISI</th>\n",
              "      <th>temp</th>\n",
              "      <th>RH</th>\n",
              "      <th>wind</th>\n",
              "      <th>rain</th>\n",
              "      <th>aug</th>\n",
              "      <th>dec</th>\n",
              "      <th>feb</th>\n",
              "      <th>jul</th>\n",
              "      <th>jun</th>\n",
              "      <th>mar</th>\n",
              "      <th>oct</th>\n",
              "      <th>sep</th>\n",
              "      <th>fri</th>\n",
              "      <th>mon</th>\n",
              "      <th>sat</th>\n",
              "      <th>sun</th>\n",
              "      <th>thu</th>\n",
              "      <th>tue</th>\n",
              "      <th>wed</th>\n",
              "    </tr>\n",
              "  </thead>\n",
              "  <tbody>\n",
              "    <tr>\n",
              "      <th>0</th>\n",
              "      <td>92.5</td>\n",
              "      <td>122.0</td>\n",
              "      <td>789.7</td>\n",
              "      <td>10.2</td>\n",
              "      <td>21.1</td>\n",
              "      <td>39.0</td>\n",
              "      <td>2.2</td>\n",
              "      <td>0.0</td>\n",
              "      <td>0.0</td>\n",
              "      <td>0.0</td>\n",
              "      <td>0.0</td>\n",
              "      <td>0.0</td>\n",
              "      <td>0.0</td>\n",
              "      <td>0.0</td>\n",
              "      <td>0.0</td>\n",
              "      <td>1.0</td>\n",
              "      <td>1.0</td>\n",
              "      <td>0.0</td>\n",
              "      <td>0.0</td>\n",
              "      <td>0.0</td>\n",
              "      <td>0.0</td>\n",
              "      <td>0.0</td>\n",
              "      <td>0.0</td>\n",
              "    </tr>\n",
              "    <tr>\n",
              "      <th>1</th>\n",
              "      <td>92.6</td>\n",
              "      <td>115.4</td>\n",
              "      <td>777.1</td>\n",
              "      <td>8.8</td>\n",
              "      <td>19.7</td>\n",
              "      <td>41.0</td>\n",
              "      <td>1.8</td>\n",
              "      <td>0.0</td>\n",
              "      <td>0.0</td>\n",
              "      <td>0.0</td>\n",
              "      <td>0.0</td>\n",
              "      <td>0.0</td>\n",
              "      <td>0.0</td>\n",
              "      <td>0.0</td>\n",
              "      <td>0.0</td>\n",
              "      <td>1.0</td>\n",
              "      <td>0.0</td>\n",
              "      <td>0.0</td>\n",
              "      <td>0.0</td>\n",
              "      <td>0.0</td>\n",
              "      <td>0.0</td>\n",
              "      <td>0.0</td>\n",
              "      <td>1.0</td>\n",
              "    </tr>\n",
              "    <tr>\n",
              "      <th>2</th>\n",
              "      <td>91.4</td>\n",
              "      <td>37.9</td>\n",
              "      <td>673.8</td>\n",
              "      <td>5.2</td>\n",
              "      <td>20.2</td>\n",
              "      <td>37.0</td>\n",
              "      <td>2.7</td>\n",
              "      <td>0.0</td>\n",
              "      <td>0.0</td>\n",
              "      <td>0.0</td>\n",
              "      <td>0.0</td>\n",
              "      <td>0.0</td>\n",
              "      <td>0.0</td>\n",
              "      <td>0.0</td>\n",
              "      <td>1.0</td>\n",
              "      <td>0.0</td>\n",
              "      <td>0.0</td>\n",
              "      <td>0.0</td>\n",
              "      <td>0.0</td>\n",
              "      <td>0.0</td>\n",
              "      <td>0.0</td>\n",
              "      <td>0.0</td>\n",
              "      <td>1.0</td>\n",
              "    </tr>\n",
              "    <tr>\n",
              "      <th>3</th>\n",
              "      <td>92.8</td>\n",
              "      <td>119.0</td>\n",
              "      <td>783.5</td>\n",
              "      <td>7.5</td>\n",
              "      <td>21.6</td>\n",
              "      <td>28.0</td>\n",
              "      <td>6.3</td>\n",
              "      <td>0.0</td>\n",
              "      <td>0.0</td>\n",
              "      <td>0.0</td>\n",
              "      <td>0.0</td>\n",
              "      <td>0.0</td>\n",
              "      <td>0.0</td>\n",
              "      <td>0.0</td>\n",
              "      <td>0.0</td>\n",
              "      <td>1.0</td>\n",
              "      <td>0.0</td>\n",
              "      <td>0.0</td>\n",
              "      <td>0.0</td>\n",
              "      <td>0.0</td>\n",
              "      <td>1.0</td>\n",
              "      <td>0.0</td>\n",
              "      <td>0.0</td>\n",
              "    </tr>\n",
              "    <tr>\n",
              "      <th>4</th>\n",
              "      <td>90.2</td>\n",
              "      <td>99.6</td>\n",
              "      <td>631.2</td>\n",
              "      <td>6.3</td>\n",
              "      <td>21.5</td>\n",
              "      <td>34.0</td>\n",
              "      <td>2.2</td>\n",
              "      <td>0.0</td>\n",
              "      <td>1.0</td>\n",
              "      <td>0.0</td>\n",
              "      <td>0.0</td>\n",
              "      <td>0.0</td>\n",
              "      <td>0.0</td>\n",
              "      <td>0.0</td>\n",
              "      <td>0.0</td>\n",
              "      <td>0.0</td>\n",
              "      <td>0.0</td>\n",
              "      <td>0.0</td>\n",
              "      <td>0.0</td>\n",
              "      <td>1.0</td>\n",
              "      <td>0.0</td>\n",
              "      <td>0.0</td>\n",
              "      <td>0.0</td>\n",
              "    </tr>\n",
              "  </tbody>\n",
              "</table>\n",
              "</div>"
            ],
            "text/plain": [
              "   FFMC    DMC     DC   ISI  temp    RH  ...  mon  sat  sun  thu  tue  wed\n",
              "0  92.5  122.0  789.7  10.2  21.1  39.0  ...  0.0  0.0  0.0  0.0  0.0  0.0\n",
              "1  92.6  115.4  777.1   8.8  19.7  41.0  ...  0.0  0.0  0.0  0.0  0.0  1.0\n",
              "2  91.4   37.9  673.8   5.2  20.2  37.0  ...  0.0  0.0  0.0  0.0  0.0  1.0\n",
              "3  92.8  119.0  783.5   7.5  21.6  28.0  ...  0.0  0.0  0.0  1.0  0.0  0.0\n",
              "4  90.2   99.6  631.2   6.3  21.5  34.0  ...  0.0  0.0  1.0  0.0  0.0  0.0\n",
              "\n",
              "[5 rows x 23 columns]"
            ]
          },
          "metadata": {
            "tags": []
          },
          "execution_count": 19
        }
      ]
    },
    {
      "cell_type": "code",
      "metadata": {
        "colab": {
          "base_uri": "https://localhost:8080/",
          "height": 195
        },
        "id": "J4m0xhywQYPi",
        "outputId": "7fbc8031-14f6-4aec-d7e6-87d4717f8a99"
      },
      "source": [
        "#create a fresh copy of test to preprocess\n",
        "x_test = st_test_set.drop('area', axis=1)\n",
        "y_test = st_test_set.area.copy()\n",
        "categorical_attributes = list(x_test.select_dtypes(include=['object']).columns)\n",
        "numerical_attributes = list(x_test.select_dtypes(include=['float64', 'int64']).columns)\n",
        "\n",
        "num_pipeline = Pipeline([('imputer', SimpleImputer(strategy='constant'))\n",
        "                        ])\n",
        "full_pipeline = ColumnTransformer([('num', num_pipeline, numerical_attributes),\n",
        "                                   ('cat', OneHotEncoder(), categorical_attributes),\n",
        "                                  ])\n",
        "x_test = full_pipeline.fit_transform(x_test)\n",
        "# #check the test data\n",
        "x_test = pd.DataFrame(x_test, columns= numerical_attributes[0:] + list(full_pipeline.named_transformers_.cat.categories_[0]) +\n",
        "             list(full_pipeline.named_transformers_.cat.categories_[1]))\n",
        "x_test.pop(\"X\");\n",
        "x_test.pop(\"Y\");\n",
        "x_test.head()"
      ],
      "execution_count": null,
      "outputs": [
        {
          "output_type": "execute_result",
          "data": {
            "text/html": [
              "<div>\n",
              "<style scoped>\n",
              "    .dataframe tbody tr th:only-of-type {\n",
              "        vertical-align: middle;\n",
              "    }\n",
              "\n",
              "    .dataframe tbody tr th {\n",
              "        vertical-align: top;\n",
              "    }\n",
              "\n",
              "    .dataframe thead th {\n",
              "        text-align: right;\n",
              "    }\n",
              "</style>\n",
              "<table border=\"1\" class=\"dataframe\">\n",
              "  <thead>\n",
              "    <tr style=\"text-align: right;\">\n",
              "      <th></th>\n",
              "      <th>FFMC</th>\n",
              "      <th>DMC</th>\n",
              "      <th>DC</th>\n",
              "      <th>ISI</th>\n",
              "      <th>temp</th>\n",
              "      <th>RH</th>\n",
              "      <th>wind</th>\n",
              "      <th>rain</th>\n",
              "      <th>aug</th>\n",
              "      <th>dec</th>\n",
              "      <th>feb</th>\n",
              "      <th>jul</th>\n",
              "      <th>jun</th>\n",
              "      <th>mar</th>\n",
              "      <th>oct</th>\n",
              "      <th>sep</th>\n",
              "      <th>fri</th>\n",
              "      <th>mon</th>\n",
              "      <th>sat</th>\n",
              "      <th>sun</th>\n",
              "      <th>thu</th>\n",
              "      <th>tue</th>\n",
              "      <th>wed</th>\n",
              "    </tr>\n",
              "  </thead>\n",
              "  <tbody>\n",
              "    <tr>\n",
              "      <th>0</th>\n",
              "      <td>91.0</td>\n",
              "      <td>163.2</td>\n",
              "      <td>744.4</td>\n",
              "      <td>10.1</td>\n",
              "      <td>26.7</td>\n",
              "      <td>35.0</td>\n",
              "      <td>1.8</td>\n",
              "      <td>0.0</td>\n",
              "      <td>1.0</td>\n",
              "      <td>0.0</td>\n",
              "      <td>0.0</td>\n",
              "      <td>0.0</td>\n",
              "      <td>0.0</td>\n",
              "      <td>0.0</td>\n",
              "      <td>0.0</td>\n",
              "      <td>0.0</td>\n",
              "      <td>0.0</td>\n",
              "      <td>0.0</td>\n",
              "      <td>0.0</td>\n",
              "      <td>0.0</td>\n",
              "      <td>1.0</td>\n",
              "      <td>0.0</td>\n",
              "      <td>0.0</td>\n",
              "    </tr>\n",
              "    <tr>\n",
              "      <th>1</th>\n",
              "      <td>94.8</td>\n",
              "      <td>222.4</td>\n",
              "      <td>698.6</td>\n",
              "      <td>13.9</td>\n",
              "      <td>23.9</td>\n",
              "      <td>38.0</td>\n",
              "      <td>6.7</td>\n",
              "      <td>0.0</td>\n",
              "      <td>1.0</td>\n",
              "      <td>0.0</td>\n",
              "      <td>0.0</td>\n",
              "      <td>0.0</td>\n",
              "      <td>0.0</td>\n",
              "      <td>0.0</td>\n",
              "      <td>0.0</td>\n",
              "      <td>0.0</td>\n",
              "      <td>0.0</td>\n",
              "      <td>0.0</td>\n",
              "      <td>0.0</td>\n",
              "      <td>0.0</td>\n",
              "      <td>1.0</td>\n",
              "      <td>0.0</td>\n",
              "      <td>0.0</td>\n",
              "    </tr>\n",
              "    <tr>\n",
              "      <th>2</th>\n",
              "      <td>88.6</td>\n",
              "      <td>91.8</td>\n",
              "      <td>709.9</td>\n",
              "      <td>7.1</td>\n",
              "      <td>12.4</td>\n",
              "      <td>73.0</td>\n",
              "      <td>6.3</td>\n",
              "      <td>0.0</td>\n",
              "      <td>0.0</td>\n",
              "      <td>0.0</td>\n",
              "      <td>0.0</td>\n",
              "      <td>0.0</td>\n",
              "      <td>0.0</td>\n",
              "      <td>0.0</td>\n",
              "      <td>0.0</td>\n",
              "      <td>1.0</td>\n",
              "      <td>0.0</td>\n",
              "      <td>1.0</td>\n",
              "      <td>0.0</td>\n",
              "      <td>0.0</td>\n",
              "      <td>0.0</td>\n",
              "      <td>0.0</td>\n",
              "      <td>0.0</td>\n",
              "    </tr>\n",
              "    <tr>\n",
              "      <th>3</th>\n",
              "      <td>92.7</td>\n",
              "      <td>164.1</td>\n",
              "      <td>575.8</td>\n",
              "      <td>8.9</td>\n",
              "      <td>26.3</td>\n",
              "      <td>39.0</td>\n",
              "      <td>3.1</td>\n",
              "      <td>0.0</td>\n",
              "      <td>0.0</td>\n",
              "      <td>0.0</td>\n",
              "      <td>0.0</td>\n",
              "      <td>1.0</td>\n",
              "      <td>0.0</td>\n",
              "      <td>0.0</td>\n",
              "      <td>0.0</td>\n",
              "      <td>0.0</td>\n",
              "      <td>0.0</td>\n",
              "      <td>0.0</td>\n",
              "      <td>0.0</td>\n",
              "      <td>0.0</td>\n",
              "      <td>0.0</td>\n",
              "      <td>1.0</td>\n",
              "      <td>0.0</td>\n",
              "    </tr>\n",
              "    <tr>\n",
              "      <th>4</th>\n",
              "      <td>91.4</td>\n",
              "      <td>142.4</td>\n",
              "      <td>601.4</td>\n",
              "      <td>10.6</td>\n",
              "      <td>19.8</td>\n",
              "      <td>39.0</td>\n",
              "      <td>5.4</td>\n",
              "      <td>0.0</td>\n",
              "      <td>1.0</td>\n",
              "      <td>0.0</td>\n",
              "      <td>0.0</td>\n",
              "      <td>0.0</td>\n",
              "      <td>0.0</td>\n",
              "      <td>0.0</td>\n",
              "      <td>0.0</td>\n",
              "      <td>0.0</td>\n",
              "      <td>0.0</td>\n",
              "      <td>0.0</td>\n",
              "      <td>0.0</td>\n",
              "      <td>1.0</td>\n",
              "      <td>0.0</td>\n",
              "      <td>0.0</td>\n",
              "      <td>0.0</td>\n",
              "    </tr>\n",
              "  </tbody>\n",
              "</table>\n",
              "</div>"
            ],
            "text/plain": [
              "   FFMC    DMC     DC   ISI  temp    RH  ...  mon  sat  sun  thu  tue  wed\n",
              "0  91.0  163.2  744.4  10.1  26.7  35.0  ...  0.0  0.0  0.0  1.0  0.0  0.0\n",
              "1  94.8  222.4  698.6  13.9  23.9  38.0  ...  0.0  0.0  0.0  1.0  0.0  0.0\n",
              "2  88.6   91.8  709.9   7.1  12.4  73.0  ...  1.0  0.0  0.0  0.0  0.0  0.0\n",
              "3  92.7  164.1  575.8   8.9  26.3  39.0  ...  0.0  0.0  0.0  0.0  1.0  0.0\n",
              "4  91.4  142.4  601.4  10.6  19.8  39.0  ...  0.0  0.0  1.0  0.0  0.0  0.0\n",
              "\n",
              "[5 rows x 23 columns]"
            ]
          },
          "metadata": {
            "tags": []
          },
          "execution_count": 20
        }
      ]
    },
    {
      "cell_type": "code",
      "metadata": {
        "id": "eYYlexIAQYAW"
      },
      "source": [
        ""
      ],
      "execution_count": null,
      "outputs": []
    },
    {
      "cell_type": "code",
      "metadata": {
        "colab": {
          "base_uri": "https://localhost:8080/",
          "height": 195
        },
        "id": "32IMpGzBaWOh",
        "outputId": "9f1c48fd-f9b4-4d9a-9526-cf9108159040"
      },
      "source": [
        "forest_fire.head()"
      ],
      "execution_count": null,
      "outputs": [
        {
          "output_type": "execute_result",
          "data": {
            "text/html": [
              "<div>\n",
              "<style scoped>\n",
              "    .dataframe tbody tr th:only-of-type {\n",
              "        vertical-align: middle;\n",
              "    }\n",
              "\n",
              "    .dataframe tbody tr th {\n",
              "        vertical-align: top;\n",
              "    }\n",
              "\n",
              "    .dataframe thead th {\n",
              "        text-align: right;\n",
              "    }\n",
              "</style>\n",
              "<table border=\"1\" class=\"dataframe\">\n",
              "  <thead>\n",
              "    <tr style=\"text-align: right;\">\n",
              "      <th></th>\n",
              "      <th>X</th>\n",
              "      <th>Y</th>\n",
              "      <th>month</th>\n",
              "      <th>day</th>\n",
              "      <th>FFMC</th>\n",
              "      <th>DMC</th>\n",
              "      <th>DC</th>\n",
              "      <th>ISI</th>\n",
              "      <th>temp</th>\n",
              "      <th>RH</th>\n",
              "      <th>wind</th>\n",
              "      <th>rain</th>\n",
              "      <th>area</th>\n",
              "      <th>area_cat</th>\n",
              "      <th>temp_bins</th>\n",
              "    </tr>\n",
              "  </thead>\n",
              "  <tbody>\n",
              "    <tr>\n",
              "      <th>0</th>\n",
              "      <td>7</td>\n",
              "      <td>5</td>\n",
              "      <td>mar</td>\n",
              "      <td>fri</td>\n",
              "      <td>86.2</td>\n",
              "      <td>26.2</td>\n",
              "      <td>94.3</td>\n",
              "      <td>5.1</td>\n",
              "      <td>8.2</td>\n",
              "      <td>51</td>\n",
              "      <td>6.7</td>\n",
              "      <td>0.0</td>\n",
              "      <td>0.0</td>\n",
              "      <td>0-5</td>\n",
              "      <td>0-15</td>\n",
              "    </tr>\n",
              "    <tr>\n",
              "      <th>1</th>\n",
              "      <td>7</td>\n",
              "      <td>4</td>\n",
              "      <td>oct</td>\n",
              "      <td>tue</td>\n",
              "      <td>90.6</td>\n",
              "      <td>35.4</td>\n",
              "      <td>669.1</td>\n",
              "      <td>6.7</td>\n",
              "      <td>18.0</td>\n",
              "      <td>33</td>\n",
              "      <td>0.9</td>\n",
              "      <td>0.0</td>\n",
              "      <td>0.0</td>\n",
              "      <td>0-5</td>\n",
              "      <td>15-20</td>\n",
              "    </tr>\n",
              "    <tr>\n",
              "      <th>2</th>\n",
              "      <td>7</td>\n",
              "      <td>4</td>\n",
              "      <td>oct</td>\n",
              "      <td>sat</td>\n",
              "      <td>90.6</td>\n",
              "      <td>43.7</td>\n",
              "      <td>686.9</td>\n",
              "      <td>6.7</td>\n",
              "      <td>14.6</td>\n",
              "      <td>33</td>\n",
              "      <td>1.3</td>\n",
              "      <td>0.0</td>\n",
              "      <td>0.0</td>\n",
              "      <td>0-5</td>\n",
              "      <td>0-15</td>\n",
              "    </tr>\n",
              "    <tr>\n",
              "      <th>3</th>\n",
              "      <td>8</td>\n",
              "      <td>6</td>\n",
              "      <td>mar</td>\n",
              "      <td>fri</td>\n",
              "      <td>91.7</td>\n",
              "      <td>33.3</td>\n",
              "      <td>77.5</td>\n",
              "      <td>9.0</td>\n",
              "      <td>8.3</td>\n",
              "      <td>97</td>\n",
              "      <td>4.0</td>\n",
              "      <td>0.2</td>\n",
              "      <td>0.0</td>\n",
              "      <td>0-5</td>\n",
              "      <td>0-15</td>\n",
              "    </tr>\n",
              "    <tr>\n",
              "      <th>4</th>\n",
              "      <td>8</td>\n",
              "      <td>6</td>\n",
              "      <td>mar</td>\n",
              "      <td>sun</td>\n",
              "      <td>89.3</td>\n",
              "      <td>51.3</td>\n",
              "      <td>102.2</td>\n",
              "      <td>9.6</td>\n",
              "      <td>11.4</td>\n",
              "      <td>99</td>\n",
              "      <td>1.8</td>\n",
              "      <td>0.0</td>\n",
              "      <td>0.0</td>\n",
              "      <td>0-5</td>\n",
              "      <td>0-15</td>\n",
              "    </tr>\n",
              "  </tbody>\n",
              "</table>\n",
              "</div>"
            ],
            "text/plain": [
              "   X  Y month  day  FFMC   DMC  ...  RH  wind  rain  area  area_cat  temp_bins\n",
              "0  7  5   mar  fri  86.2  26.2  ...  51   6.7   0.0   0.0       0-5       0-15\n",
              "1  7  4   oct  tue  90.6  35.4  ...  33   0.9   0.0   0.0       0-5      15-20\n",
              "2  7  4   oct  sat  90.6  43.7  ...  33   1.3   0.0   0.0       0-5       0-15\n",
              "3  8  6   mar  fri  91.7  33.3  ...  97   4.0   0.2   0.0       0-5       0-15\n",
              "4  8  6   mar  sun  89.3  51.3  ...  99   1.8   0.0   0.0       0-5       0-15\n",
              "\n",
              "[5 rows x 15 columns]"
            ]
          },
          "metadata": {
            "tags": []
          },
          "execution_count": 21
        }
      ]
    },
    {
      "cell_type": "code",
      "metadata": {
        "id": "hblLf4ydQX5G"
      },
      "source": [
        ""
      ],
      "execution_count": null,
      "outputs": []
    },
    {
      "cell_type": "code",
      "metadata": {
        "id": "J5ZVlNw8QX2Q"
      },
      "source": [
        ""
      ],
      "execution_count": null,
      "outputs": []
    },
    {
      "cell_type": "markdown",
      "metadata": {
        "id": "d7lhCRGW63_R"
      },
      "source": [
        "Apply models\n"
      ]
    },
    {
      "cell_type": "code",
      "metadata": {
        "colab": {
          "base_uri": "https://localhost:8080/"
        },
        "id": "Jp9WTq4ziKCS",
        "outputId": "ce4d053d-2cae-45e5-8798-3ee2f0a715c8"
      },
      "source": [
        "lin_reg = LinearRegression()\n",
        "lin_reg.fit(train, train_labels)\n",
        "\n",
        "area_predictions = lin_reg.predict(train)\n",
        "lin_mse = mean_squared_error(train_labels, area_predictions)\n",
        "lin_rmse = np.sqrt(lin_mse)\n",
        "print('linear_train_rmse', lin_rmse) #model might be underfitting\n",
        "\n",
        "# from sklearn.model_selection import cross_val_score\n",
        "# scores = cross_val_score(lin_reg, train, train_labels, scoring='neg_mean_squared_error', cv=10)\n",
        "# lin_rmse_scores = np.sqrt(-scores)\n",
        "\n",
        "# def explain_scores(scores):\n",
        "#     print(\"Scores:\", scores)\n",
        "#     print(\"Mean:\", scores.mean())\n",
        "#     print(\"Standard deviation:\", scores.std())\n",
        " \n",
        "# explain_scores(lin_rmse_scores)"
      ],
      "execution_count": null,
      "outputs": [
        {
          "output_type": "stream",
          "text": [
            "linear_train_rmse 13.406066943162292\n"
          ],
          "name": "stdout"
        }
      ]
    },
    {
      "cell_type": "code",
      "metadata": {
        "colab": {
          "base_uri": "https://localhost:8080/"
        },
        "id": "9AUXi9N868-d",
        "outputId": "26e0757a-6caa-44e3-c9ba-23c0ac17800e"
      },
      "source": [
        "\n",
        "\n",
        "tree_reg = DecisionTreeRegressor()\n",
        "tree_reg.fit(train, train_labels)\n",
        "\n",
        "area_predictions = tree_reg.predict(train)\n",
        "tree_mse = mean_squared_error(train_labels, area_predictions)\n",
        "tree_rmse = np.sqrt(tree_mse)\n",
        "print('tree_train_rmse', tree_rmse) #model obviously overfitting"
      ],
      "execution_count": null,
      "outputs": [
        {
          "output_type": "stream",
          "text": [
            "tree_train_rmse 3.741321429878308\n"
          ],
          "name": "stdout"
        }
      ]
    },
    {
      "cell_type": "code",
      "metadata": {
        "colab": {
          "base_uri": "https://localhost:8080/"
        },
        "id": "VzU3qqSR7wT-",
        "outputId": "688e5820-03df-44fd-a877-25612b95c6cb"
      },
      "source": [
        "\n",
        "\n",
        "rf_reg = RandomForestRegressor()\n",
        "rf_reg.fit(x_train, y_train)\n",
        "\n",
        "area_predictions_reg = rf_reg.predict(x_test)\n",
        "rf_mse = mean_squared_error(y_test, area_predictions_reg)\n",
        "rf_rmse = np.sqrt(rf_mse)\n",
        "print('rf_train_rmse', rf_rmse) #model is overfitting "
      ],
      "execution_count": null,
      "outputs": [
        {
          "output_type": "stream",
          "text": [
            "rf_train_rmse 14.911070877330566\n"
          ],
          "name": "stdout"
        }
      ]
    },
    {
      "cell_type": "code",
      "metadata": {
        "id": "sN3bJf4PLLjS"
      },
      "source": [
        "rec_reg=[]\n",
        "for i in range(tol_max):\n",
        "    rec_reg.append(rec(area_predictions_reg,y_test,i))"
      ],
      "execution_count": null,
      "outputs": []
    },
    {
      "cell_type": "code",
      "metadata": {
        "colab": {
          "base_uri": "https://localhost:8080/"
        },
        "id": "S3nk0s6n7z9v",
        "outputId": "65a9b172-f2c7-4f00-c7b7-48f67550c9b9"
      },
      "source": [
        "\n",
        "\n",
        "svm_reg = SVR(kernel='linear')\n",
        "svm_reg.fit(x_train, y_train)\n",
        "\n",
        "area_predictions_svm = svm_reg.predict(x_test)\n",
        "svm_mse = mean_squared_error(y_test, area_predictions_svm)\n",
        "svm_rmse = np.sqrt(svm_mse)\n",
        "print('svm_train_rmse', svm_rmse)"
      ],
      "execution_count": null,
      "outputs": [
        {
          "output_type": "stream",
          "text": [
            "svm_train_rmse 14.69076461115119\n"
          ],
          "name": "stdout"
        }
      ]
    },
    {
      "cell_type": "code",
      "metadata": {
        "id": "F6la3_TTGvsM"
      },
      "source": [
        "rec_SVR=[]\n",
        "for i in range(tol_max):\n",
        "    rec_SVR.append(rec(area_predictions_svm,y_test,i))"
      ],
      "execution_count": null,
      "outputs": []
    },
    {
      "cell_type": "code",
      "metadata": {
        "colab": {
          "base_uri": "https://localhost:8080/"
        },
        "id": "1zyfJOLh8HfK",
        "outputId": "3a84e6d0-0c4f-4542-b87b-cb78397f74be"
      },
      "source": [
        "#and for final model I want to try GBM\n",
        "\n",
        "xgb_reg = XGBRegressor()\n",
        "xgb_reg.fit(x_train, y_train)\n",
        "\n",
        "area_predictions_xgb = xgb_reg.predict(x_test)\n",
        "xgb_mse = mean_squared_error(y_test, area_predictions_xgb)\n",
        "xgb_rmse = np.sqrt(xgb_mse)\n",
        "print('xgb_train_rmse', xgb_rmse) #overfitting"
      ],
      "execution_count": 12,
      "outputs": [
        {
          "output_type": "stream",
          "text": [
            "[15:36:50] WARNING: /workspace/src/objective/regression_obj.cu:152: reg:linear is now deprecated in favor of reg:squarederror.\n",
            "xgb_train_rmse 13.634200256448175\n"
          ],
          "name": "stdout"
        }
      ]
    },
    {
      "cell_type": "code",
      "metadata": {
        "id": "EOSsaYJPG5CX"
      },
      "source": [
        "rec_XGB=[]\n",
        "for i in range(tol_max):\n",
        "    rec_XGB.append(rec(area_predictions_xgb,y_test,i))"
      ],
      "execution_count": 13,
      "outputs": []
    },
    {
      "cell_type": "markdown",
      "metadata": {
        "id": "_noRQNyXBGgR"
      },
      "source": [
        "# Gridsearch\n",
        "Finding the right parameters for machine learning models is a tricky task! But luckily, Scikit-learn has the functionality of trying a bunch of combinations and see what works best, built in with GridSearchCV! The CV stands for cross-validation.\n",
        "\n",
        "**GridSearchCV takes a dictionary that describes the parameters that should be tried and a model to train. The grid of parameters is defined as a dictionary, where the keys are the parameters and the values are the settings to be tested.**"
      ]
    },
    {
      "cell_type": "code",
      "metadata": {
        "colab": {
          "base_uri": "https://localhost:8080/"
        },
        "id": "MlGYelTO9K3m",
        "outputId": "7ddc9ab1-63fb-4afb-e995-b12f9b5f14b2"
      },
      "source": [
        "#lets improve the models with hyperparameter tuning\n",
        "\n",
        "\n",
        "param_grid = {'objective':['reg:linear'],\n",
        "              'learning_rate': [0.02,0.03,0.04], \n",
        "              'max_depth': [1,2],\n",
        "              'min_child_weight': [2,3,4],\n",
        "              'silent': [1],\n",
        "              'subsample': [0.8],\n",
        "              'colsample_bytree': [0.2,0.3,0.4],\n",
        "              'n_estimators': [50,60,70,100]}\n",
        "\n",
        "xgb_reg = XGBRegressor()\n",
        "\n",
        "xgb_grid_search = GridSearchCV(xgb_reg, param_grid, cv=5, scoring='neg_mean_squared_error', verbose=1, n_jobs=4)\n",
        "xgb_grid_search.fit(x_train,y_train)\n",
        "\n",
        "xgb_negative_mse = xgb_grid_search.best_score_\n",
        "xgb_rmse = np.sqrt(-xgb_negative_mse)\n",
        "xgb_rmse"
      ],
      "execution_count": null,
      "outputs": [
        {
          "output_type": "stream",
          "text": [
            "Fitting 5 folds for each of 216 candidates, totalling 1080 fits\n"
          ],
          "name": "stdout"
        },
        {
          "output_type": "stream",
          "text": [
            "[Parallel(n_jobs=4)]: Using backend LokyBackend with 4 concurrent workers.\n",
            "[Parallel(n_jobs=4)]: Done  42 tasks      | elapsed:    3.3s\n",
            "[Parallel(n_jobs=4)]: Done 608 tasks      | elapsed:   12.3s\n",
            "[Parallel(n_jobs=4)]: Done 1080 out of 1080 | elapsed:   20.1s finished\n"
          ],
          "name": "stderr"
        },
        {
          "output_type": "execute_result",
          "data": {
            "text/plain": [
              "13.956079048764401"
            ]
          },
          "metadata": {
            "tags": []
          },
          "execution_count": 24
        }
      ]
    },
    {
      "cell_type": "code",
      "metadata": {
        "colab": {
          "base_uri": "https://localhost:8080/"
        },
        "id": "tmA_mk9x9dZb",
        "outputId": "b7a34615-885b-410e-9910-40fb441d22cc"
      },
      "source": [
        "xgb_grid_search.best_params_"
      ],
      "execution_count": null,
      "outputs": [
        {
          "output_type": "execute_result",
          "data": {
            "text/plain": [
              "{'colsample_bytree': 0.2,\n",
              " 'learning_rate': 0.04,\n",
              " 'max_depth': 1,\n",
              " 'min_child_weight': 2,\n",
              " 'n_estimators': 50,\n",
              " 'objective': 'reg:linear',\n",
              " 'silent': 1,\n",
              " 'subsample': 0.8}"
            ]
          },
          "metadata": {
            "tags": []
          },
          "execution_count": 25
        }
      ]
    },
    {
      "cell_type": "markdown",
      "metadata": {
        "id": "D2V0twP0BMga"
      },
      "source": [
        "\n",
        "**Regression Error Characteristic (REC) estimation**\n",
        "\n",
        "Receiver Operating Characteristic (ROC) curves provide a powerful tool for visualizing and comparing classification results. Regression Error Characteristic (REC) curves generalize ROC curves to regression. REC curves plot the error tolerance on the $x-axis$ versus the percentage of points predicted within the tolerance on the $y-axis$. The resulting curve estimates the cumulative distribution function of the error. The REC curve visually presents commonly-useds tatistics. The area-over-the-curve (AOC) is a biased estimate of the expected error. The $R^2$ value can be estimated using the ratio of the AOC for a given model to the AOC for the nul-model. Users can quickly assess the relative merits of many regression functions by examining the relative position of their REC curves. The shape of the curve reveals additional information that can be used to guide modeling."
      ]
    },
    {
      "cell_type": "code",
      "metadata": {
        "id": "fwUHLolVA9OF"
      },
      "source": [
        "\n",
        "def rec(m,n,tol):\n",
        "    if type(m)!='numpy.ndarray':\n",
        "        m=np.array(m)\n",
        "    if type(n)!='numpy.ndarray':\n",
        "        n=np.array(n)\n",
        "    l=m.size\n",
        "    percent = 0\n",
        "    for i in range(l):\n",
        "        if np.abs(10**m[i]-10**n[i])<=tol:\n",
        "            percent+=1\n",
        "    return 100*(percent/l)"
      ],
      "execution_count": 6,
      "outputs": []
    },
    {
      "cell_type": "code",
      "metadata": {
        "id": "b-Bc25npA9JT"
      },
      "source": [
        "# Define the max tolerance limit for REC curve x-axis\n",
        "# For this problem this represents the absolute value of error in the prediction of the outcome i.e. area burned\n",
        "tol_max=20"
      ],
      "execution_count": 7,
      "outputs": []
    },
    {
      "cell_type": "code",
      "metadata": {
        "id": "FrD-TutBA9Hm"
      },
      "source": [
        ""
      ],
      "execution_count": null,
      "outputs": []
    },
    {
      "cell_type": "code",
      "metadata": {
        "id": "hkuHZ1qmAiXD",
        "colab": {
          "base_uri": "https://localhost:8080/",
          "height": 569
        },
        "outputId": "61493b6b-f467-42ad-afe7-1d99a3898a8b"
      },
      "source": [
        "\n",
        "\n",
        "plt.figure(figsize=(10,8))\n",
        "plt.title(\"REC curve for various models\\n\",fontsize=20)\n",
        "plt.xlabel(\"Absolute error (tolerance) in prediction ($ha$)\",fontsize=15)\n",
        "plt.ylabel(\"Percentage of correct prediction\",fontsize=15)\n",
        "plt.xticks([i for i in range(0,tol_max+1,1)],fontsize=13)\n",
        "plt.ylim(-10,100)\n",
        "plt.xlim(-2,tol_max)\n",
        "plt.yticks([i*20 for i in range(6)],fontsize=18)\n",
        "plt.grid(True)\n",
        "# plt.plot(range(tol_max),rec_XGB ,'--',lw=3)\n",
        "plt.plot(range(tol_max),rec_XGB,'k-',lw=3)\n",
        "plt.legend(['XGB'],fontsize=13)"
      ],
      "execution_count": 14,
      "outputs": [
        {
          "output_type": "execute_result",
          "data": {
            "text/plain": [
              "<matplotlib.legend.Legend at 0x7f0e78104150>"
            ]
          },
          "metadata": {
            "tags": []
          },
          "execution_count": 14
        },
        {
          "output_type": "display_data",
          "data": {
            "image/png": "[encoded data removed]",
            "text/plain": [
              "<Figure size 720x576 with 1 Axes>"
            ]
          },
          "metadata": {
            "tags": [],
            "needs_background": "light"
          }
        }
      ]
    },
    {
      "cell_type": "code",
      "metadata": {
        "id": "d6x8ydrhA1R5"
      },
      "source": [
        ""
      ],
      "execution_count": null,
      "outputs": []
    },
    {
      "cell_type": "code",
      "metadata": {
        "id": "ZvNkM64qA1Pw"
      },
      "source": [
        ""
      ],
      "execution_count": null,
      "outputs": []
    },
    {
      "cell_type": "code",
      "metadata": {
        "id": "itcWl-uhA1Ku"
      },
      "source": [
        ""
      ],
      "execution_count": null,
      "outputs": []
    },
    {
      "cell_type": "code",
      "metadata": {
        "id": "YsEVM0W7A1JG",
        "colab": {
          "base_uri": "https://localhost:8080/",
          "height": 642
        },
        "outputId": "ca757b4c-e3a4-4caf-83d4-1e41bd181b36"
      },
      "source": [
        "import matplotlib.pyplot as plt; plt.rcdefaults()\n",
        "import numpy as np\n",
        "import matplotlib.pyplot as plt\n",
        "\n",
        "objects = ('XGBoost', 'Genetic Algorithm')\n",
        "y_pos = np.arange(len(objects))\n",
        "performance = [18.57, 14.75]\n",
        "\n",
        "plt.bar(y_pos, performance, align='center', alpha=0.7, width = 0.5,)\n",
        "plt.xticks(y_pos, objects)\n",
        "plt.ylabel('Learning models')\n",
        "plt.ylabel('RMSE values')\n",
        "plt.title('Model comparison')\n",
        "\n",
        "plt.show()"
      ],
      "execution_count": 16,
      "outputs": [
        {
          "output_type": "error",
          "ename": "NameError",
          "evalue": "ignored",
          "traceback": [
            "\u001b[0;31m---------------------------------------------------------------------------\u001b[0m",
            "\u001b[0;31mNameError\u001b[0m                                 Traceback (most recent call last)",
            "\u001b[0;32m<ipython-input-16-b2ba53297b88>\u001b[0m in \u001b[0;36m<module>\u001b[0;34m()\u001b[0m\n\u001b[1;32m      8\u001b[0m \u001b[0;34m\u001b[0m\u001b[0m\n\u001b[1;32m      9\u001b[0m \u001b[0mplt\u001b[0m\u001b[0;34m.\u001b[0m\u001b[0mbar\u001b[0m\u001b[0;34m(\u001b[0m\u001b[0my_pos\u001b[0m\u001b[0;34m,\u001b[0m \u001b[0mperformance\u001b[0m\u001b[0;34m,\u001b[0m \u001b[0malign\u001b[0m\u001b[0;34m=\u001b[0m\u001b[0;34m'center'\u001b[0m\u001b[0;34m,\u001b[0m \u001b[0malpha\u001b[0m\u001b[0;34m=\u001b[0m\u001b[0;36m0.7\u001b[0m\u001b[0;34m,\u001b[0m \u001b[0mwidth\u001b[0m \u001b[0;34m=\u001b[0m \u001b[0;36m0.5\u001b[0m\u001b[0;34m,\u001b[0m\u001b[0;34m)\u001b[0m\u001b[0;34m\u001b[0m\u001b[0;34m\u001b[0m\u001b[0m\n\u001b[0;32m---> 10\u001b[0;31m \u001b[0;32mfor\u001b[0m \u001b[0mi\u001b[0m\u001b[0;34m,\u001b[0m \u001b[0mv\u001b[0m \u001b[0;32min\u001b[0m \u001b[0menumerate\u001b[0m\u001b[0;34m(\u001b[0m\u001b[0my\u001b[0m\u001b[0;34m)\u001b[0m\u001b[0;34m:\u001b[0m\u001b[0;34m\u001b[0m\u001b[0;34m\u001b[0m\u001b[0m\n\u001b[0m\u001b[1;32m     11\u001b[0m     \u001b[0mplt\u001b[0m\u001b[0;34m.\u001b[0m\u001b[0mtext\u001b[0m\u001b[0;34m(\u001b[0m\u001b[0mxlocs\u001b[0m\u001b[0;34m[\u001b[0m\u001b[0mi\u001b[0m\u001b[0;34m]\u001b[0m \u001b[0;34m-\u001b[0m \u001b[0;36m0.25\u001b[0m\u001b[0;34m,\u001b[0m \u001b[0mv\u001b[0m \u001b[0;34m+\u001b[0m \u001b[0;36m0.01\u001b[0m\u001b[0;34m,\u001b[0m \u001b[0mstr\u001b[0m\u001b[0;34m(\u001b[0m\u001b[0mv\u001b[0m\u001b[0;34m)\u001b[0m\u001b[0;34m)\u001b[0m\u001b[0;34m\u001b[0m\u001b[0;34m\u001b[0m\u001b[0m\n\u001b[1;32m     12\u001b[0m \u001b[0mplt\u001b[0m\u001b[0;34m.\u001b[0m\u001b[0mxticks\u001b[0m\u001b[0;34m(\u001b[0m\u001b[0my_pos\u001b[0m\u001b[0;34m,\u001b[0m \u001b[0mobjects\u001b[0m\u001b[0;34m)\u001b[0m\u001b[0;34m\u001b[0m\u001b[0;34m\u001b[0m\u001b[0m\n",
            "\u001b[0;31mNameError\u001b[0m: name 'y' is not defined"
          ]
        },
        {
          "output_type": "display_data",
          "data": {
            "image/png": "[encoded data removed]",
            "text/plain": [
              "<Figure size 640x480 with 1 Axes>"
            ]
          },
          "metadata": {
            "tags": []
          }
        }
      ]
    },
    {
      "cell_type": "code",
      "metadata": {
        "id": "RiP65DR0AS-X"
      },
      "source": [
        ""
      ],
      "execution_count": null,
      "outputs": []
    },
    {
      "cell_type": "markdown",
      "metadata": {
        "id": "VcVD-jO-ASAz"
      },
      "source": [
        "# New Section"
      ]
    },
    {
      "cell_type": "markdown",
      "metadata": {
        "id": "orwCFgfR-jit"
      },
      "source": [
        ""
      ]
    },
    {
      "cell_type": "markdown",
      "metadata": {
        "id": "VhqloSiB-l-H"
      },
      "source": [
        "## **Libraries**"
      ]
    },
    {
      "cell_type": "code",
      "metadata": {
        "id": "fWcrpfQKCIlz"
      },
      "source": [
        "#support python 2&3\n",
        "from __future__ import division, print_function, unicode_literals\n",
        "\n",
        "#common imports\n",
        "import os\n",
        "import numpy as np\n",
        "import pandas as pd\n",
        "import matplotlib\n",
        "import matplotlib.pyplot as plt\n",
        "import seaborn as sns\n",
        "from functools import reduce\n",
        "from operator import add\n",
        "import random\n",
        "import logging\n",
        "from tqdm import tqdm\n",
        "\n",
        "\n",
        "# For pipeline\n",
        "from sklearn.impute import SimpleImputer\n",
        "from sklearn.preprocessing import LabelEncoder, StandardScaler, MinMaxScaler, OneHotEncoder\n",
        "from sklearn.pipeline import Pipeline\n",
        "from sklearn.compose import ColumnTransformer\n",
        "\n",
        "from sklearn.model_selection import StratifiedShuffleSplit\n",
        "from sklearn.metrics import mean_squared_error\n",
        "from xgboost import XGBRegressor\n",
        "from sklearn.model_selection import GridSearchCV\n",
        "from sklearn.model_selection import RandomizedSearchCV\n",
        "\n",
        "#make notebook's output stable across runs\n",
        "np.random.seed(42)\n",
        "\n",
        "\n",
        "#Ignore useless warnings\n",
        "import warnings\n",
        "warnings.filterwarnings(action='ignore',message='^internal gelsd')\n",
        "pd.options.mode.chained_assignment = None\n",
        "\n",
        "from keras.models import Sequential\n",
        "from keras.layers import Dense, Dropout\n",
        "from keras.utils.np_utils import to_categorical\n",
        "from keras.callbacks import EarlyStopping\n",
        "from keras.wrappers.scikit_learn import KerasRegressor\n",
        "\n",
        "\n",
        "# Helper: Early stopping.\n",
        "early_stopper = EarlyStopping(patience=5)"
      ],
      "execution_count": 1,
      "outputs": []
    },
    {
      "cell_type": "markdown",
      "metadata": {
        "id": "OX8HxUMX-p-g"
      },
      "source": [
        "# **Preprocessing and NN model def**"
      ]
    },
    {
      "cell_type": "code",
      "metadata": {
        "id": "SsSpD9EyZJzj"
      },
      "source": [
        "def get_fire():\n",
        "\n",
        "    # function to load data\n",
        "    fire = pd.read_csv(\"forestfires.csv\")\n",
        "    fire.head()\n",
        "\n",
        "    months_to_remove = ['nov','jan','may']\n",
        "    forest_fire = fire.drop(fire[fire.month.isin(months_to_remove)].index ,axis=0)\n",
        "\n",
        "    #Grouping the the burnt area to get a better understanding\n",
        "    forest_fire['area_cat'] = pd.cut(forest_fire['area'], bins=[0,5, 10, 50, 100, 1100], include_lowest=True, \n",
        "                                  labels=['0-5', '5-10', '10-50', '50-100', '>100'])\n",
        "\n",
        "    # I chose to remove any area greater than 100. \n",
        "    #remove outliers\n",
        "    forest_fire.drop(forest_fire[forest_fire.area>100].index,axis=0, inplace=True)\n",
        "\n",
        "    forest_fire['temp_bins'] = pd.cut(forest_fire.temp, bins=[0, 15, 20, 25, 40], include_lowest=True, \n",
        "                                  labels=['0-15', '15-20', '20-25', '>25'])\n",
        "\n",
        "    # As, I have assumed temp is a critical indicator, to have a golden test dataset I would prefer that both train and test has equally distributed temperature conditions. Stratified shuffle split will help us maintain the required strata compositions here.\n",
        "    # try StratifiedKFold(n_splits=1, test_size=0.2, random_state=42) \n",
        "    split = StratifiedShuffleSplit(n_splits=1, test_size=0.2, random_state=42) \n",
        "    for train_index, test_index in split.split(forest_fire.values, forest_fire.temp_bins.values):\n",
        "      st_train_set = forest_fire.iloc[train_index]\n",
        "      st_test_set = forest_fire.iloc[test_index]\n",
        "\n",
        "    #now lets drop the area_cat and temp_bins \n",
        "    for _ in (st_train_set, st_test_set):\n",
        "      _.drop(['area_cat','temp_bins'], axis=1, inplace=True)\n",
        "\n",
        "    #create a fresh copy of train to preprocess\n",
        "    x_train = st_train_set.drop('area', axis=1)\n",
        "    y_train = st_train_set.area.copy()\n",
        "    categorical_attributes = list(x_train.select_dtypes(include=['object']).columns)\n",
        "    numerical_attributes = list(x_train.select_dtypes(include=['float64', 'int64']).columns)\n",
        "\n",
        "    num_pipeline = Pipeline([('imputer', SimpleImputer(strategy='median')),\n",
        "                          ('std_scaler', StandardScaler()),\n",
        "                          ])\n",
        "    full_pipeline = ColumnTransformer([('num', num_pipeline, numerical_attributes),\n",
        "                                    ('cat', OneHotEncoder(), categorical_attributes),\n",
        "                                    ])\n",
        "    x_train = full_pipeline.fit_transform(x_train)\n",
        "    # #check the train data\n",
        "    x_train = pd.DataFrame(x_train, columns= numerical_attributes[0:] + list(full_pipeline.named_transformers_.cat.categories_[0]) +\n",
        "              list(full_pipeline.named_transformers_.cat.categories_[1]))\n",
        "    x_train.pop(\"X\");\n",
        "    x_train.pop(\"Y\");\n",
        "    x_train.pop(\"apr\");\n",
        "\n",
        "\n",
        "\n",
        "    #create a fresh copy of test to preprocess\n",
        "    x_test = st_test_set.drop('area', axis=1)\n",
        "    y_test = st_test_set.area.copy()\n",
        "    categorical_attributes = list(x_test.select_dtypes(include=['object']).columns)\n",
        "    numerical_attributes = list(x_test.select_dtypes(include=['float64', 'int64']).columns)\n",
        "\n",
        "    num_pipeline = Pipeline([('imputer', SimpleImputer(strategy='median')),\n",
        "                          ('std_scaler', StandardScaler()),\n",
        "                          ])\n",
        "    full_pipeline = ColumnTransformer([('num', num_pipeline, numerical_attributes),\n",
        "                                    ('cat', OneHotEncoder(), categorical_attributes),\n",
        "                                    ])\n",
        "    x_test = full_pipeline.fit_transform(x_test)\n",
        "    # #check the test data\n",
        "    x_test = pd.DataFrame(x_test, columns= numerical_attributes[0:] + list(full_pipeline.named_transformers_.cat.categories_[0]) +\n",
        "              list(full_pipeline.named_transformers_.cat.categories_[1]))\n",
        "    x_test.pop(\"X\");\n",
        "    x_test.pop(\"Y\");\n",
        "\n",
        "    return (x_train, y_train, x_test, y_test)\n",
        "\n",
        "\n",
        "\n",
        "def compile_model(nb_neurons = 32, nb_layers = 1, activation = 'relu', optimizer = 'rmsprop'):\n",
        "\n",
        "    model = Sequential()\n",
        "    input_shape = (23,)\n",
        "    # Add each layer.\n",
        "    for i in range(nb_layers):\n",
        "\n",
        "        # Need input shape for first layer.\n",
        "        if i == 0:\n",
        "            model.add(Dense(nb_neurons, activation=activation, input_shape=input_shape))\n",
        "        else:\n",
        "            model.add(Dense(nb_neurons, activation=activation))\n",
        "\n",
        "        model.add(Dropout(0.2)) \n",
        "\n",
        "    # Output layer.\n",
        "    model.add(Dense(1, activation='linear'))\n",
        "\n",
        "    model.compile(loss='mse', optimizer=optimizer, metrics=['mse'])\n",
        "\n",
        "    return model\n",
        "\n"
      ],
      "execution_count": 2,
      "outputs": []
    },
    {
      "cell_type": "markdown",
      "metadata": {
        "id": "ouv1nKtD-3-y"
      },
      "source": [
        "# **Get the data**"
      ]
    },
    {
      "cell_type": "code",
      "metadata": {
        "id": "n-1sg7X41LMt"
      },
      "source": [
        "x_train, y_train, x_test, y_test = get_fire()\n"
      ],
      "execution_count": 3,
      "outputs": []
    },
    {
      "cell_type": "markdown",
      "metadata": {
        "id": "zYvr-fcw_id3"
      },
      "source": [
        "# **NN**"
      ]
    },
    {
      "cell_type": "code",
      "metadata": {
        "colab": {
          "base_uri": "https://localhost:8080/"
        },
        "id": "W0E8gAyM_jEE",
        "outputId": "eea27ccd-8148-49f1-df78-d71eee423ce0"
      },
      "source": [
        "model = compile_model()\n",
        "model.fit(x_train, y_train, batch_size = 10, epochs = 20, verbose = 0, callbacks = [early_stopper], validation_data=(x_test, y_test)) # using early stoping, so no real limit\n",
        "y_pred= model.predict(x_test)\n",
        "model_mse = mean_squared_error(y_test, y_pred)\n",
        "model_rmse = np.sqrt(model_mse)\n",
        "model_rmse"
      ],
      "execution_count": 4,
      "outputs": [
        {
          "output_type": "execute_result",
          "data": {
            "text/plain": [
              "13.784375982394748"
            ]
          },
          "metadata": {
            "tags": []
          },
          "execution_count": 4
        }
      ]
    },
    {
      "cell_type": "markdown",
      "metadata": {
        "id": "s3_28OIq_BwD"
      },
      "source": [
        "# **NN and grid search**"
      ]
    },
    {
      "cell_type": "markdown",
      "metadata": {
        "id": "XGFjsjZF_Bs1"
      },
      "source": [
        ""
      ]
    },
    {
      "cell_type": "code",
      "metadata": {
        "colab": {
          "base_uri": "https://localhost:8080/",
          "height": 538
        },
        "id": "H8EoE_Yg7_ab",
        "outputId": "a4b4ff86-a263-463b-b894-b9254272efe8"
      },
      "source": [
        "#lets improve the models with hyperparameter tuning\n",
        "\n",
        "param_grid = {\n",
        "        'nb_neurons': [8, 16, 32, 64, 128, 256, 512],\n",
        "        'nb_layers': [1, 2, 3, 4, 5],\n",
        "        'activation': ['relu', 'elu', 'tanh', 'linear'],\n",
        "        'optimizer': ['rmsprop', 'adam', 'sgd', 'adagrad',\n",
        "                      'adadelta', 'adamax'],\n",
        "    }\n",
        "\n",
        "nn = KerasRegressor(build_fn=compile_model, epochs=20, batch_size=10, verbose=0)\n",
        "\n",
        "nn_grid_search = GridSearchCV(nn, param_grid, cv=5, scoring='neg_mean_squared_error', verbose=1, n_jobs=5)\n",
        "nn_grid_search.fit(x_train,y_train)\n",
        "\n",
        "nn_negative_mse = nn_grid_search.best_score_\n",
        "nn_rmse = np.sqrt(-nn_negative_mse)\n",
        "nn_rmse"
      ],
      "execution_count": 4,
      "outputs": [
        {
          "output_type": "stream",
          "text": [
            "Fitting 5 folds for each of 840 candidates, totalling 4200 fits\n"
          ],
          "name": "stdout"
        },
        {
          "output_type": "stream",
          "text": [
            "[Parallel(n_jobs=5)]: Using backend LokyBackend with 5 concurrent workers.\n",
            "[Parallel(n_jobs=5)]: Done  40 tasks      | elapsed:   53.5s\n",
            "[Parallel(n_jobs=5)]: Done 190 tasks      | elapsed:  3.0min\n",
            "[Parallel(n_jobs=5)]: Done 440 tasks      | elapsed:  7.0min\n",
            "[Parallel(n_jobs=5)]: Done 790 tasks      | elapsed: 13.4min\n",
            "[Parallel(n_jobs=5)]: Done 1240 tasks      | elapsed: 21.5min\n",
            "[Parallel(n_jobs=5)]: Done 1790 tasks      | elapsed: 30.8min\n",
            "[Parallel(n_jobs=5)]: Done 2440 tasks      | elapsed: 42.2min\n",
            "[Parallel(n_jobs=5)]: Done 3190 tasks      | elapsed: 56.1min\n"
          ],
          "name": "stderr"
        },
        {
          "output_type": "error",
          "ename": "KeyboardInterrupt",
          "evalue": "ignored",
          "traceback": [
            "\u001b[0;31m---------------------------------------------------------------------------\u001b[0m",
            "\u001b[0;31mKeyboardInterrupt\u001b[0m                         Traceback (most recent call last)",
            "\u001b[0;32m<ipython-input-4-25fa382b147f>\u001b[0m in \u001b[0;36m<module>\u001b[0;34m()\u001b[0m\n\u001b[1;32m     15\u001b[0m \u001b[0;34m\u001b[0m\u001b[0m\n\u001b[1;32m     16\u001b[0m \u001b[0mnn_grid_search\u001b[0m \u001b[0;34m=\u001b[0m \u001b[0mGridSearchCV\u001b[0m\u001b[0;34m(\u001b[0m\u001b[0mnn\u001b[0m\u001b[0;34m,\u001b[0m \u001b[0mparam_grid\u001b[0m\u001b[0;34m,\u001b[0m \u001b[0mcv\u001b[0m\u001b[0;34m=\u001b[0m\u001b[0;36m5\u001b[0m\u001b[0;34m,\u001b[0m \u001b[0mscoring\u001b[0m\u001b[0;34m=\u001b[0m\u001b[0;34m'neg_mean_squared_error'\u001b[0m\u001b[0;34m,\u001b[0m \u001b[0mverbose\u001b[0m\u001b[0;34m=\u001b[0m\u001b[0;36m1\u001b[0m\u001b[0;34m,\u001b[0m \u001b[0mn_jobs\u001b[0m\u001b[0;34m=\u001b[0m\u001b[0;36m5\u001b[0m\u001b[0;34m)\u001b[0m\u001b[0;34m\u001b[0m\u001b[0;34m\u001b[0m\u001b[0m\n\u001b[0;32m---> 17\u001b[0;31m \u001b[0mnn_grid_search\u001b[0m\u001b[0;34m.\u001b[0m\u001b[0mfit\u001b[0m\u001b[0;34m(\u001b[0m\u001b[0mx_train\u001b[0m\u001b[0;34m,\u001b[0m\u001b[0my_train\u001b[0m\u001b[0;34m)\u001b[0m\u001b[0;34m\u001b[0m\u001b[0;34m\u001b[0m\u001b[0m\n\u001b[0m\u001b[1;32m     18\u001b[0m \u001b[0;34m\u001b[0m\u001b[0m\n\u001b[1;32m     19\u001b[0m \u001b[0mnn_negative_mse\u001b[0m \u001b[0;34m=\u001b[0m \u001b[0mnn_grid_search\u001b[0m\u001b[0;34m.\u001b[0m\u001b[0mbest_score_\u001b[0m\u001b[0;34m\u001b[0m\u001b[0;34m\u001b[0m\u001b[0m\n",
            "\u001b[0;32m/usr/local/lib/python3.7/dist-packages/sklearn/model_selection/_search.py\u001b[0m in \u001b[0;36mfit\u001b[0;34m(self, X, y, groups, **fit_params)\u001b[0m\n\u001b[1;32m    708\u001b[0m                 \u001b[0;32mreturn\u001b[0m \u001b[0mresults\u001b[0m\u001b[0;34m\u001b[0m\u001b[0;34m\u001b[0m\u001b[0m\n\u001b[1;32m    709\u001b[0m \u001b[0;34m\u001b[0m\u001b[0m\n\u001b[0;32m--> 710\u001b[0;31m             \u001b[0mself\u001b[0m\u001b[0;34m.\u001b[0m\u001b[0m_run_search\u001b[0m\u001b[0;34m(\u001b[0m\u001b[0mevaluate_candidates\u001b[0m\u001b[0;34m)\u001b[0m\u001b[0;34m\u001b[0m\u001b[0;34m\u001b[0m\u001b[0m\n\u001b[0m\u001b[1;32m    711\u001b[0m \u001b[0;34m\u001b[0m\u001b[0m\n\u001b[1;32m    712\u001b[0m         \u001b[0;31m# For multi-metric evaluation, store the best_index_, best_params_ and\u001b[0m\u001b[0;34m\u001b[0m\u001b[0;34m\u001b[0m\u001b[0;34m\u001b[0m\u001b[0m\n",
            "\u001b[0;32m/usr/local/lib/python3.7/dist-packages/sklearn/model_selection/_search.py\u001b[0m in \u001b[0;36m_run_search\u001b[0;34m(self, evaluate_candidates)\u001b[0m\n\u001b[1;32m   1149\u001b[0m     \u001b[0;32mdef\u001b[0m \u001b[0m_run_search\u001b[0m\u001b[0;34m(\u001b[0m\u001b[0mself\u001b[0m\u001b[0;34m,\u001b[0m \u001b[0mevaluate_candidates\u001b[0m\u001b[0;34m)\u001b[0m\u001b[0;34m:\u001b[0m\u001b[0;34m\u001b[0m\u001b[0;34m\u001b[0m\u001b[0m\n\u001b[1;32m   1150\u001b[0m         \u001b[0;34m\"\"\"Search all candidates in param_grid\"\"\"\u001b[0m\u001b[0;34m\u001b[0m\u001b[0;34m\u001b[0m\u001b[0m\n\u001b[0;32m-> 1151\u001b[0;31m         \u001b[0mevaluate_candidates\u001b[0m\u001b[0;34m(\u001b[0m\u001b[0mParameterGrid\u001b[0m\u001b[0;34m(\u001b[0m\u001b[0mself\u001b[0m\u001b[0;34m.\u001b[0m\u001b[0mparam_grid\u001b[0m\u001b[0;34m)\u001b[0m\u001b[0;34m)\u001b[0m\u001b[0;34m\u001b[0m\u001b[0;34m\u001b[0m\u001b[0m\n\u001b[0m\u001b[1;32m   1152\u001b[0m \u001b[0;34m\u001b[0m\u001b[0m\n\u001b[1;32m   1153\u001b[0m \u001b[0;34m\u001b[0m\u001b[0m\n",
            "\u001b[0;32m/usr/local/lib/python3.7/dist-packages/sklearn/model_selection/_search.py\u001b[0m in \u001b[0;36mevaluate_candidates\u001b[0;34m(candidate_params)\u001b[0m\n\u001b[1;32m    687\u001b[0m                                \u001b[0;32mfor\u001b[0m \u001b[0mparameters\u001b[0m\u001b[0;34m,\u001b[0m \u001b[0;34m(\u001b[0m\u001b[0mtrain\u001b[0m\u001b[0;34m,\u001b[0m \u001b[0mtest\u001b[0m\u001b[0;34m)\u001b[0m\u001b[0;34m\u001b[0m\u001b[0;34m\u001b[0m\u001b[0m\n\u001b[1;32m    688\u001b[0m                                in product(candidate_params,\n\u001b[0;32m--> 689\u001b[0;31m                                           cv.split(X, y, groups)))\n\u001b[0m\u001b[1;32m    690\u001b[0m \u001b[0;34m\u001b[0m\u001b[0m\n\u001b[1;32m    691\u001b[0m                 \u001b[0;32mif\u001b[0m \u001b[0mlen\u001b[0m\u001b[0;34m(\u001b[0m\u001b[0mout\u001b[0m\u001b[0;34m)\u001b[0m \u001b[0;34m<\u001b[0m \u001b[0;36m1\u001b[0m\u001b[0;34m:\u001b[0m\u001b[0;34m\u001b[0m\u001b[0;34m\u001b[0m\u001b[0m\n",
            "\u001b[0;32m/usr/local/lib/python3.7/dist-packages/joblib/parallel.py\u001b[0m in \u001b[0;36m__call__\u001b[0;34m(self, iterable)\u001b[0m\n\u001b[1;32m   1052\u001b[0m \u001b[0;34m\u001b[0m\u001b[0m\n\u001b[1;32m   1053\u001b[0m             \u001b[0;32mwith\u001b[0m \u001b[0mself\u001b[0m\u001b[0;34m.\u001b[0m\u001b[0m_backend\u001b[0m\u001b[0;34m.\u001b[0m\u001b[0mretrieval_context\u001b[0m\u001b[0;34m(\u001b[0m\u001b[0;34m)\u001b[0m\u001b[0;34m:\u001b[0m\u001b[0;34m\u001b[0m\u001b[0;34m\u001b[0m\u001b[0m\n\u001b[0;32m-> 1054\u001b[0;31m                 \u001b[0mself\u001b[0m\u001b[0;34m.\u001b[0m\u001b[0mretrieve\u001b[0m\u001b[0;34m(\u001b[0m\u001b[0;34m)\u001b[0m\u001b[0;34m\u001b[0m\u001b[0;34m\u001b[0m\u001b[0m\n\u001b[0m\u001b[1;32m   1055\u001b[0m             \u001b[0;31m# Make sure that we get a last message telling us we are done\u001b[0m\u001b[0;34m\u001b[0m\u001b[0;34m\u001b[0m\u001b[0;34m\u001b[0m\u001b[0m\n\u001b[1;32m   1056\u001b[0m             \u001b[0melapsed_time\u001b[0m \u001b[0;34m=\u001b[0m \u001b[0mtime\u001b[0m\u001b[0;34m.\u001b[0m\u001b[0mtime\u001b[0m\u001b[0;34m(\u001b[0m\u001b[0;34m)\u001b[0m \u001b[0;34m-\u001b[0m \u001b[0mself\u001b[0m\u001b[0;34m.\u001b[0m\u001b[0m_start_time\u001b[0m\u001b[0;34m\u001b[0m\u001b[0;34m\u001b[0m\u001b[0m\n",
            "\u001b[0;32m/usr/local/lib/python3.7/dist-packages/joblib/parallel.py\u001b[0m in \u001b[0;36mretrieve\u001b[0;34m(self)\u001b[0m\n\u001b[1;32m    931\u001b[0m             \u001b[0;32mtry\u001b[0m\u001b[0;34m:\u001b[0m\u001b[0;34m\u001b[0m\u001b[0;34m\u001b[0m\u001b[0m\n\u001b[1;32m    932\u001b[0m                 \u001b[0;32mif\u001b[0m \u001b[0mgetattr\u001b[0m\u001b[0;34m(\u001b[0m\u001b[0mself\u001b[0m\u001b[0;34m.\u001b[0m\u001b[0m_backend\u001b[0m\u001b[0;34m,\u001b[0m \u001b[0;34m'supports_timeout'\u001b[0m\u001b[0;34m,\u001b[0m \u001b[0;32mFalse\u001b[0m\u001b[0;34m)\u001b[0m\u001b[0;34m:\u001b[0m\u001b[0;34m\u001b[0m\u001b[0;34m\u001b[0m\u001b[0m\n\u001b[0;32m--> 933\u001b[0;31m                     \u001b[0mself\u001b[0m\u001b[0;34m.\u001b[0m\u001b[0m_output\u001b[0m\u001b[0;34m.\u001b[0m\u001b[0mextend\u001b[0m\u001b[0;34m(\u001b[0m\u001b[0mjob\u001b[0m\u001b[0;34m.\u001b[0m\u001b[0mget\u001b[0m\u001b[0;34m(\u001b[0m\u001b[0mtimeout\u001b[0m\u001b[0;34m=\u001b[0m\u001b[0mself\u001b[0m\u001b[0;34m.\u001b[0m\u001b[0mtimeout\u001b[0m\u001b[0;34m)\u001b[0m\u001b[0;34m)\u001b[0m\u001b[0;34m\u001b[0m\u001b[0;34m\u001b[0m\u001b[0m\n\u001b[0m\u001b[1;32m    934\u001b[0m                 \u001b[0;32melse\u001b[0m\u001b[0;34m:\u001b[0m\u001b[0;34m\u001b[0m\u001b[0;34m\u001b[0m\u001b[0m\n\u001b[1;32m    935\u001b[0m                     \u001b[0mself\u001b[0m\u001b[0;34m.\u001b[0m\u001b[0m_output\u001b[0m\u001b[0;34m.\u001b[0m\u001b[0mextend\u001b[0m\u001b[0;34m(\u001b[0m\u001b[0mjob\u001b[0m\u001b[0;34m.\u001b[0m\u001b[0mget\u001b[0m\u001b[0;34m(\u001b[0m\u001b[0;34m)\u001b[0m\u001b[0;34m)\u001b[0m\u001b[0;34m\u001b[0m\u001b[0;34m\u001b[0m\u001b[0m\n",
            "\u001b[0;32m/usr/local/lib/python3.7/dist-packages/joblib/_parallel_backends.py\u001b[0m in \u001b[0;36mwrap_future_result\u001b[0;34m(future, timeout)\u001b[0m\n\u001b[1;32m    540\u001b[0m         AsyncResults.get from multiprocessing.\"\"\"\n\u001b[1;32m    541\u001b[0m         \u001b[0;32mtry\u001b[0m\u001b[0;34m:\u001b[0m\u001b[0;34m\u001b[0m\u001b[0;34m\u001b[0m\u001b[0m\n\u001b[0;32m--> 542\u001b[0;31m             \u001b[0;32mreturn\u001b[0m \u001b[0mfuture\u001b[0m\u001b[0;34m.\u001b[0m\u001b[0mresult\u001b[0m\u001b[0;34m(\u001b[0m\u001b[0mtimeout\u001b[0m\u001b[0;34m=\u001b[0m\u001b[0mtimeout\u001b[0m\u001b[0;34m)\u001b[0m\u001b[0;34m\u001b[0m\u001b[0;34m\u001b[0m\u001b[0m\n\u001b[0m\u001b[1;32m    543\u001b[0m         \u001b[0;32mexcept\u001b[0m \u001b[0mCfTimeoutError\u001b[0m \u001b[0;32mas\u001b[0m \u001b[0me\u001b[0m\u001b[0;34m:\u001b[0m\u001b[0;34m\u001b[0m\u001b[0;34m\u001b[0m\u001b[0m\n\u001b[1;32m    544\u001b[0m             \u001b[0;32mraise\u001b[0m \u001b[0mTimeoutError\u001b[0m \u001b[0;32mfrom\u001b[0m \u001b[0me\u001b[0m\u001b[0;34m\u001b[0m\u001b[0;34m\u001b[0m\u001b[0m\n",
            "\u001b[0;32m/usr/lib/python3.7/concurrent/futures/_base.py\u001b[0m in \u001b[0;36mresult\u001b[0;34m(self, timeout)\u001b[0m\n\u001b[1;32m    428\u001b[0m                 \u001b[0;32mreturn\u001b[0m \u001b[0mself\u001b[0m\u001b[0;34m.\u001b[0m\u001b[0m__get_result\u001b[0m\u001b[0;34m(\u001b[0m\u001b[0;34m)\u001b[0m\u001b[0;34m\u001b[0m\u001b[0;34m\u001b[0m\u001b[0m\n\u001b[1;32m    429\u001b[0m \u001b[0;34m\u001b[0m\u001b[0m\n\u001b[0;32m--> 430\u001b[0;31m             \u001b[0mself\u001b[0m\u001b[0;34m.\u001b[0m\u001b[0m_condition\u001b[0m\u001b[0;34m.\u001b[0m\u001b[0mwait\u001b[0m\u001b[0;34m(\u001b[0m\u001b[0mtimeout\u001b[0m\u001b[0;34m)\u001b[0m\u001b[0;34m\u001b[0m\u001b[0;34m\u001b[0m\u001b[0m\n\u001b[0m\u001b[1;32m    431\u001b[0m \u001b[0;34m\u001b[0m\u001b[0m\n\u001b[1;32m    432\u001b[0m             \u001b[0;32mif\u001b[0m \u001b[0mself\u001b[0m\u001b[0;34m.\u001b[0m\u001b[0m_state\u001b[0m \u001b[0;32min\u001b[0m \u001b[0;34m[\u001b[0m\u001b[0mCANCELLED\u001b[0m\u001b[0;34m,\u001b[0m \u001b[0mCANCELLED_AND_NOTIFIED\u001b[0m\u001b[0;34m]\u001b[0m\u001b[0;34m:\u001b[0m\u001b[0;34m\u001b[0m\u001b[0;34m\u001b[0m\u001b[0m\n",
            "\u001b[0;32m/usr/lib/python3.7/threading.py\u001b[0m in \u001b[0;36mwait\u001b[0;34m(self, timeout)\u001b[0m\n\u001b[1;32m    294\u001b[0m         \u001b[0;32mtry\u001b[0m\u001b[0;34m:\u001b[0m    \u001b[0;31m# restore state no matter what (e.g., KeyboardInterrupt)\u001b[0m\u001b[0;34m\u001b[0m\u001b[0;34m\u001b[0m\u001b[0m\n\u001b[1;32m    295\u001b[0m             \u001b[0;32mif\u001b[0m \u001b[0mtimeout\u001b[0m \u001b[0;32mis\u001b[0m \u001b[0;32mNone\u001b[0m\u001b[0;34m:\u001b[0m\u001b[0;34m\u001b[0m\u001b[0;34m\u001b[0m\u001b[0m\n\u001b[0;32m--> 296\u001b[0;31m                 \u001b[0mwaiter\u001b[0m\u001b[0;34m.\u001b[0m\u001b[0macquire\u001b[0m\u001b[0;34m(\u001b[0m\u001b[0;34m)\u001b[0m\u001b[0;34m\u001b[0m\u001b[0;34m\u001b[0m\u001b[0m\n\u001b[0m\u001b[1;32m    297\u001b[0m                 \u001b[0mgotit\u001b[0m \u001b[0;34m=\u001b[0m \u001b[0;32mTrue\u001b[0m\u001b[0;34m\u001b[0m\u001b[0;34m\u001b[0m\u001b[0m\n\u001b[1;32m    298\u001b[0m             \u001b[0;32melse\u001b[0m\u001b[0;34m:\u001b[0m\u001b[0;34m\u001b[0m\u001b[0;34m\u001b[0m\u001b[0m\n",
            "\u001b[0;31mKeyboardInterrupt\u001b[0m: "
          ]
        }
      ]
    },
    {
      "cell_type": "markdown",
      "metadata": {
        "id": "ymPbmb68_I9L"
      },
      "source": [
        "# **NN and random search**"
      ]
    },
    {
      "cell_type": "code",
      "metadata": {
        "colab": {
          "base_uri": "https://localhost:8080/"
        },
        "id": "5L3Sbtbp-dxe",
        "outputId": "d12b61fc-bd2f-4258-fb26-85c501463a89"
      },
      "source": [
        "#lets improve the models with hyperparameter tuning\n",
        "\n",
        "param_grid = {\n",
        "        'nb_neurons': [8, 16, 32, 64, 128, 256, 512],\n",
        "        'nb_layers': [1, 2, 3, 4, 5],\n",
        "        'activation': ['relu', 'elu', 'tanh', 'linear'],\n",
        "        'optimizer': ['rmsprop', 'adam', 'sgd', 'adagrad',\n",
        "                      'adadelta', 'adamax'],\n",
        "    }\n",
        "\n",
        "# nn = compile_model(input_shape)\n",
        "\n",
        "# xgb_reg = XGBRegressor()\n",
        "nn = KerasRegressor(build_fn=compile_model, epochs=20, batch_size=10, verbose=0)\n",
        "\n",
        "nn_grid_search = RandomizedSearchCV(nn, param_grid, cv=5, scoring='neg_mean_squared_error', verbose=1, n_jobs=5)\n",
        "nn_grid_search.fit(x_train,y_train)\n",
        "\n",
        "nn_negative_mse = nn_grid_search.best_score_\n",
        "nn_rmse = np.sqrt(-nn_negative_mse)\n",
        "nn_rmse"
      ],
      "execution_count": 5,
      "outputs": [
        {
          "output_type": "stream",
          "text": [
            "Fitting 5 folds for each of 10 candidates, totalling 50 fits\n"
          ],
          "name": "stdout"
        },
        {
          "output_type": "stream",
          "text": [
            "[Parallel(n_jobs=5)]: Using backend LokyBackend with 5 concurrent workers.\n",
            "[Parallel(n_jobs=5)]: Done  40 tasks      | elapsed:  1.3min\n",
            "[Parallel(n_jobs=5)]: Done  50 out of  50 | elapsed:  1.6min finished\n"
          ],
          "name": "stderr"
        },
        {
          "output_type": "execute_result",
          "data": {
            "text/plain": [
              "14.102416970251172"
            ]
          },
          "metadata": {
            "tags": []
          },
          "execution_count": 5
        }
      ]
    },
    {
      "cell_type": "markdown",
      "metadata": {
        "id": "qUNrqPpg_LIX"
      },
      "source": [
        "# **XGBoost and grid search**"
      ]
    },
    {
      "cell_type": "code",
      "metadata": {
        "colab": {
          "base_uri": "https://localhost:8080/"
        },
        "id": "eAeb3FWF1E4s",
        "outputId": "22a4b991-9ee1-42c8-f832-d5d564206a1b"
      },
      "source": [
        "#lets improve the models with hyperparameter tuning\n",
        "\n",
        "\n",
        "param_grid = {'objective':['reg:linear'],\n",
        "              'learning_rate': [0.02,0.03,0.04], \n",
        "              'max_depth': [1,2],\n",
        "              'min_child_weight': [2,3,4],\n",
        "              'silent': [1],\n",
        "              'subsample': [0.8],\n",
        "              'colsample_bytree': [0.2,0.3,0.4],\n",
        "              'n_estimators': [50,60,70,100]}\n",
        "\n",
        "xgb_reg_grid = XGBRegressor()\n",
        "\n",
        "xgb_grid_search = GridSearchCV(xgb_reg_grid, param_grid, cv=5, scoring='neg_mean_squared_error', verbose=1, n_jobs=4)\n",
        "xgb_grid_search.fit(x_train,y_train)\n",
        "\n",
        "xgb_negative_mse = xgb_grid_search.best_score_\n",
        "xgb_rmse_grid = np.sqrt(-xgb_negative_mse)\n",
        "xgb_rmse_grid"
      ],
      "execution_count": 10,
      "outputs": [
        {
          "output_type": "stream",
          "text": [
            "Fitting 5 folds for each of 216 candidates, totalling 1080 fits\n"
          ],
          "name": "stdout"
        },
        {
          "output_type": "stream",
          "text": [
            "[Parallel(n_jobs=4)]: Using backend LokyBackend with 4 concurrent workers.\n",
            "[Parallel(n_jobs=4)]: Done  48 tasks      | elapsed:    4.2s\n",
            "[Parallel(n_jobs=4)]: Done 348 tasks      | elapsed:    9.3s\n",
            "[Parallel(n_jobs=4)]: Done 848 tasks      | elapsed:   18.3s\n",
            "[Parallel(n_jobs=4)]: Done 1080 out of 1080 | elapsed:   22.6s finished\n"
          ],
          "name": "stderr"
        },
        {
          "output_type": "execute_result",
          "data": {
            "text/plain": [
              "13.956079048764401"
            ]
          },
          "metadata": {
            "tags": []
          },
          "execution_count": 10
        }
      ]
    },
    {
      "cell_type": "markdown",
      "metadata": {
        "id": "BSdD3d-D_O76"
      },
      "source": [
        "# **XGBoost and random search**"
      ]
    },
    {
      "cell_type": "code",
      "metadata": {
        "colab": {
          "base_uri": "https://localhost:8080/"
        },
        "id": "8L66gmnS1Hzq",
        "outputId": "16fa15ab-f98b-4d8d-9f4a-ed10353cc0c5"
      },
      "source": [
        "#lets improve the models with hyperparameter tuning\n",
        "\n",
        "\n",
        "param_rand = {'objective':['reg:linear'],\n",
        "              'learning_rate': [0.02,0.03,0.04], \n",
        "              'max_depth': [1,2],\n",
        "              'min_child_weight': [2,3,4],\n",
        "              'silent': [1],\n",
        "              'subsample': [0.8],\n",
        "              'colsample_bytree': [0.2,0.3,0.4],\n",
        "              'n_estimators': [50,60,70,100]}\n",
        "\n",
        "xgb_reg_rand = XGBRegressor()\n",
        "\n",
        "xgb_rand_search = RandomizedSearchCV(xgb_reg_rand, param_grid, cv=5, scoring='neg_mean_squared_error', verbose=1, n_jobs=4)\n",
        "xgb_rand_search.fit(x_train,y_train)\n",
        "\n",
        "xgb_negative_mse = xgb_rand_search.best_score_\n",
        "xgb_rmse_rnd = np.sqrt(-xgb_negative_mse)\n",
        "xgb_rmse_rnd"
      ],
      "execution_count": 11,
      "outputs": [
        {
          "output_type": "stream",
          "text": [
            "Fitting 5 folds for each of 10 candidates, totalling 50 fits\n"
          ],
          "name": "stdout"
        },
        {
          "output_type": "stream",
          "text": [
            "[Parallel(n_jobs=4)]: Using backend LokyBackend with 4 concurrent workers.\n",
            "[Parallel(n_jobs=4)]: Done  50 out of  50 | elapsed:    1.1s finished\n"
          ],
          "name": "stderr"
        },
        {
          "output_type": "execute_result",
          "data": {
            "text/plain": [
              "14.009516792981753"
            ]
          },
          "metadata": {
            "tags": []
          },
          "execution_count": 11
        }
      ]
    },
    {
      "cell_type": "code",
      "metadata": {
        "id": "BL860a-v_geA"
      },
      "source": [
        ""
      ],
      "execution_count": null,
      "outputs": []
    },
    {
      "cell_type": "code",
      "metadata": {
        "id": "0zdtgEzj_gbD"
      },
      "source": [
        ""
      ],
      "execution_count": null,
      "outputs": []
    },
    {
      "cell_type": "code",
      "metadata": {
        "id": "RD1r-H3a_gYW"
      },
      "source": [
        ""
      ],
      "execution_count": null,
      "outputs": []
    },
    {
      "cell_type": "code",
      "metadata": {
        "id": "PvRsTOt-_gVb"
      },
      "source": [
        ""
      ],
      "execution_count": null,
      "outputs": []
    },
    {
      "cell_type": "code",
      "metadata": {
        "id": "0idm_B5E_gTJ"
      },
      "source": [
        ""
      ],
      "execution_count": null,
      "outputs": []
    },
    {
      "cell_type": "code",
      "metadata": {
        "id": "EGJ24uhSMzo1"
      },
      "source": [
        "from sklearn.metrics import mean_absolute_error, mean_squared_error, r2_score"
      ],
      "execution_count": 18,
      "outputs": []
    },
    {
      "cell_type": "code",
      "metadata": {
        "colab": {
          "base_uri": "https://localhost:8080/"
        },
        "id": "sT0D3GNMMbSN",
        "outputId": "a7881884-9b4c-479f-9680-2a26e5e5ec69"
      },
      "source": [
        "print('R-squared: {}'.format(r2_score(y_test, y_pred)))"
      ],
      "execution_count": 24,
      "outputs": [
        {
          "output_type": "stream",
          "text": [
            "R-squared: -0.146048062706861\n"
          ],
          "name": "stdout"
        }
      ]
    },
    {
      "cell_type": "code",
      "metadata": {
        "colab": {
          "base_uri": "https://localhost:8080/"
        },
        "id": "8nfd0nqYiukF",
        "outputId": "21de71bc-bc2e-44a1-9b45-69cc7c09b7ae"
      },
      "source": [
        "model = compile_model()\n",
        "model.fit(x_train, y_train, batch_size = 10, epochs = 20, verbose = 0, callbacks = [early_stopper], validation_data=(x_test, y_test)) # using early stoping, so no real limit\n",
        "y_pred= model.predict(x_test)\n",
        "model_mse = mean_squared_error(y_test, y_pred)\n",
        "model_rmse = np.sqrt(model_mse)\n",
        "model_rmse"
      ],
      "execution_count": 6,
      "outputs": [
        {
          "output_type": "execute_result",
          "data": {
            "text/plain": [
              "13.715440584875005"
            ]
          },
          "metadata": {
            "tags": []
          },
          "execution_count": 6
        }
      ]
    },
    {
      "cell_type": "code",
      "metadata": {
        "id": "-hCIjz4uCOzQ"
      },
      "source": [
        "rec_nn=[]\n",
        "for i in range(tol_max):\n",
        "    rec_nn.append(rec(y_pred, y_test,i))"
      ],
      "execution_count": 8,
      "outputs": []
    },
    {
      "cell_type": "code",
      "metadata": {
        "colab": {
          "base_uri": "https://localhost:8080/",
          "height": 569
        },
        "id": "_d3-0WJ2juIb",
        "outputId": "11e45f58-1166-45ce-c09a-efcf0e698f6f"
      },
      "source": [
        "plt.figure(figsize=(10,8))\n",
        "plt.title(\"REC curve for various models\\n\",fontsize=20)\n",
        "plt.xlabel(\"Absolute error (tolerance) in prediction ($ha$)\",fontsize=15)\n",
        "plt.ylabel(\"Percentage of correct prediction\",fontsize=15)\n",
        "plt.xticks([i for i in range(0,tol_max+1,1)],fontsize=13)\n",
        "plt.ylim(-10,100)\n",
        "plt.xlim(-2,tol_max)\n",
        "plt.yticks([i*20 for i in range(6)],fontsize=18)\n",
        "plt.grid(True)\n",
        "# plt.plot(range(tol_max),rec_XGB ,'--',lw=3)\n",
        "plt.plot(range(tol_max),rec_nn,'k-',lw=3)\n",
        "plt.legend(['nn'],fontsize=13)"
      ],
      "execution_count": 9,
      "outputs": [
        {
          "output_type": "execute_result",
          "data": {
            "text/plain": [
              "<matplotlib.legend.Legend at 0x7f0e67de0110>"
            ]
          },
          "metadata": {
            "tags": []
          },
          "execution_count": 9
        },
        {
          "output_type": "display_data",
          "data": {
            "image/png": "[encoded data removed]",
            "text/plain": [
              "<Figure size 720x576 with 1 Axes>"
            ]
          },
          "metadata": {
            "tags": [],
            "needs_background": "light"
          }
        }
      ]
    },
    {
      "cell_type": "code",
      "metadata": {
        "colab": {
          "base_uri": "https://localhost:8080/",
          "height": 569
        },
        "id": "bNke7WrSCdj4",
        "outputId": "da779720-4aea-43b6-e26b-f1357f8442b5"
      },
      "source": [
        "plt.figure(figsize=(10,8))\n",
        "plt.title(\"REC curve for various models\\n\",fontsize=20)\n",
        "plt.xlabel(\"Absolute error (tolerance) in prediction ($ha$)\",fontsize=15)\n",
        "plt.ylabel(\"Percentage of correct prediction\",fontsize=15)\n",
        "plt.xticks([i for i in range(0,tol_max+1,1)],fontsize=13)\n",
        "plt.ylim(-10,100)\n",
        "plt.xlim(-2,tol_max)\n",
        "plt.yticks([i*20 for i in range(6)],fontsize=18)\n",
        "plt.grid(True)\n",
        "# plt.plot(range(tol_max),rec_XGB ,'--',lw=3)\n",
        "plt.plot(range(tol_max),rec_nn,'k-',lw=3)\n",
        "plt.legend(['nn'],fontsize=13)"
      ],
      "execution_count": 12,
      "outputs": [
        {
          "output_type": "execute_result",
          "data": {
            "text/plain": [
              "<matplotlib.legend.Legend at 0x7f80b8f09e10>"
            ]
          },
          "metadata": {
            "tags": []
          },
          "execution_count": 12
        },
        {
          "output_type": "display_data",
          "data": {
            "image/png": "[encoded data removed]",
            "text/plain": [
              "<Figure size 720x576 with 1 Axes>"
            ]
          },
          "metadata": {
            "tags": [],
            "needs_background": "light"
          }
        }
      ]
    },
    {
      "cell_type": "code",
      "metadata": {
        "id": "5ut2oKEXClrX"
      },
      "source": [
        ""
      ],
      "execution_count": null,
      "outputs": []
    }
  ]
}